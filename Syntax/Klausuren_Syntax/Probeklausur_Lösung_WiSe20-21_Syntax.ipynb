{
 "cells": [
  {
   "cell_type": "markdown",
   "metadata": {
    "slideshow": {
     "slide_type": "slide"
    }
   },
   "source": [
    "***Vorlesung 'Syntax natürlicher Sprachen' 2020/21***\n",
    "\n",
    "--- \n",
    "# Probeklausur: Syntax natürlicher Sprachen"
   ]
  },
  {
   "cell_type": "markdown",
   "metadata": {},
   "source": [
    "## Übersicht\n",
    "\n",
    "- [Hinweise zur Bearbeitung](#Hinweise-zur-Bearbeitungsversion-des-Notebooks)\n",
    "- [Hilfsmittel: Dependenz Tags](#Hilfsmittel:-Dependenz-Tags)\n",
    "- [Laden von Paketen](#Laden-von-Paketen)\n",
    "\n",
    "\n",
    "1. [Temporale-Ambiguität](#1.-Temporale-Ambiguität)\n",
    "2. [Syntaktische Ambiguität](#2.-Syntaktische-Ambiguität)\n",
    "3. [Konstituenten- und Adjunkttests](#3.-Konstituenten--und-Adjunkttests)\n",
    "4. [CFG Analysen](#4.-CFG-Analysen)\n",
    "5. [Dependenzanalyse](#5.-Dependenzanalyse)\n",
    "6. [FCFG-Erweiterung: Kasus, Agreement, Subkategorisierung](#6.-FCFG-Erweiterung:-Kasus,-Agreement,-Subkategorisierung)\n",
    "7. [Slash-Kategorien, Inversion, Wortstellung](#7.-Slash-Kategorien,-Inversion,-Wortstellung)\n",
    "8. [Syntaxregeln komplexer Sätze](#8.-Syntaxregeln-komplexer-Sätze)\n",
    "9. [Parsing-Algorithmen und Rekursionstypen](#9.-Parsing-Algorithmen-und-Rekursionstypen)\n",
    "10. [Unifikationsparsing](#10.-Unifikationsparsing)\n",
    "11. [Statistisches Parsing](#11.-Statistisches-Parsing)\n",
    "12. [Datengestützte Syntaxanalyse](#12.-Datengestützte-Syntaxanalyse)\n",
    "13. [Chunk-Analysen](#13.-Chunk-Analysen)\n"
   ]
  },
  {
   "cell_type": "markdown",
   "metadata": {},
   "source": [
    "---\n",
    "\n",
    "## Hinweise zur Bearbeitungsversion des Notebooks\n",
    "\n",
    "### Falls noch nicht geschehen, benennen Sie bitte zunächst die Datei der Probeklausur-Angabe nach folgendem Schema um: \n",
    "\n",
    " ### `probeklausur-letzteStelleMatrikelnr-Nachname_Vorname.ipynb`\n",
    " \n",
    "\n",
    "##### z.B. `probeklausur-3-Mustermann_Max.ipynb`\n"
   ]
  },
  {
   "cell_type": "markdown",
   "metadata": {},
   "source": [
    "---\n",
    "\n",
    "## Hinweise zur Bearbeitung der Probeklausur im Rahmen des Testlaufs am 26.01.2021\n",
    "\n",
    "### Bearbeiten Sie bitte im Rahmen des 15-minütigen Bearbeitungs- und Abgabetests der Probeklausur nur die Aufgabe, deren Nummer der letzten Stelle Ihrer Matrikelnummer entspricht: \n",
    "\n",
    "- `...0 > Aufgabe 10`\n",
    "- `...1 > Aufgabe 1`\n",
    "- `...2 > Aufgabe 2` usw.\n",
    "\n"
   ]
  },
  {
   "cell_type": "markdown",
   "metadata": {},
   "source": [
    "--- \n",
    "\n",
    "## Hinweise zum Ausfüllen der Codezellen\n",
    "\n",
    "### Wenn gegeben, führen Sie zunächst die mit `#RUN` markierten Codezellen zu Beginn einer Aufgabe aus (dies ist für eine erfolgreiche Bearbeitung dieser Aufgabe notwendig).\n",
    "\n",
    "### Verändern Sie nur die `#TO_DO`-Codezellen (gemäß der Angabe in der jeweiligen Aufgabe)!\n",
    "\n",
    "### Führen Sie `#TO_DO`-Codezellen nach Bearbeitung aus, um das Output ihrer Lösung zu generieren (dieses muss als Teil Ihrer Lösung mit abgespeichert werden); bei aufeinander aufbauenden Aufgaben (`a)`, `b)`usw.) ist zudem  notwendig, dass Sie Ihre Lösung aus der vorangehenden Teilaufgabe ausführen, damit diese in der folgenden zur Verfügung steht.\n",
    "\n",
    "### Angegebene Inhalte (Grammatikregeln usw.) dürfen nicht auskommentiert oder gelöscht werden, außer dies wird explizit anders erwähnt!\n",
    "\n",
    "\n",
    "#### Setzen Sie den Status des Notebooks ggf. auf `Trusted`, damit alle angegebenen Outputs korrekt angezeigt werden."
   ]
  },
  {
   "cell_type": "markdown",
   "metadata": {},
   "source": [
    "---\n",
    "\n",
    "[zurück zur Übersicht](#Übersicht)\n"
   ]
  },
  {
   "cell_type": "markdown",
   "metadata": {},
   "source": [
    "---\n",
    "## Hilfsmittel: Dependenz-Tags"
   ]
  },
  {
   "cell_type": "markdown",
   "metadata": {},
   "source": [
    "### Dependenten des Verbs:\n",
    "\n",
    "\n",
    "| Syntaktische Funktion                                     \t| UD                \t| TIGER              \t| Beispiel                                  \t|\n",
    "|-----------------------------------------------------------\t|-------------------\t|--------------------\t|-------------------------------------------\t|\n",
    "| Prädikat                                                  \t| `ROOT`              \t| `ROOT`               \t| *LAUFEN*                     \t|\n",
    "| Subjekt                                                   \t| `nsubj`             \t| `sb`                 \t| *ER geht*                                   \t|\n",
    "| Objekt                                                    \t| `obj`               \t| `oa`                 \t| *IHN kennen*                                \t|\n",
    "| indir.Objekt                                              \t| `iobj`              \t| `da`                 \t| *DIR geben*                                 \t|\n",
    "| Präpositionalobjekt                                       \t| `obl`               \t| `op`                 \t| *AN ETWAS glauben*                           \t|\n",
    "| nominales Adverbial (auch <br>als adverbiales Komplement) \t| `obl`               \t| `mo`                 \t| *IN DEN PARK gehen<br>AUF DIE SONNE warten* \t|\n",
    "| adverbialer Modifikator                                   \t| `advmod`            \t| `mo`                \t| *SPÄTER antworten*                          \t|\n",
    "\n"
   ]
  },
  {
   "cell_type": "markdown",
   "metadata": {},
   "source": [
    "### Dependenten des Nomens:\n",
    "\n",
    "| Syntaktische Funktion                                     \t| UD                \t| TIGER              \t| \n",
    "|-----------------------------------------------------------\t|-------------------\t|--------------------\t|\n",
    "| nominales Attribut                                        \t| `nmod`              \t| `nk`                 \t|\n",
    "| Genitiv-Komplement                                        \t| `nmod`              \t| `ag`                 \t| \n",
    "| Adjektiv-Attribut                                         \t| `amod`              \t| `nk`                 \t|\n",
    "| Determinierer                                             \t| `det`               \t| `nk`                 \t| \n"
   ]
  },
  {
   "cell_type": "markdown",
   "metadata": {},
   "source": [
    "### Präpositionalphrase als verbaler Dependent:\n",
    "\n",
    "| Syntaktische Funktion          \t| UD                \t| TIGER              \t|  Beispiel |\n",
    "|--------------------------------\t|-------------------\t|--------------------\t| --- |\n",
    "| Präposition                    \t| *`case`* (dep)            \t| `mo`(oder `op`)     | *gehen IM Park* |\n",
    "| NP in der PP                 \t    | `obl` \t    | *`nk`* (dep)               \t| *gehen im PARK* |\n",
    "\n"
   ]
  },
  {
   "cell_type": "markdown",
   "metadata": {},
   "source": [
    "### Präpositionalphrase als nominaler Dependent:\n",
    "\n",
    "| Syntaktische Funktion          \t| UD                \t| TIGER              \t|  Beispiel |\n",
    "|--------------------------------\t|-------------------\t|--------------------\t| --- |\n",
    "| Präposition                    \t| *`case`* (dep)            \t| `mnr`     | *der Hund IM Park* |\n",
    "| NP in der PP                 \t    | `nmod` \t    | *`nk`* (dep)               \t| *der Hund im PARK* |\n",
    "\n"
   ]
  },
  {
   "cell_type": "markdown",
   "metadata": {},
   "source": [
    "### Clausale Dependenten des Verbs (und entsprechender Marker):\n",
    "\n",
    "\n",
    "| Syntaktische Funktion          \t| UD            \t| TIGER        \t| Beispiel                   \t|\n",
    "| --------------------------------\t| ---------------\t|--------------\t|----------------------------\t|\n",
    "| Subjektsatz                    \t| `csubj`         \t| `sb`           \t| *zu FLIEGEN ist schön*       \t|\n",
    "| Objektsatz                     \t| `ccomp`         \t| `oc`           \t| *ich glaube dass ich FLIEGE* \t|\n",
    "| Infinitivkomplement            \t| `xcomp`         \t| `oc`           \t| *ich glaube zu FLIEGEN*      \t|\n",
    "| Adverbialsatz                  \t| `advcl`         \t| `mo`           \t| *als sie FLOGEN, ..*        \t|\n",
    "|                                \t|               \t|              \t|                            \t|\n",
    "| Subordinationsmarker           \t| `mark`          \t| `cp`; `pm`       \t| *dass/als; zu; ...*          \t|\n"
   ]
  },
  {
   "cell_type": "markdown",
   "metadata": {},
   "source": [
    "### Clausale Dependenten des Nomens:\n",
    "\n",
    "| Syntaktische Funktion          \t| UD            \t| TIGER        \t| Beispiel                   \t|\n",
    "| --------------------------------\t| ---------------\t|--------------\t|----------------------------\t|\n",
    "|                                \t|               \t|              \t|                            \t|\n",
    "| Attributsatz <br>(Relativsatz) \t| `acl(:relcl)`   \t| `rc`           \t| *der Vogel, der FLOG*       \t|\n"
   ]
  },
  {
   "cell_type": "markdown",
   "metadata": {},
   "source": [
    "### Hilfsverben:\n",
    "\n",
    "| Syntaktische Funktion          \t| UD            \t| TIGER        \t| Beispiel                   \t|\n",
    "| --------------------------------\t| ---------------\t|--------------\t|----------------------------\t|\n",
    "| Auxiliar                       \t| *`aux`* (dep)     | `ROOT`<br>(main clause)         \t| *essen KÖNNEN*           \t|\n",
    "| Vollverb                       \t| `ROOT`<br>(main clause)          \t| *`oc`*   (dep)   \t| *ESSEN können*          \t|\n"
   ]
  },
  {
   "cell_type": "markdown",
   "metadata": {},
   "source": [
    "### Kopula:\n",
    "\n",
    "| Syntaktische Funktion          \t| UD            \t| TIGER        \t| Beispiel                   \t|\n",
    "| --------------------------------\t| ---------------\t|--------------\t|----------------------------\t|\n",
    "| Kopula                         \t| *`cop`* (dep)    \t| `ROOT`<br>(main clause)          \t| *Lehrer SEIN*                       \t|\n",
    "| Prädikativum                   \t| `ROOT`<br>(main clause)           \t| *`pd`* (dep)     \t| *LEHRER sein*              "
   ]
  },
  {
   "cell_type": "markdown",
   "metadata": {},
   "source": [
    "### Koordination:\n",
    "\n",
    "| Syntaktische Funktion          \t| UD            \t| TIGER        \t| Beispiel                   \t|\n",
    "| --------------------------------\t| ---------------\t|--------------\t|----------------------------\t|\n",
    "| Konjunktion                    \t| *`cc`* (dep)  \t| `cd`       \t| *Sie kamen UND sahen*                        \t|\n",
    "| Konjunkt                       \t| `conj`        \t| *`cj`* (dep) \t|  *Sie kamen und SAHEN*                          \t|"
   ]
  },
  {
   "cell_type": "markdown",
   "metadata": {},
   "source": [
    "---\n"
   ]
  },
  {
   "cell_type": "markdown",
   "metadata": {},
   "source": [
    "---\n",
    "\n",
    "[zurück zur Übersicht](#Übersicht)\n"
   ]
  },
  {
   "cell_type": "markdown",
   "metadata": {},
   "source": [
    "---\n",
    "\n",
    "## Laden von Paketen\n",
    "\n",
    "### Führen Sie zu Beginn folgende Codezelle aus.\n",
    "\n",
    "### Das erfolgreiche Ausführen dieser ist Voraussetzung für die Bearbeitung der folgenden Aufgaben.  "
   ]
  },
  {
   "cell_type": "code",
   "execution_count": 1,
   "metadata": {},
   "outputs": [],
   "source": [
    "import nltk\n",
    "from nltk.tree import Tree\n",
    "from nltk import FeatStruct\n",
    "import itertools\n",
    "\n",
    "\n",
    "from spacy import displacy\n",
    "\n",
    "def transform_nr_conll(sent_nr):\n",
    "    sent_list = []\n",
    "    for line in list(filter(None, sent_nr.split(\"\\n\"))):\n",
    "        line_list = line.split()\n",
    "        line_list.pop(0)\n",
    "        line_list.insert(1,\"_\")\n",
    "        sent_list.append(\" \".join([i for i in line_list[0:]]))\n",
    "\n",
    "    return \"\\n\".join([i for i in sent_list[0:]])\n",
    "\n",
    "\n",
    "\n",
    "from nltk import DependencyGraph\n",
    "from itertools import chain\n",
    "\n",
    "def _tree_labeled(self, i):\n",
    "        node = self.get_by_address(i)\n",
    "        word = node[\"word\"]\n",
    "        rel = node[\"rel\"]        \n",
    "        deps = sorted(chain.from_iterable(node[\"deps\"].values()))\n",
    "\n",
    "        if deps:\n",
    "            return Tree(word+'('+rel+')', [self._tree_labeled(dep) for dep in deps])\n",
    "        else:\n",
    "            return word+'('+rel+')'\n",
    "        \n",
    "def tree_labeled(self):\n",
    "        node = self.root\n",
    "\n",
    "        word = node[\"word\"]\n",
    "        rel = node[\"rel\"]\n",
    "        deps = sorted(chain.from_iterable(node[\"deps\"].values()))\n",
    "        return Tree(word+'('+rel+')', [self._tree_labeled(dep) for dep in deps])\n",
    "\n",
    "DependencyGraph._tree_labeled = _tree_labeled\n",
    "DependencyGraph.tree_labeled = tree_labeled\n",
    "\n",
    "\n",
    "\n",
    "def displacy_dep_input(sent):\n",
    "    deps = []\n",
    "    for dep in sent.split('\\n'):\n",
    "        deps.append(dep.split())\n",
    "\n",
    "    deps = [x for x in deps if x]\n",
    "\n",
    "    ex = []\n",
    "    word_list = []\n",
    "    arc_list = []\n",
    "\n",
    "    for index, dep in enumerate(deps):\n",
    "        word_list.append({\"text\": dep[0], \"tag\": \"\"})\n",
    "        line = index+1\n",
    "        head = int(dep[2])\n",
    "        label = dep[3]\n",
    "        if head>line:\n",
    "            start = index\n",
    "            end = head-1\n",
    "            direction = \"left\"\n",
    "        else:\n",
    "            start = head-1\n",
    "            end = index  \n",
    "            direction = \"right\"\n",
    "        if(label.lower() != \"root\"):\n",
    "            arc_list.append({\"start\": start, \"end\": end, \"label\": label, \"dir\": direction})\n",
    "\n",
    "    ex.append({\n",
    "        \"words\": word_list,\n",
    "        \"arcs\": arc_list\n",
    "    })    \n",
    "\n",
    "    return ex\n",
    "\n",
    "\n",
    "\n",
    "from nltk.featstruct import Feature, UnificationFailure, FeatStructReader\n",
    "import itertools\n",
    "from collections import defaultdict\n",
    "\n",
    "\n",
    "def check_sanity_constraints(th):\n",
    "    for type1, type2 in itertools.product(th, th):\n",
    "        if type1 in th[type2] and type2 in th[type1]:\n",
    "            if type1 != type2:\n",
    "                raise ValueError(\n",
    "                    \"The type hierarchy is not antisymmetric! \" +\n",
    "                    \"{} subsumes {} and vice versa!\".format(\n",
    "                        type1, type2\n",
    "                    )\n",
    "                )\n",
    "\n",
    "\n",
    "def refl_trans_closure(type_hierarchy):\n",
    "    # make everything a set\n",
    "    # and compute reflexive closure\n",
    "    closure = defaultdict(set)\n",
    "    for t in type_hierarchy:\n",
    "        closure[t] = set(type_hierarchy[t])\n",
    "        closure[t].add(t)\n",
    "\n",
    "    # compute transitive closure\n",
    "    still_changes = True\n",
    "    while still_changes:\n",
    "        still_changes = False\n",
    "        for x in closure:\n",
    "            new_for_x = set()\n",
    "            for y in closure[x]:\n",
    "                for z in closure[y]:\n",
    "                    new_for_x.add(z)\n",
    "            len_before = len(closure[x])\n",
    "            closure[x].update(new_for_x)\n",
    "            still_changes |= len(closure[x]) > len_before\n",
    "\n",
    "    return closure\n",
    "\n",
    "\n",
    "class HierarchicalFeature(Feature):\n",
    "    def __init__(self, name, type_hierarchy, **kwargs):\n",
    "        super(HierarchicalFeature, self).__init__(name, **kwargs)\n",
    "\n",
    "        self.hierarchy = refl_trans_closure(type_hierarchy)\n",
    "        check_sanity_constraints(self.hierarchy)\n",
    "\n",
    "    def unify_base_values(self, fval1, fval2, bindings):\n",
    "        candidates = self.hierarchy[fval1].intersection(self.hierarchy[fval2])\n",
    "        score = {t: 0 for t in candidates}\n",
    "        for type1, type2 in itertools.product(candidates, candidates):\n",
    "            if type1 in self.hierarchy[type2]:\n",
    "                score[type1] += 1\n",
    "\n",
    "        return min(candidates, key=score.__getitem__, default=UnificationFailure)"
   ]
  },
  {
   "cell_type": "markdown",
   "metadata": {},
   "source": [
    "---\n",
    "\n",
    "[zurück zur Übersicht](#Übersicht)\n"
   ]
  },
  {
   "cell_type": "markdown",
   "metadata": {},
   "source": [
    "---\n",
    "\n",
    "## 1. Temporale Ambiguität"
   ]
  },
  {
   "cell_type": "markdown",
   "metadata": {},
   "source": [
    "### Schreiben Sie zu dem folgenden Beispielsatz für temporale syntaktische Ambiguität ein minimale CFG, die die intendierte Struktur des Beispielsatzes erkennt. Testen Sie anschließend Ihre Grammatik (Ausgabe nur der korrekten Analyse).\n",
    "\n",
    "- ***the old man the boat***\n",
    "  - `intendierte Struktur:` *the old (man the boat)VP*\n",
    "\n"
   ]
  },
  {
   "cell_type": "code",
   "execution_count": 2,
   "metadata": {},
   "outputs": [
    {
     "name": "stdout",
     "output_type": "stream",
     "text": [
      "             S              \n",
      "     ┌───────┴───┐           \n",
      "     │           VP         \n",
      "     │       ┌───┴───┐       \n",
      "     NP      │       NP     \n",
      " ┌───┴───┐   │   ┌───┴───┐   \n",
      "DET      N   V  DET      N  \n",
      " │       │   │   │       │   \n",
      "the     old man the     boat\n",
      "\n"
     ]
    }
   ],
   "source": [
    "#TO_DO:\n",
    "\n",
    "sentence = \"the old man the boat\"\n",
    "\n",
    "grammar = nltk.CFG.fromstring(\"\"\"\n",
    "S -> NP VP\n",
    "NP -> DET N \n",
    "VP -> V NP\n",
    "\n",
    "DET  -> \"the\"\n",
    "N -> \"old\"\n",
    "N -> \"boat\"\n",
    "V -> \"man\"\n",
    "\n",
    "\n",
    "\"\"\")\n",
    "\n",
    "parser = nltk.ChartParser(grammar,trace=0)\n",
    "\n",
    "for tree in parser.parse(sentence.split()):\n",
    "    tree.pretty_print(unicodelines=True)    "
   ]
  },
  {
   "cell_type": "markdown",
   "metadata": {},
   "source": [
    "---\n",
    "\n",
    "[zurück zur Übersicht](#Übersicht)\n"
   ]
  },
  {
   "cell_type": "markdown",
   "metadata": {},
   "source": [
    "*Code der Angabe:*\n",
    "\n",
    "<div style=\"border: 2px solid gray;font-size:80%; background-color: #F0F0F0; line-height: 1.5;\">\n",
    "<code>\n",
    "sentence = \"\"\n",
    "\n",
    "grammar = nltk.CFG.fromstring(\"\"\"\n",
    "\n",
    "\"\"\")\n",
    "\n",
    "parser = nltk.ChartParser(grammar,trace=0)\n",
    "\n",
    "for tree in parser.parse(sentence.split()):\n",
    "    tree.pretty_print(unicodelines=True)    \n",
    "</code>\n",
    "</div>"
   ]
  },
  {
   "cell_type": "markdown",
   "metadata": {},
   "source": [
    "---\n",
    "\n",
    "## 2. Syntaktische Ambiguität"
   ]
  },
  {
   "cell_type": "markdown",
   "metadata": {},
   "source": [
    "### Schreiben Sie zu dem folgenden Beispielsatz für syntaktische Ambiguität eine ungelabelte Dependenzgrammatik. Testen Sie anschließend Ihre Grammatik (Ausgabe mindestens der beiden möglichen Analysen).\n",
    "\n",
    "#### (Sie können sowohl die UD als auch die TIGER-Dependenzregeln verwenden.)\n"
   ]
  },
  {
   "cell_type": "code",
   "execution_count": 4,
   "metadata": {},
   "outputs": [
    {
     "name": "stdout",
     "output_type": "stream",
     "text": [
      "(shot I (elephant an) (pajamas in my)) \n",
      "\n",
      "      shot                  \n",
      " ┌─────┼────────────┐        \n",
      " │  elephant     pajamas    \n",
      " │     │      ┌─────┴─────┐  \n",
      " I     an     in          my\n",
      "\n",
      "(shot I (elephant an (pajamas in my))) \n",
      "\n",
      "        shot                     \n",
      " ┌───────┴──────┐                 \n",
      " │           elephant            \n",
      " │   ┌──────────┴────────┐        \n",
      " │   │                pajamas    \n",
      " │   │          ┌────────┴─────┐  \n",
      " I   an         in             my\n",
      "\n"
     ]
    }
   ],
   "source": [
    "#TO_DO:  UD!!#\n",
    "#bei TIGER ANDERS : in -> pajamas ; pajamas -> my; shot -> I | elephant | in\n",
    "\n",
    "sentence = \"I shot an elephant in my pajamas\"\n",
    "\n",
    "grammar = nltk.DependencyGrammar.fromstring(\"\"\"\n",
    "'shot' -> 'I' | 'elephant' | 'pajamas'\n",
    "'elephant' -> 'an' | 'pajamas'\n",
    "'pajamas' -> 'my' | 'in'\n",
    "\"\"\")\n",
    "\n",
    "parser = nltk.ProjectiveDependencyParser(grammar)\n",
    "for tree in parser.parse(sentence.split()):\n",
    "    print(tree, \"\\n\")\n",
    "    tree.pretty_print(unicodelines=True)"
   ]
  },
  {
   "cell_type": "markdown",
   "metadata": {},
   "source": [
    "---\n",
    "\n",
    "[zurück zur Übersicht](#Übersicht)\n"
   ]
  },
  {
   "cell_type": "markdown",
   "metadata": {},
   "source": [
    "*Code der Angabe:*\n",
    "\n",
    "<div style=\"border: 2px solid gray;font-size:80%; background-color: #F0F0F0; line-height: 1.5;\">\n",
    "<code>\n",
    "sentence = \"I shot an elephant in my pajamas\"\n",
    "\n",
    "grammar = nltk.DependencyGrammar.fromstring(\"\"\"\n",
    "\n",
    "\"\"\")\n",
    "\n",
    "parser = nltk.ProjectiveDependencyParser(grammar)\n",
    "for tree in parser.parse(sentence.split()):\n",
    "    print(tree, \"\\n\")\n",
    "    tree.pretty_print(unicodelines=True)\n",
    "</code>\n",
    "</div>"
   ]
  },
  {
   "cell_type": "markdown",
   "metadata": {},
   "source": [
    "--- \n",
    "\n",
    "## 3. Konstituenten- und Adjunkttests"
   ]
  },
  {
   "cell_type": "markdown",
   "metadata": {},
   "source": [
    "## 3.1 Permutationstest\n",
    "\n",
    "#### Gegeben sei folgender Satz sowie die Permutationen seiner drei Satzglieder:\n"
   ]
  },
  {
   "cell_type": "code",
   "execution_count": 2,
   "metadata": {},
   "outputs": [
    {
     "name": "stdout",
     "output_type": "stream",
     "text": [
      "0 ('das', 'ist', 'ein Satz')\n",
      "1 ('das', 'ein Satz', 'ist')\n",
      "2 ('ist', 'das', 'ein Satz')\n",
      "3 ('ist', 'ein Satz', 'das')\n",
      "4 ('ein Satz', 'das', 'ist')\n",
      "5 ('ein Satz', 'ist', 'das')\n"
     ]
    }
   ],
   "source": [
    "#RUN:\n",
    "sentence = [\"das\", \"ist\", \"ein Satz\"]\n",
    "\n",
    "permutations = list(itertools.permutations(sentence))\n",
    "for (i, item) in enumerate(permutations):\n",
    "    print(i, item)    "
   ]
  },
  {
   "cell_type": "markdown",
   "metadata": {},
   "source": [
    "### Führen Sie obenstehende Codezelle aus.\n",
    "\n",
    "\n",
    "### Geben Sie (über den Listenindex) eine Permutation des Satzes an, welche das finite Verb als Konstituente bestätigt."
   ]
  },
  {
   "cell_type": "code",
   "execution_count": 3,
   "metadata": {},
   "outputs": [
    {
     "data": {
      "text/plain": [
       "('ist', 'das', 'ein Satz')"
      ]
     },
     "execution_count": 3,
     "metadata": {},
     "output_type": "execute_result"
    }
   ],
   "source": [
    "#TO_DO:\n",
    "list(itertools.permutations(sentence))[2]"
   ]
  },
  {
   "cell_type": "markdown",
   "metadata": {},
   "source": [
    "---\n",
    "\n",
    "[zurück zur Übersicht](#Übersicht)\n"
   ]
  },
  {
   "cell_type": "markdown",
   "metadata": {},
   "source": [
    "*Code der Angabe:*\n",
    "\n",
    "<div style=\"border: 2px solid gray;font-size:80%; background-color: #F0F0F0; line-height: 1.5;\">\n",
    "<code>\n",
    "list(itertools.permutations(sentence))[0]\n",
    "</code>\n",
    "</div>"
   ]
  },
  {
   "cell_type": "markdown",
   "metadata": {},
   "source": [
    "---\n",
    "\n",
    "## 3.2 Adjunkt-Test\n",
    "\n",
    "#### Gegeben sei folgender Satz, dessen drittes Satzglied den geschehens-Test besteht:\n"
   ]
  },
  {
   "cell_type": "code",
   "execution_count": 9,
   "metadata": {},
   "outputs": [
    {
     "data": {
      "text/plain": [
       "'er wartet, und das geschieht im Park'"
      ]
     },
     "execution_count": 9,
     "metadata": {},
     "output_type": "execute_result"
    }
   ],
   "source": [
    "sentence = [\"er\", \"wartet\", \"im Park\"]\n",
    "\n",
    "sentence[0] + \" \" + sentence[1] + \", und das geschieht \" + sentence[2]"
   ]
  },
  {
   "cell_type": "markdown",
   "metadata": {},
   "source": [
    "\n",
    "### Geben Sie (unter Erhalt der Wohlgeformtheit des Ausgangssatzes) ein alternatives drittes Satzglied an, so dass der geschehens-Test fehlschlägt.\n"
   ]
  },
  {
   "cell_type": "code",
   "execution_count": 24,
   "metadata": {},
   "outputs": [
    {
     "data": {
      "text/plain": [
       "'er wartet, und das geschieht wütend'"
      ]
     },
     "execution_count": 24,
     "metadata": {},
     "output_type": "execute_result"
    }
   ],
   "source": [
    "#TO_DO: einfach Komplement einsetzen, macht geschehen-Test kaputt\n",
    "sentence = [\"er\", \"wartet\", \"auf die Sonne\"]\n",
    "\n",
    "sentence[0] + \" \" + sentence[1] + \", und das geschieht \" + sentence[2]"
   ]
  },
  {
   "cell_type": "markdown",
   "metadata": {},
   "source": [
    "---\n",
    "\n",
    "[zurück zur Übersicht](#Übersicht)\n"
   ]
  },
  {
   "cell_type": "markdown",
   "metadata": {},
   "source": [
    "*Code der Angabe:*\n",
    "\n",
    "<div style=\"border: 2px solid gray;font-size:80%; background-color: #F0F0F0; line-height: 1.5;\">\n",
    "<code>\n",
    "sentence = [\"er\", \"wartet\", \"TODO\"]\n",
    "\n",
    "sentence[0] + \" \" + sentence[1] + \", und das geschieht \" + sentence[2]\n",
    "</code>\n",
    "</div>"
   ]
  },
  {
   "cell_type": "markdown",
   "metadata": {},
   "source": [
    "---\n",
    "\n",
    "## 4. CFG-Analysen\n",
    "\n",
    "#### Gegeben sei folgender Satz und eine entsprechende Grammatik:\n",
    "\n"
   ]
  },
  {
   "cell_type": "code",
   "execution_count": 5,
   "metadata": {},
   "outputs": [
    {
     "name": "stdout",
     "output_type": "stream",
     "text": [
      "              S                      \n",
      "     ┌────────┴────┐                  \n",
      "     │             VP                \n",
      "     │        ┌────┴───┐              \n",
      "     NP       │        NP            \n",
      " ┌───┴───┐    │    ┌───┴───────┐      \n",
      "Det      N    V   Det          N     \n",
      " │       │    │    │           │      \n",
      "der     Hund jagt den     Briefträger\n",
      "\n"
     ]
    }
   ],
   "source": [
    "sentence = \"der Hund jagt den Briefträger\"\n",
    "\n",
    "grammar = nltk.CFG.fromstring(\"\"\"\n",
    "    S   -> NP VP\n",
    "    VP  -> V NP\n",
    "    NP  -> Det N\n",
    "\n",
    "    Det -> \"der\"\n",
    "    Det -> \"den\"    \n",
    "    N   -> \"Hund\"\n",
    "    N   -> \"Briefträger\"\n",
    "    V   -> \"jagt\"\n",
    "\"\"\")\n",
    "\n",
    "parser = nltk.ChartParser(grammar,trace=0)\n",
    "\n",
    "for tree in parser.parse(sentence.split()):\n",
    "    tree.pretty_print(unicodelines=True)    "
   ]
  },
  {
   "cell_type": "markdown",
   "metadata": {},
   "source": [
    "### 4a) Erweitern Sie den Satz der Angabe um ein präpositionales Adverbial.\n"
   ]
  },
  {
   "cell_type": "code",
   "execution_count": 6,
   "metadata": {},
   "outputs": [],
   "source": [
    "#TO_DO:\n",
    "sentence = \"der Hund jagt den Briefträger um die Stadt \""
   ]
  },
  {
   "cell_type": "markdown",
   "metadata": {},
   "source": [
    "### 4b) Erweitern Sie die Grammatik um entsprechende lexikalische und syntaktische Regeln für den erweiterten Satz.\n",
    "\n",
    "- Die Regeln sollen eine **rekursive Adjunktion** von Adverbialen an die VP ermöglichen.\n",
    "- X-Bar-Schema ist nicht erforderlich.\n"
   ]
  },
  {
   "cell_type": "code",
   "execution_count": 7,
   "metadata": {},
   "outputs": [
    {
     "name": "stdout",
     "output_type": "stream",
     "text": [
      "                   S                                   \n",
      "     ┌─────────────┴───────────┐                        \n",
      "     │                         VP                      \n",
      "     │             ┌───────────┴───────────┐            \n",
      "     │             VP                      PP          \n",
      "     │        ┌────┴───┐               ┌───┴───┐        \n",
      "     NP       │        NP              │       NP      \n",
      " ┌───┴───┐    │    ┌───┴───────┐       │   ┌───┴────┐   \n",
      "Det      N    V   Det          N       P  Det       N  \n",
      " │       │    │    │           │       │   │        │   \n",
      "der     Hund jagt den     Briefträger  um die     Stadt\n",
      "\n"
     ]
    }
   ],
   "source": [
    "#TO_DO:\n",
    "grammar = nltk.CFG.fromstring(\"\"\"\n",
    "    S   -> NP VP\n",
    "    VP  -> V NP\n",
    "    NP  -> Det N\n",
    "\n",
    "    Det -> \"der\"\n",
    "    Det -> \"den\"    \n",
    "    N   -> \"Hund\"\n",
    "    N   -> \"Briefträger\"\n",
    "    V   -> \"jagt\"\n",
    "\n",
    "###########ERGAENZTE REGELN:    \n",
    "    VP -> VP PP\n",
    "    PP -> P NP\n",
    "    \n",
    "    P -> \"um\"\n",
    "    Det -> \"die\"\n",
    "    N -> \"Stadt\"\n",
    "    \n",
    "    \n",
    "\"\"\")\n",
    "\n",
    "parser = nltk.ChartParser(grammar,trace=0)\n",
    "\n",
    "for tree in parser.parse(sentence.split()):\n",
    "    tree.pretty_print(unicodelines=True)    "
   ]
  },
  {
   "cell_type": "markdown",
   "metadata": {},
   "source": [
    "---\n",
    "\n",
    "[zurück zur Übersicht](#Übersicht)\n"
   ]
  },
  {
   "cell_type": "markdown",
   "metadata": {},
   "source": [
    "*Code der Angabe:*\n",
    "\n",
    "<div style=\"border: 2px solid gray;font-size:80%; background-color: #F0F0F0; line-height: 1.5;\">\n",
    "<code>\n",
    "sentence = \"der Hund jagt den Briefträger\"\n",
    "</code>\n",
    "</div>"
   ]
  },
  {
   "cell_type": "markdown",
   "metadata": {},
   "source": [
    "*Code der Angabe:*\n",
    "\n",
    "<div style=\"border: 2px solid gray;font-size:80%; background-color: #F0F0F0; line-height: 1.5;\">\n",
    "<code>\n",
    "grammar = nltk.CFG.fromstring(\"\"\"\n",
    "    S   -> NP VP\n",
    "    VP  -> V NP\n",
    "    NP  -> Det N\n",
    "\n",
    "    Det -> \"der\"\n",
    "    Det -> \"den\"    \n",
    "    N   -> \"Hund\"\n",
    "    N   -> \"Briefträger\"\n",
    "    V   -> \"jagt\"\n",
    "\n",
    "###########ERGAENZTE REGELN:    \n",
    "    \n",
    "\"\"\")\n",
    "\n",
    "parser = nltk.ChartParser(grammar,trace=0)\n",
    "\n",
    "for tree in parser.parse(sentence.split()):\n",
    "    tree.pretty_print(unicodelines=True)    \n",
    "</code>\n",
    "</div>"
   ]
  },
  {
   "cell_type": "markdown",
   "metadata": {},
   "source": [
    "---\n",
    "\n",
    "## 5. Dependenzanalyse\n",
    "\n",
    "### Analysieren Sie die Dependenzbeziehungen des folgenden Satzes im UD-Schema: \n",
    "\n",
    "*der Hund jagt den Briefträger um die Stadt*\n",
    "\n"
   ]
  },
  {
   "cell_type": "code",
   "execution_count": 8,
   "metadata": {},
   "outputs": [
    {
     "name": "stdout",
     "output_type": "stream",
     "text": [
      "               jagt(ROOT)                                \n",
      "     ┌─────────────┼──────────────────────┐               \n",
      "Hund(nsubj) Briefträger(obj)          Stadt(obl)         \n",
      "     │             │            ┌─────────┴─────────┐     \n",
      "  der(det)      den(det)     um(case)            die(det)\n",
      "\n"
     ]
    },
    {
     "data": {
      "text/html": [
       "<span class=\"tex2jax_ignore\"><svg xmlns=\"http://www.w3.org/2000/svg\" xmlns:xlink=\"http://www.w3.org/1999/xlink\" xml:lang=\"en\" id=\"c251c67c4a7e47eab492992715202791-0\" class=\"displacy\" width=\"850\" height=\"287.0\" direction=\"ltr\" style=\"max-width: none; height: 287.0px; color: #000000; background: #ffffff; font-family: Arial; direction: ltr\">\n",
       "<text class=\"displacy-token\" fill=\"currentColor\" text-anchor=\"middle\" y=\"197.0\">\n",
       "    <tspan class=\"displacy-word\" fill=\"currentColor\" x=\"50\">der</tspan>\n",
       "    <tspan class=\"displacy-tag\" dy=\"2em\" fill=\"currentColor\" x=\"50\"></tspan>\n",
       "</text>\n",
       "\n",
       "<text class=\"displacy-token\" fill=\"currentColor\" text-anchor=\"middle\" y=\"197.0\">\n",
       "    <tspan class=\"displacy-word\" fill=\"currentColor\" x=\"150\">Hund</tspan>\n",
       "    <tspan class=\"displacy-tag\" dy=\"2em\" fill=\"currentColor\" x=\"150\"></tspan>\n",
       "</text>\n",
       "\n",
       "<text class=\"displacy-token\" fill=\"currentColor\" text-anchor=\"middle\" y=\"197.0\">\n",
       "    <tspan class=\"displacy-word\" fill=\"currentColor\" x=\"250\">jagt</tspan>\n",
       "    <tspan class=\"displacy-tag\" dy=\"2em\" fill=\"currentColor\" x=\"250\"></tspan>\n",
       "</text>\n",
       "\n",
       "<text class=\"displacy-token\" fill=\"currentColor\" text-anchor=\"middle\" y=\"197.0\">\n",
       "    <tspan class=\"displacy-word\" fill=\"currentColor\" x=\"350\">den</tspan>\n",
       "    <tspan class=\"displacy-tag\" dy=\"2em\" fill=\"currentColor\" x=\"350\"></tspan>\n",
       "</text>\n",
       "\n",
       "<text class=\"displacy-token\" fill=\"currentColor\" text-anchor=\"middle\" y=\"197.0\">\n",
       "    <tspan class=\"displacy-word\" fill=\"currentColor\" x=\"450\">Briefträger</tspan>\n",
       "    <tspan class=\"displacy-tag\" dy=\"2em\" fill=\"currentColor\" x=\"450\"></tspan>\n",
       "</text>\n",
       "\n",
       "<text class=\"displacy-token\" fill=\"currentColor\" text-anchor=\"middle\" y=\"197.0\">\n",
       "    <tspan class=\"displacy-word\" fill=\"currentColor\" x=\"550\">um</tspan>\n",
       "    <tspan class=\"displacy-tag\" dy=\"2em\" fill=\"currentColor\" x=\"550\"></tspan>\n",
       "</text>\n",
       "\n",
       "<text class=\"displacy-token\" fill=\"currentColor\" text-anchor=\"middle\" y=\"197.0\">\n",
       "    <tspan class=\"displacy-word\" fill=\"currentColor\" x=\"650\">die</tspan>\n",
       "    <tspan class=\"displacy-tag\" dy=\"2em\" fill=\"currentColor\" x=\"650\"></tspan>\n",
       "</text>\n",
       "\n",
       "<text class=\"displacy-token\" fill=\"currentColor\" text-anchor=\"middle\" y=\"197.0\">\n",
       "    <tspan class=\"displacy-word\" fill=\"currentColor\" x=\"750\">Stadt</tspan>\n",
       "    <tspan class=\"displacy-tag\" dy=\"2em\" fill=\"currentColor\" x=\"750\"></tspan>\n",
       "</text>\n",
       "\n",
       "<g class=\"displacy-arrow\">\n",
       "    <path class=\"displacy-arc\" id=\"arrow-c251c67c4a7e47eab492992715202791-0-0\" stroke-width=\"2px\" d=\"M70,152.0 C70,102.0 140.0,102.0 140.0,152.0\" fill=\"none\" stroke=\"currentColor\"/>\n",
       "    <text dy=\"1.25em\" style=\"font-size: 0.8em; letter-spacing: 1px\">\n",
       "        <textPath xlink:href=\"#arrow-c251c67c4a7e47eab492992715202791-0-0\" class=\"displacy-label\" startOffset=\"50%\" side=\"left\" fill=\"currentColor\" text-anchor=\"middle\">det</textPath>\n",
       "    </text>\n",
       "    <path class=\"displacy-arrowhead\" d=\"M70,154.0 L62,142.0 78,142.0\" fill=\"currentColor\"/>\n",
       "</g>\n",
       "\n",
       "<g class=\"displacy-arrow\">\n",
       "    <path class=\"displacy-arc\" id=\"arrow-c251c67c4a7e47eab492992715202791-0-1\" stroke-width=\"2px\" d=\"M170,152.0 C170,102.0 240.0,102.0 240.0,152.0\" fill=\"none\" stroke=\"currentColor\"/>\n",
       "    <text dy=\"1.25em\" style=\"font-size: 0.8em; letter-spacing: 1px\">\n",
       "        <textPath xlink:href=\"#arrow-c251c67c4a7e47eab492992715202791-0-1\" class=\"displacy-label\" startOffset=\"50%\" side=\"left\" fill=\"currentColor\" text-anchor=\"middle\">nsubj</textPath>\n",
       "    </text>\n",
       "    <path class=\"displacy-arrowhead\" d=\"M170,154.0 L162,142.0 178,142.0\" fill=\"currentColor\"/>\n",
       "</g>\n",
       "\n",
       "<g class=\"displacy-arrow\">\n",
       "    <path class=\"displacy-arc\" id=\"arrow-c251c67c4a7e47eab492992715202791-0-2\" stroke-width=\"2px\" d=\"M370,152.0 C370,102.0 440.0,102.0 440.0,152.0\" fill=\"none\" stroke=\"currentColor\"/>\n",
       "    <text dy=\"1.25em\" style=\"font-size: 0.8em; letter-spacing: 1px\">\n",
       "        <textPath xlink:href=\"#arrow-c251c67c4a7e47eab492992715202791-0-2\" class=\"displacy-label\" startOffset=\"50%\" side=\"left\" fill=\"currentColor\" text-anchor=\"middle\">det</textPath>\n",
       "    </text>\n",
       "    <path class=\"displacy-arrowhead\" d=\"M370,154.0 L362,142.0 378,142.0\" fill=\"currentColor\"/>\n",
       "</g>\n",
       "\n",
       "<g class=\"displacy-arrow\">\n",
       "    <path class=\"displacy-arc\" id=\"arrow-c251c67c4a7e47eab492992715202791-0-3\" stroke-width=\"2px\" d=\"M270,152.0 C270,52.0 445.0,52.0 445.0,152.0\" fill=\"none\" stroke=\"currentColor\"/>\n",
       "    <text dy=\"1.25em\" style=\"font-size: 0.8em; letter-spacing: 1px\">\n",
       "        <textPath xlink:href=\"#arrow-c251c67c4a7e47eab492992715202791-0-3\" class=\"displacy-label\" startOffset=\"50%\" side=\"left\" fill=\"currentColor\" text-anchor=\"middle\">obj</textPath>\n",
       "    </text>\n",
       "    <path class=\"displacy-arrowhead\" d=\"M445.0,154.0 L453.0,142.0 437.0,142.0\" fill=\"currentColor\"/>\n",
       "</g>\n",
       "\n",
       "<g class=\"displacy-arrow\">\n",
       "    <path class=\"displacy-arc\" id=\"arrow-c251c67c4a7e47eab492992715202791-0-4\" stroke-width=\"2px\" d=\"M570,152.0 C570,52.0 745.0,52.0 745.0,152.0\" fill=\"none\" stroke=\"currentColor\"/>\n",
       "    <text dy=\"1.25em\" style=\"font-size: 0.8em; letter-spacing: 1px\">\n",
       "        <textPath xlink:href=\"#arrow-c251c67c4a7e47eab492992715202791-0-4\" class=\"displacy-label\" startOffset=\"50%\" side=\"left\" fill=\"currentColor\" text-anchor=\"middle\">case</textPath>\n",
       "    </text>\n",
       "    <path class=\"displacy-arrowhead\" d=\"M570,154.0 L562,142.0 578,142.0\" fill=\"currentColor\"/>\n",
       "</g>\n",
       "\n",
       "<g class=\"displacy-arrow\">\n",
       "    <path class=\"displacy-arc\" id=\"arrow-c251c67c4a7e47eab492992715202791-0-5\" stroke-width=\"2px\" d=\"M670,152.0 C670,102.0 740.0,102.0 740.0,152.0\" fill=\"none\" stroke=\"currentColor\"/>\n",
       "    <text dy=\"1.25em\" style=\"font-size: 0.8em; letter-spacing: 1px\">\n",
       "        <textPath xlink:href=\"#arrow-c251c67c4a7e47eab492992715202791-0-5\" class=\"displacy-label\" startOffset=\"50%\" side=\"left\" fill=\"currentColor\" text-anchor=\"middle\">det</textPath>\n",
       "    </text>\n",
       "    <path class=\"displacy-arrowhead\" d=\"M670,154.0 L662,142.0 678,142.0\" fill=\"currentColor\"/>\n",
       "</g>\n",
       "\n",
       "<g class=\"displacy-arrow\">\n",
       "    <path class=\"displacy-arc\" id=\"arrow-c251c67c4a7e47eab492992715202791-0-6\" stroke-width=\"2px\" d=\"M270,152.0 C270,2.0 750.0,2.0 750.0,152.0\" fill=\"none\" stroke=\"currentColor\"/>\n",
       "    <text dy=\"1.25em\" style=\"font-size: 0.8em; letter-spacing: 1px\">\n",
       "        <textPath xlink:href=\"#arrow-c251c67c4a7e47eab492992715202791-0-6\" class=\"displacy-label\" startOffset=\"50%\" side=\"left\" fill=\"currentColor\" text-anchor=\"middle\">obl</textPath>\n",
       "    </text>\n",
       "    <path class=\"displacy-arrowhead\" d=\"M750.0,154.0 L758.0,142.0 742.0,142.0\" fill=\"currentColor\"/>\n",
       "</g>\n",
       "</svg></span>"
      ],
      "text/plain": [
       "<IPython.core.display.HTML object>"
      ]
     },
     "metadata": {},
     "output_type": "display_data"
    }
   ],
   "source": [
    "#TO_DO: \n",
    "#UD\n",
    "sent_nr = \"\"\"\n",
    "1 der 2 det\n",
    "2 Hund 3 nsubj\n",
    "3 jagt 0 ROOT\n",
    "4 den 5 det\n",
    "5 Briefträger 3 obj\n",
    "6 um 8 case\n",
    "7 die 8 det\n",
    "8 Stadt 3 obl\n",
    "\"\"\"\n",
    "\n",
    "#im TIGER:\n",
    "#sent_nr = \"\"\"\n",
    "#1 der 2 det\n",
    "#2 Hund 3 nsubj\n",
    "#3 jagt 0 ROOT\n",
    "#4 den 5 det\n",
    "#5 Briefträger 3 obj\n",
    "#6 um 3 mo\n",
    "#7 die 8 det\n",
    "#8 Stadt 3 nk\n",
    "#\"\"\"\n",
    "\n",
    "\n",
    "sent = transform_nr_conll(sent_nr)\n",
    "dg = DependencyGraph(sent)\n",
    "\n",
    "tree_labeled = dg.tree_labeled()\n",
    "tree_labeled.pretty_print(unicodelines=True)  \n",
    "\n",
    "ex = displacy_dep_input(sent)\n",
    "html = displacy.render(ex, style=\"dep\", manual=True, options={'distance':100})"
   ]
  },
  {
   "cell_type": "markdown",
   "metadata": {},
   "source": [
    "--- \n",
    "\n",
    "[zurück zur Übersicht](#Übersicht)\n"
   ]
  },
  {
   "cell_type": "markdown",
   "metadata": {},
   "source": [
    "*Code der Angabe:*\n",
    "\n",
    "<div style=\"border: 2px solid gray;font-size:80%; background-color: #F0F0F0; line-height: 1.5;\">\n",
    "<code>\n",
    "sent_nr = \"\"\"\n",
    "1 x 2 dep\n",
    "2 y 0 ROOT\n",
    "\"\"\"\n",
    "\n",
    "sent = transform_nr_conll(sent_nr)\n",
    "dg = DependencyGraph(sent)\n",
    "\n",
    "tree_labeled = dg.tree_labeled()\n",
    "tree_labeled.pretty_print(unicodelines=True)  \n",
    "\n",
    "ex = displacy_dep_input(sent)\n",
    "html = displacy.render(ex, style=\"dep\", manual=True, options={'distance':100})\n",
    "</code>\n",
    "</div>"
   ]
  },
  {
   "cell_type": "markdown",
   "metadata": {},
   "source": [
    "---\n",
    "\n",
    "## 6. FCFG-Erweiterung: Kasus, Agreement, Subkategorisierung\n",
    "\n"
   ]
  },
  {
   "cell_type": "markdown",
   "metadata": {},
   "source": [
    "### 6a) Erweitern Sie folgende Angabe um einen Satz mit intransitivem Verb sowie die Grammatik um entsprechende syntaktische sowie lexikalische Regeln."
   ]
  },
  {
   "cell_type": "code",
   "execution_count": 13,
   "metadata": {},
   "outputs": [
    {
     "name": "stdout",
     "output_type": "stream",
     "text": [
      "             S           \n",
      "     ┌───────┴────────┐   \n",
      "     NP               VP \n",
      " ┌───┴───────┐        │   \n",
      "Det          N        V  \n",
      " │           │        │   \n",
      "der     Briefträger rennt\n",
      "\n"
     ]
    }
   ],
   "source": [
    "#TO_DO:\n",
    "\n",
    "sentence = \"der Briefträger rennt\"\n",
    "\n",
    "grammar = nltk.CFG.fromstring(\"\"\"\n",
    "    S   -> NP VP\n",
    "    VP  -> V NP\n",
    "    NP  -> Det N\n",
    "\n",
    "    Det -> \"der\"\n",
    "    Det -> \"den\"    \n",
    "    N   -> \"Brief\"\n",
    "    N   -> \"Briefträger\"\n",
    "    V   -> \"beantwortet\"\n",
    "\n",
    "###########ERGAENZTE REGELN:\n",
    "    VP -> V\n",
    "    V -> \"rennt\"\n",
    "    \n",
    "\"\"\")\n",
    "\n",
    "parser = nltk.ChartParser(grammar,trace=0)\n",
    "\n",
    "for tree in parser.parse(sentence.split()):\n",
    "    tree.pretty_print(unicodelines=True)    "
   ]
  },
  {
   "cell_type": "markdown",
   "metadata": {},
   "source": [
    "### 6b) Geben Sie einen nach den Regeln der deutschen Grammatik nicht-wohlgeformten Satz an, der fälschlicherweise von der oben angegebenen Grammatik erkannt wird, obwohl er gegen ein *Subkategorisierungs-Constraint* verstößt.\n"
   ]
  },
  {
   "cell_type": "code",
   "execution_count": 10,
   "metadata": {},
   "outputs": [],
   "source": [
    "#TO_DO:\n",
    "neg_sentence = \" der Briefträger beantwortet\""
   ]
  },
  {
   "cell_type": "markdown",
   "metadata": {},
   "source": [
    "### 6c) Erweitern Sie Ihre Grammatik aus 6a) um Merkmale, um die Überproduktion aus 6b) zu verhindern.\n"
   ]
  },
  {
   "cell_type": "code",
   "execution_count": 11,
   "metadata": {},
   "outputs": [],
   "source": [
    "#TO_DO:\n",
    "gramstring = r\"\"\"\n",
    "% start S\n",
    "\n",
    "########GRAMMATIK AUS 6a):\n",
    " S   -> NP VP\n",
    "    VP  -> V[SUBCAT=\"TV\"] NP\n",
    "    NP  -> Det N\n",
    "    VP -> V[SUBCAT=\"ITV\"]\n",
    "    \n",
    "    Det -> \"der\"\n",
    "    Det -> \"den\"    \n",
    "    N   -> \"Brief\"\n",
    "    N   -> \"Briefträger\"\n",
    "    V[SUBCAT=\"TV\"]   -> \"beantwortet\"\n",
    "    V[SUBCAT=\"ITV\"] -> \"rennt\"\n",
    "\"\"\"\n",
    "\n",
    "grammar = nltk.grammar.FeatureGrammar.fromstring(gramstring)\n",
    "parser = nltk.parse.FeatureChartParser(grammar,trace=0)\n",
    "\n",
    "#NEGATIVBEISPIEL (neg_sentence aus 6b):\n",
    "for tree in parser.parse(neg_sentence.split()):\n",
    "    tree = Tree.fromstring(str(tree).replace(\", \",\",\"))\n",
    "    #tree.pretty_print(unicodelines=True)\n",
    "    display(tree)"
   ]
  },
  {
   "cell_type": "code",
   "execution_count": 15,
   "metadata": {},
   "outputs": [
    {
     "name": "stdout",
     "output_type": "stream",
     "text": [
      "             S           \n",
      "     ┌───────┴────────┐   \n",
      "     NP               VP \n",
      " ┌───┴───────┐        │   \n",
      "Det          N        V  \n",
      " │           │        │   \n",
      "der     Briefträger rennt\n",
      "\n"
     ]
    }
   ],
   "source": [
    "#TEST POSITIVBEISPIEL (sentence aus 6a):\n",
    "for tree in parser.parse(sentence.split()):\n",
    "    tree = Tree.fromstring(str(tree).replace(\", \",\",\"))\n",
    "    tree.pretty_print(unicodelines=True)\n",
    "    #display(tree)    "
   ]
  },
  {
   "cell_type": "markdown",
   "metadata": {},
   "source": [
    "*Code der Angabe:*\n",
    "\n",
    "<div style=\"border: 2px solid gray;font-size:80%; background-color: #F0F0F0; line-height: 1.5;\">\n",
    "<code>\n",
    "\n",
    "sentence = \"\"\n",
    "\n",
    "grammar = nltk.CFG.fromstring(\"\"\"\n",
    "    S   -> NP VP\n",
    "    VP  -> V NP\n",
    "    NP  -> Det N\n",
    "\n",
    "    Det -> \"der\"\n",
    "    Det -> \"den\"    \n",
    "    N   -> \"Brief\"\n",
    "    N   -> \"Briefträger\"\n",
    "    V   -> \"beantwortet\"\n",
    "\n",
    "###########ERGAENZTE REGELN:    \n",
    "    \n",
    "\"\"\")\n",
    "\n",
    "parser = nltk.ChartParser(grammar,trace=0)\n",
    "\n",
    "for tree in parser.parse(sentence.split()):\n",
    "    tree.pretty_print(unicodelines=True)    \n",
    "</code>\n",
    "</div>"
   ]
  },
  {
   "cell_type": "markdown",
   "metadata": {},
   "source": [
    "*Code der Angabe:*\n",
    "\n",
    "<div style=\"border: 2px solid gray;font-size:80%; background-color: #F0F0F0; line-height: 1.5;\">\n",
    "<code>\n",
    "neg_sentence = \"\"\n",
    "\n",
    "</code>\n",
    "</div>"
   ]
  },
  {
   "cell_type": "markdown",
   "metadata": {},
   "source": [
    "*Code der Angabe:*\n",
    "\n",
    "<div style=\"border: 2px solid gray;font-size:80%; background-color: #F0F0F0; line-height: 1.5;\">\n",
    "<code>\n",
    "gramstring = r\"\"\"\n",
    "% start S\n",
    "\n",
    "########GRAMMATIK AUS 6a):\n",
    "\n",
    "\"\"\"\n",
    "\n",
    "grammar = nltk.grammar.FeatureGrammar.fromstring(gramstring)\n",
    "parser = nltk.parse.FeatureChartParser(grammar,trace=0)\n",
    "\n",
    "#NEGATIVBEISPIEL (neg_sentence aus 6b):\n",
    "for tree in parser.parse(neg_sentence.split()):\n",
    "    tree = Tree.fromstring(str(tree).replace(\", \",\",\"))\n",
    "    #tree.pretty_print(unicodelines=True)\n",
    "    display(tree)\n",
    "</code>\n",
    "</div>\n",
    "\n",
    "<div style=\"border: 2px solid gray;font-size:80%; background-color: #F0F0F0; line-height: 1.5;\">\n",
    "<code>\n",
    "#TEST POSITIVBEISPIEL (sentence aus 6a):\n",
    "for tree in parser.parse(sentence.split()):\n",
    "    tree = Tree.fromstring(str(tree).replace(\", \",\",\"))\n",
    "    tree.pretty_print(unicodelines=True)\n",
    "    #display(tree)\n",
    "</code>\n",
    "</div>\n"
   ]
  },
  {
   "cell_type": "markdown",
   "metadata": {},
   "source": [
    "---\n",
    "\n",
    "\n",
    "[zurück zur Übersicht](#Übersicht)\n"
   ]
  },
  {
   "cell_type": "markdown",
   "metadata": {},
   "source": [
    "---\n",
    "\n",
    "## 7. Slash-Kategorien, Inversion, Wortstellung\n"
   ]
  },
  {
   "cell_type": "markdown",
   "metadata": {},
   "source": [
    "#### Gegeben sei folgender Satz und eine FCFG, die die Subjekt-VP-Inversion für den Entscheidungsfragesatz sowie das Herausbewegen des Objekts aus der VP über eine Slash-Kategorie modelliert.\n",
    " "
   ]
  },
  {
   "cell_type": "code",
   "execution_count": 7,
   "metadata": {},
   "outputs": [
    {
     "name": "stdout",
     "output_type": "stream",
     "text": [
      "                   S[]                 \n",
      "          ┌─────────┴───────┬──────┐    \n",
      "      VP[]/NP[]            NP[]   NP[] \n",
      "  ┌───────┴─────────┐       │      │    \n",
      " V[]            NP[]/NP[] Pron[] Pron[]\n",
      "  │                 │       │      │    \n",
      "sieht              ...     sie    ihn  \n",
      "\n"
     ]
    }
   ],
   "source": [
    "sentence = 'sieht sie ihn'\n",
    "\n",
    "\n",
    "gramstring = r\"\"\"\n",
    "% start S\n",
    "\n",
    "#invertierung   S -> VP NP\n",
    "    \n",
    "    #gap-intro:\n",
    "    S -> VP/NP NP NP\n",
    "    \n",
    "    #gap-herunterreichen:\n",
    "    VP/?x  -> V NP/?x \n",
    "    \n",
    "    gap-realisiert:\n",
    "    NP/NP -> \n",
    "\n",
    "\n",
    "    NP -> Pron\n",
    "    \n",
    "    Pron   -> \"sie\"\n",
    "    Pron   -> \"ihn\"\n",
    "    V   -> \"sieht\" \n",
    "\"\"\"\n",
    "\n",
    "grammar = nltk.grammar.FeatureGrammar.fromstring(gramstring)\n",
    "parser = nltk.parse.FeatureChartParser(grammar,trace=0)\n",
    "\n",
    "for tree in parser.parse(sentence.split()):\n",
    "    tree = Tree.fromstring(str(tree).replace(\", \",\",\"))\n",
    "    tree.pretty_print(unicodelines=True)\n",
    "    #display(tree)"
   ]
  },
  {
   "cell_type": "markdown",
   "metadata": {},
   "source": [
    "### Geben Sie die Regel aus obenstehender Grammatik an, die das folgende implementiert:\n",
    "\n",
    "`GAP-INTRODUCTION`\n",
    "\n"
   ]
  },
  {
   "cell_type": "code",
   "execution_count": null,
   "metadata": {},
   "outputs": [],
   "source": [
    "#TO_DO:\n",
    "gramstring = r\"\"\"\n",
    "    S -> VP/NP NP NP\n",
    "\"\"\"\n",
    "print(gramstring)"
   ]
  },
  {
   "cell_type": "markdown",
   "metadata": {},
   "source": [
    "---\n",
    "\n",
    "[zurück zur Übersicht](#Übersicht)\n"
   ]
  },
  {
   "cell_type": "markdown",
   "metadata": {},
   "source": [
    "*Code der Angabe:*\n",
    "\n",
    "<div style=\"border: 2px solid gray;font-size:80%; background-color: #F0F0F0; line-height: 1.5;\">\n",
    "<code>\n",
    "gramstring = r\"\"\"\n",
    "\n",
    "\"\"\"\n",
    "print(gramstring)\n",
    "</code>\n",
    "</div>"
   ]
  },
  {
   "cell_type": "markdown",
   "metadata": {},
   "source": [
    "---\n",
    "\n",
    "## 8. Syntaxregeln komplexer Sätze\n",
    "\n",
    "#### Gegeben sei folgender Satz mit transitivem Verb und eine entsprechende Grammatik:"
   ]
  },
  {
   "cell_type": "code",
   "execution_count": 19,
   "metadata": {},
   "outputs": [
    {
     "name": "stdout",
     "output_type": "stream",
     "text": [
      "                       S                    \n",
      "     ┌─────────────────┴───────┐             \n",
      "     │                         VP           \n",
      "     │                 ┌───────┴────┐        \n",
      "     NP                │            NP      \n",
      " ┌───┴───────┐         │       ┌────┴────┐   \n",
      "Det          N         V      Det        N  \n",
      " │           │         │       │         │   \n",
      "der     Briefträger schreibt einen     Brief\n",
      "\n"
     ]
    }
   ],
   "source": [
    "sentence = \"der Briefträger schreibt einen Brief\"\n",
    "\n",
    "grammar = nltk.CFG.fromstring(\"\"\"\n",
    "    S   -> NP VP\n",
    "    VP  -> V NP\n",
    "    NP  -> Det N\n",
    "    NP  -> Pron\n",
    "\n",
    "    Det -> \"der\"\n",
    "    Det -> \"den\"    \n",
    "    N   -> \"Hund\"\n",
    "    N   -> \"Briefträger\"\n",
    "    V   -> \"jagt\"\n",
    "    Det -> \"einen\"    \n",
    "    N   -> \"Brief\"\n",
    "    V   -> \"schreibt\"    \n",
    "\"\"\")\n",
    "\n",
    "parser = nltk.ChartParser(grammar,trace=0)\n",
    "\n",
    "for tree in parser.parse(sentence.split()):\n",
    "    tree.pretty_print(unicodelines=True)    "
   ]
  },
  {
   "cell_type": "markdown",
   "metadata": {},
   "source": [
    "### 8a) Ändern Sie den Satz ab, so dass er einen Objekt-Komplementsatz enthält. (Satzzeichen können ausgelassen werden.)"
   ]
  },
  {
   "cell_type": "code",
   "execution_count": 25,
   "metadata": {},
   "outputs": [],
   "source": [
    "#TO_DO:\n",
    "sentence = \"der Briefträger schreibt dass der Hund den Briefträger jagt\""
   ]
  },
  {
   "cell_type": "markdown",
   "metadata": {},
   "source": [
    "### 8b) Erweitern Sie die Grammatik um entsprechende lexikalische und syntaktische Regeln für Ihren Satz aus 8a.\n",
    "\n",
    "\n",
    "- Verwenden Sie nur `SBAR` und `Comp` als neue Nonterminale\n",
    "- X-Bar-Schema ist nicht notwendig (orientieren Sie sich an den Penn-Treebank-Regeln für komplexe Sätze)\n",
    "\n",
    "##### Beachten Sie die invertierte Wortstellung im Nebensatz (Verbendstellung).\n"
   ]
  },
  {
   "cell_type": "code",
   "execution_count": 26,
   "metadata": {},
   "outputs": [
    {
     "name": "stdout",
     "output_type": "stream",
     "text": [
      "             S                                                         \n",
      "     ┌───────┴────────────────┐                                         \n",
      "     │                        VP                                       \n",
      "     │                 ┌──────┴────────────┐                            \n",
      "     │                 │                  SBAR                         \n",
      "     │                 │      ┌────────────┴────┐                       \n",
      "     │                 │      │                 S                      \n",
      "     │                 │      │        ┌────────┴───────────┐           \n",
      "     │                 │      │        │                    VP         \n",
      "     │                 │      │        │            ┌───────┴───────┐   \n",
      "     NP                │      │        NP           NP              │  \n",
      " ┌───┴───────┐         │      │    ┌───┴───┐    ┌───┴───────┐       │   \n",
      "Det          N         V     Comp Det      N   Det          N       V  \n",
      " │           │         │      │    │       │    │           │       │   \n",
      "der     Briefträger schreibt dass der     Hund den     Briefträger jagt\n",
      "\n"
     ]
    }
   ],
   "source": [
    "#TO_DO:\n",
    "grammar = nltk.CFG.fromstring(\"\"\"\n",
    "    S   -> NP VP\n",
    "    VP  -> V NP\n",
    "    NP  -> Det N\n",
    "    NP  -> Pron\n",
    "\n",
    "    Det -> \"der\"\n",
    "    Det -> \"den\"    \n",
    "    N   -> \"Hund\"\n",
    "    N   -> \"Briefträger\"\n",
    "    V   -> \"jagt\"\n",
    "    Det -> \"einen\"    \n",
    "    N   -> \"Brief\"\n",
    "    V   -> \"schreibt\"\n",
    "\n",
    "###########ERGAENZTE REGELN:    \n",
    "    VP -> V SBAR\n",
    "    SBAR -> Comp S\n",
    "    VP -> NP V\n",
    "    \n",
    "    Comp -> \"dass\"\n",
    "    \n",
    "\"\"\")\n",
    "\n",
    "parser = nltk.ChartParser(grammar,trace=0)\n",
    "\n",
    "for tree in parser.parse(sentence.split()):\n",
    "    tree.pretty_print(unicodelines=True)    "
   ]
  },
  {
   "cell_type": "markdown",
   "metadata": {},
   "source": [
    "### 8c) Erweitern Sie nun Ihre Grammatik aus 8b) um Merkmale, um eine wortstellungsbezogene Überproduktion im Nebensatz mit der alten VP-Regel für den Hauptsatz zu verhindern.\n",
    "\n",
    "- Nebensatz: Verbendstellung\n",
    "- Hauptsatz: V2-Stelllung\n"
   ]
  },
  {
   "cell_type": "code",
   "execution_count": 30,
   "metadata": {},
   "outputs": [],
   "source": [
    "#TO_DO:\n",
    "\n",
    "#NEGATIVBEISPIEL:\n",
    "neg_sentence = \" der Briefträger schreibt dass der  Hund jagt den Briefträger\"\n",
    "\n",
    "gramstring = r\"\"\"\n",
    "% start S\n",
    "\n",
    "########GRAMMATIK AUS 8b):\n",
    "    S[SBAR=?x]   -> NP VP[SBAR=?x]\n",
    "    VP[-SBAR]  -> V NP\n",
    "    NP  -> Det N\n",
    "    NP  -> Pron\n",
    "\n",
    "    Det -> \"der\"\n",
    "    Det -> \"den\"    \n",
    "    N   -> \"Hund\"\n",
    "    N   -> \"Briefträger\"\n",
    "    V   -> \"jagt\"\n",
    "    Det -> \"einen\"    \n",
    "    N   -> \"Brief\"\n",
    "    V   -> \"schreibt\"\n",
    "\n",
    "###########ERGAENZTE REGELN:    \n",
    "    VP -> V SBAR\n",
    "    SBAR -> Comp S[+SBAR]\n",
    "    VP[+SBAR] -> NP V\n",
    "    \n",
    "    Comp -> \"dass\"\n",
    "\n",
    "\"\"\"\n",
    "\n",
    "grammar = nltk.grammar.FeatureGrammar.fromstring(gramstring)\n",
    "parser = nltk.parse.FeatureChartParser(grammar,trace=0)\n",
    "\n",
    "for tree in parser.parse(neg_sentence.split()):\n",
    "    tree = Tree.fromstring(str(tree).replace(\", \",\",\"))\n",
    "    #tree.pretty_print(unicodelines=True)\n",
    "    display(tree)"
   ]
  },
  {
   "cell_type": "markdown",
   "metadata": {},
   "source": [
    "---\n",
    "\n",
    "[zurück zur Übersicht](#Übersicht)\n"
   ]
  },
  {
   "cell_type": "markdown",
   "metadata": {},
   "source": [
    "*Code der Angabe:*\n",
    "\n",
    "<div style=\"border: 2px solid gray;font-size:80%; background-color: #F0F0F0; line-height: 1.5;\">\n",
    "<code>\n",
    "sentence = \"der Briefträger schreibt einen Brief\"\n",
    "\n",
    "</code>\n",
    "</div>"
   ]
  },
  {
   "cell_type": "markdown",
   "metadata": {},
   "source": [
    "*Code der Angabe:*\n",
    "\n",
    "<div style=\"border: 2px solid gray;font-size:80%; background-color: #F0F0F0; line-height: 1.5;\">\n",
    "<code>\n",
    "grammar = nltk.CFG.fromstring(\"\"\"\n",
    "    S   -> NP VP\n",
    "    VP  -> V NP\n",
    "    NP  -> Det N\n",
    "    NP  -> Pron\n",
    "\n",
    "    Det -> \"der\"\n",
    "    Det -> \"den\"    \n",
    "    N   -> \"Hund\"\n",
    "    N   -> \"Briefträger\"\n",
    "    V   -> \"jagt\"\n",
    "    Det -> \"einen\"    \n",
    "    N   -> \"Brief\"\n",
    "    V   -> \"schreibt\"\n",
    "\n",
    "###########ERGAENZTE REGELN:    \n",
    "    \n",
    "\"\"\")\n",
    "\n",
    "parser = nltk.ChartParser(grammar,trace=0)\n",
    "\n",
    "for tree in parser.parse(sentence.split()):\n",
    "    tree.pretty_print(unicodelines=True)    \n",
    "</code>\n",
    "</div>"
   ]
  },
  {
   "cell_type": "markdown",
   "metadata": {},
   "source": [
    "*Code der Angabe:*\n",
    "\n",
    "<div style=\"border: 2px solid gray;font-size:80%; background-color: #F0F0F0; line-height: 1.5;\">\n",
    "<code>\n",
    "#NEGATIVBEISPIEL:\n",
    "neg_sentence = \"\"\n",
    "\n",
    "gramstring = r\"\"\"\n",
    "% start S\n",
    "\n",
    "########GRAMMATIK AUS 8b):\n",
    "\n",
    "\"\"\"\n",
    "\n",
    "grammar = nltk.grammar.FeatureGrammar.fromstring(gramstring)\n",
    "parser = nltk.parse.FeatureChartParser(grammar,trace=0)\n",
    "\n",
    "for tree in parser.parse(neg_sentence.split()):\n",
    "    tree = Tree.fromstring(str(tree).replace(\", \",\",\"))\n",
    "    #tree.pretty_print(unicodelines=True)\n",
    "    display(tree)\n",
    "</code>\n",
    "</div>"
   ]
  },
  {
   "cell_type": "markdown",
   "metadata": {},
   "source": [
    "---\n",
    "\n",
    "## 9. Parsing-Algorithmen und Rekursionstypen\n"
   ]
  },
  {
   "cell_type": "markdown",
   "metadata": {},
   "source": [
    "###  9.1 Geben Sie CFG-Regeln an, die bei einem Top-Down-Parser wegen Ambiguität zu längerer Laufzeit führen können.\n"
   ]
  },
  {
   "cell_type": "code",
   "execution_count": 31,
   "metadata": {},
   "outputs": [
    {
     "name": "stdout",
     "output_type": "stream",
     "text": [
      "Grammar with 3 productions (start state = VP)\n",
      "    VP -> V\n",
      "    VP -> V NP\n",
      "    VP -> V NP NP\n"
     ]
    }
   ],
   "source": [
    "#TO_DO:\n",
    "grammar = nltk.CFG.fromstring(\"\"\"\n",
    "VP -> V\n",
    "VP -> V NP\n",
    "VP -> V NP NP\n",
    "\n",
    "\"\"\")\n",
    "\n",
    "print(grammar)"
   ]
  },
  {
   "cell_type": "markdown",
   "metadata": {},
   "source": [
    "---\n",
    "\n",
    "[zurück zur Übersicht](#Übersicht)\n"
   ]
  },
  {
   "cell_type": "markdown",
   "metadata": {},
   "source": [
    "*Code der Angabe:*\n",
    "\n",
    "<div style=\"border: 2px solid gray;font-size:80%; background-color: #F0F0F0; line-height: 1.5;\">\n",
    "<code>\n",
    "grammar = nltk.CFG.fromstring(\"\"\"\n",
    "\n",
    "\"\"\")\n",
    "\n",
    "print(grammar)\n",
    "</code>\n",
    "</div>"
   ]
  },
  {
   "cell_type": "markdown",
   "metadata": {},
   "source": [
    "---\n",
    "\n",
    "### 9.2 Geben Sie CFG-Regeln an, die eine indirekte Rekursion ermöglichen."
   ]
  },
  {
   "cell_type": "code",
   "execution_count": null,
   "metadata": {},
   "outputs": [],
   "source": [
    "#TO_DO:\n",
    "grammar = nltk.CFG.fromstring(\"\"\"\n",
    "NP -> N PP\n",
    "PP -> P NP\n",
    "\n",
    "\"\"\")\n",
    "\n",
    "print(grammar)"
   ]
  },
  {
   "cell_type": "markdown",
   "metadata": {},
   "source": [
    "---\n",
    "\n",
    "[zurück zur Übersicht](#Übersicht)\n"
   ]
  },
  {
   "cell_type": "markdown",
   "metadata": {},
   "source": [
    "*Code der Angabe:*\n",
    "\n",
    "<div style=\"border: 2px solid gray;font-size:80%; background-color: #F0F0F0; line-height: 1.5;\">\n",
    "<code>\n",
    "grammar = nltk.CFG.fromstring(\"\"\"\n",
    "\n",
    "\"\"\")\n",
    "\n",
    "print(grammar)\n",
    "</code>\n",
    "</div>"
   ]
  },
  {
   "cell_type": "markdown",
   "metadata": {},
   "source": [
    "---\n",
    "\n",
    "## 10. Unifikationsparsing\n"
   ]
  },
  {
   "cell_type": "markdown",
   "metadata": {},
   "source": [
    "\n",
    "## 10.1 Unifikation von Merkmalsstrukturen\n",
    "\n",
    "#### Gegeben seien folgende (unifizierende) Merkmalsstrukturen:"
   ]
  },
  {
   "cell_type": "code",
   "execution_count": 33,
   "metadata": {},
   "outputs": [
    {
     "data": {
      "text/plain": [
       "[AGR=[GEN='mask', PERS=1], CASE='nom']"
      ]
     },
     "execution_count": 33,
     "metadata": {},
     "output_type": "execute_result"
    }
   ],
   "source": [
    "f1 = FeatStruct(\"[CASE=nom,AGR=[GEN=mask, PERS=1]]\")\n",
    "f2 = FeatStruct(\"[]\")\n",
    "f1.unify(f2)"
   ]
  },
  {
   "cell_type": "markdown",
   "metadata": {},
   "source": [
    "### Geben Sie eine alternative Merkmalsstruktur `f2` an, die ***nicht*** mit `f1`unifiziert. "
   ]
  },
  {
   "cell_type": "code",
   "execution_count": 35,
   "metadata": {},
   "outputs": [],
   "source": [
    "#TO_DO:\n",
    "f1 = FeatStruct(\"[CASE=nom,AGR=[GEN=mask, PERS=1]]\")\n",
    "f2 = FeatStruct(\"[CASE=dat]\")\n",
    "f1.unify(f2)"
   ]
  },
  {
   "cell_type": "markdown",
   "metadata": {},
   "source": [
    "---\n",
    "\n",
    "[zurück zur Übersicht](#Übersicht)\n"
   ]
  },
  {
   "cell_type": "markdown",
   "metadata": {},
   "source": [
    "*Code der Angabe:*\n",
    "\n",
    "<div style=\"border: 2px solid gray;font-size:80%; background-color: #F0F0F0; line-height: 1.5;\">\n",
    "<code>\n",
    "f1 = FeatStruct(\"[CASE=nom,AGR=[GEN=mask, PERS=1]]\")\n",
    "f2 = FeatStruct(\"[]\")\n",
    "f1.unify(f2)\n",
    "</code>\n",
    "</div>"
   ]
  },
  {
   "cell_type": "markdown",
   "metadata": {},
   "source": [
    "---\n",
    "\n",
    "## 10.2 Unifikation mit Typen\n",
    "\n",
    "#### Gegeben sei folgende Typhierarchie:\n",
    "\n",
    "$$\\bot \\sqsubseteq \\text{Genitiv}$$\n",
    "$$\\bot \\sqsubseteq \\text{nicht-Genitiv}$$\n",
    "$$\\text{nicht-Genitiv} \\sqsubseteq \\text{Nominativ-Akkusativ}$$\n",
    "$$\\text{nicht-Genitiv} \\sqsubseteq \\text{Dativ}$$\n",
    "$$\\text{Nominativ-Akkusativ} \\sqsubseteq \\text{Nominativ}$$\n",
    "$$\\text{Nominativ-Akkusativ} \\sqsubseteq \\text{Akkusativ}$$\n",
    "\n",
    "####  Sie wird (mit abgekürzten Typnamen) durch das `*CASE*`-Feature implementiert:"
   ]
  },
  {
   "cell_type": "code",
   "execution_count": 36,
   "metadata": {},
   "outputs": [],
   "source": [
    "#RUN:\n",
    "type_hierarchy = {\n",
    "    \"nichtGen\": [\"NomAkk\", \"Dat\"],\n",
    "    \"NomAkk\": [\"Nom\", \"Akk\"],\n",
    "    \"Dat\": [],\n",
    "    \"Akk\": [],\n",
    "    \"Gen\": [],\n",
    "    \"Nom\": []\n",
    "}\n",
    "CASE = HierarchicalFeature(\"CASE\", type_hierarchy)\n",
    "reader = FeatStructReader(features=(CASE,))"
   ]
  },
  {
   "cell_type": "markdown",
   "metadata": {},
   "source": [
    "### Führen Sie obenstehende Codezelle aus, um die Typhierarchie zu laden.\n",
    "\n",
    "### Geben Sie eine (nicht-leere) Merkmalstruktur `f2` an, sodass gilt:\n",
    "\n",
    "`f2` subsumiert `f1`."
   ]
  },
  {
   "cell_type": "code",
   "execution_count": 38,
   "metadata": {},
   "outputs": [
    {
     "data": {
      "text/plain": [
       "True"
      ]
     },
     "execution_count": 38,
     "metadata": {},
     "output_type": "execute_result"
    }
   ],
   "source": [
    "#TO_DO:\n",
    "f1 = reader.fromstring(\"[*CASE*=NomAkk]\")\n",
    "f2 = reader.fromstring(\"[*CASE*=nichtGen]\")\n",
    "f2.subsumes(f1)"
   ]
  },
  {
   "cell_type": "markdown",
   "metadata": {},
   "source": [
    "---\n",
    "\n",
    "[zurück zur Übersicht](#Übersicht)\n"
   ]
  },
  {
   "cell_type": "markdown",
   "metadata": {},
   "source": [
    "*Code der Angabe:*\n",
    "\n",
    "<div style=\"border: 2px solid gray;font-size:80%; background-color: #F0F0F0; line-height: 1.5;\">\n",
    "<code>\n",
    "f1 = reader.fromstring(\"[*CASE*=NomAkk]\")\n",
    "f2 = reader.fromstring(\"[]\")\n",
    "f2.subsumes(f1)\n",
    "</code>\n",
    "</div>"
   ]
  },
  {
   "cell_type": "markdown",
   "metadata": {},
   "source": [
    "---\n",
    "\n",
    "## 11. Statistisches Parsing"
   ]
  },
  {
   "cell_type": "markdown",
   "metadata": {},
   "source": [
    "\n",
    "## 11.1 PCFG: Gewichte und Ableitungswahrscheinlichkeit\n"
   ]
  },
  {
   "cell_type": "markdown",
   "metadata": {},
   "source": [
    "\n",
    "#### Gegeben sei folgende Mini-Treebank mit PP-Attachment-Sätzen:\n"
   ]
  },
  {
   "cell_type": "code",
   "execution_count": 57,
   "metadata": {},
   "outputs": [
    {
     "name": "stdout",
     "output_type": "stream",
     "text": [
      "          S         \n",
      " ┌───┬────┴───┐      \n",
      " │   VP       │     \n",
      " │   │        │      \n",
      " NP  V        PP    \n",
      " │   │    ┌───┼───┐  \n",
      "Ich gehe auf dem Weg\n",
      "\n",
      "            S              \n",
      " ┌──────────┴───┐           \n",
      " │              VP         \n",
      " │    ┌─────────┴───┐       \n",
      " NP   V             PP     \n",
      " │    │     ┌───────┼───┐   \n",
      "Ich steige auf     den Berg\n",
      "\n",
      "              S              \n",
      " ┌────────────┴───┐           \n",
      " │                VP         \n",
      " │     ┌──────────┴───┐       \n",
      " NP    V              PP     \n",
      " │     │      ┌───────┼───┐   \n",
      "Ich klettere auf     den Berg\n",
      "\n",
      "           S         \n",
      " ┌────┬────┴───┐      \n",
      " │    VP       │     \n",
      " │    │        │      \n",
      " NP   V        PP    \n",
      " │    │    ┌───┼───┐  \n",
      "Ich laufe auf dem Weg\n",
      "\n",
      "           S         \n",
      " ┌────┬────┴───┐      \n",
      " │    VP       │     \n",
      " │    │        │      \n",
      " NP   V        PP    \n",
      " │    │    ┌───┼───┐  \n",
      "Ich renne auf dem Weg\n",
      "\n"
     ]
    }
   ],
   "source": [
    "treestrings = [\n",
    "\"(S (NP Ich) (VP (V gehe)) (PP auf dem Weg))\",\n",
    "\"(S (NP Ich) (VP (V steige) (PP auf den Berg)))\",\n",
    "\"(S (NP Ich) (VP (V klettere) (PP auf den Berg)))\",\n",
    "\"(S (NP Ich) (VP (V laufe)) (PP auf dem Weg))\",\n",
    "\"(S (NP Ich) (VP (V renne)) (PP auf dem Weg))\",\n",
    "]\n",
    "\n",
    "trees = []\n",
    "for treestring in treestrings:\n",
    "    trees.append(Tree.fromstring(treestring))\n",
    "    \n",
    "\n",
    "for tree in trees:\n",
    "    tree.pretty_print(unicodelines=True)"
   ]
  },
  {
   "cell_type": "markdown",
   "metadata": {},
   "source": [
    "### Passen Sie diese Mini-Treebank durch Auskommentieren einer minimalen Anzahl an Sätzen so an, dass die daraus induzierte Grammatik das VP-Attachment (Subkategorisierung nach PP-Komplement statt Satz-Adjunkt) bevorzugt.\n"
   ]
  },
  {
   "cell_type": "code",
   "execution_count": 39,
   "metadata": {
    "scrolled": false
   },
   "outputs": [
    {
     "name": "stdout",
     "output_type": "stream",
     "text": [
      "S -> NP VP PP [0.333333]\n",
      "NP -> 'Ich' [1.0]\n",
      "VP -> V [0.333333]\n",
      "V -> 'gehe' [0.333333]\n",
      "PP -> 'auf' 'dem' 'Weg' [0.333333]\n",
      "S -> NP VP [0.666667]\n",
      "VP -> V PP [0.666667]\n",
      "V -> 'steige' [0.333333]\n",
      "PP -> 'auf' 'den' 'Berg' [0.666667]\n",
      "V -> 'klettere' [0.333333]\n",
      "(S (NP Ich) (VP (V gehe) (PP auf dem Weg))) (p=0.0493827)\n",
      "          S             \n",
      " ┌────────┴───┐          \n",
      " │            VP        \n",
      " │   ┌────────┴───┐      \n",
      " NP  V            PP    \n",
      " │   │    ┌───────┼───┐  \n",
      "Ich gehe auf     dem Weg\n",
      "\n",
      "(S (NP Ich) (VP (V steige) (PP auf den Berg))) (p=0.0987654)\n",
      "            S              \n",
      " ┌──────────┴───┐           \n",
      " │              VP         \n",
      " │    ┌─────────┴───┐       \n",
      " NP   V             PP     \n",
      " │    │     ┌───────┼───┐   \n",
      "Ich steige auf     den Berg\n",
      "\n",
      "(S (NP Ich) (VP (V klettere) (PP auf den Berg))) (p=0.0987654)\n",
      "              S              \n",
      " ┌────────────┴───┐           \n",
      " │                VP         \n",
      " │     ┌──────────┴───┐       \n",
      " NP    V              PP     \n",
      " │     │      ┌───────┼───┐   \n",
      "Ich klettere auf     den Berg\n",
      "\n"
     ]
    }
   ],
   "source": [
    "#TO_DO:\n",
    "treestrings = [\n",
    "\"(S (NP Ich) (VP (V gehe)) (PP auf dem Weg))\",\n",
    "\"(S (NP Ich) (VP (V steige) (PP auf den Berg)))\",\n",
    "\"(S (NP Ich) (VP (V klettere) (PP auf den Berg)))\",\n",
    "#\"(S (NP Ich) (VP (V laufe)) (PP auf dem Weg))\",\n",
    "#\"(S (NP Ich) (VP (V renne)) (PP auf dem Weg))\",\n",
    "]\n",
    "\n",
    "trees = []\n",
    "for treestring in treestrings:\n",
    "    trees.append(Tree.fromstring(treestring))\n",
    "\n",
    "##print trees in treebank:\n",
    "#for tree in trees:\n",
    "#    tree.pretty_print(unicodelines=True)\n",
    "    \n",
    "    \n",
    "#grammar induction:    \n",
    "productions = []\n",
    "S = nltk.Nonterminal('S')\n",
    "\n",
    "for tree in trees:\n",
    "    productions += tree.productions()\n",
    "\n",
    "grammar = nltk.induce_pcfg(S, productions)\n",
    "for production in grammar.productions():\n",
    "    print(production)    \n",
    "    \n",
    "#parse trees with grammar:    \n",
    "parser = nltk.ViterbiParser(grammar)\n",
    "     \n",
    "for tree in trees:\n",
    "    for parse in parser.parse(tree.leaves()): \n",
    "        print(parse)\n",
    "        parse.pretty_print(unicodelines=True) "
   ]
  },
  {
   "cell_type": "markdown",
   "metadata": {},
   "source": [
    "---\n",
    "\n",
    "[zurück zur Übersicht](#Übersicht)\n"
   ]
  },
  {
   "cell_type": "markdown",
   "metadata": {},
   "source": [
    "*Code der Angabe:*\n",
    "\n",
    "<div style=\"border: 2px solid gray;font-size:80%; background-color: #F0F0F0; line-height: 1.5;\">\n",
    "<code>\n",
    "treestrings = [\n",
    "\"(S (NP Ich) (VP (V gehe)) (PP auf dem Weg))\",\n",
    "\"(S (NP Ich) (VP (V steige) (PP auf den Berg)))\",\n",
    "\"(S (NP Ich) (VP (V klettere) (PP auf den Berg)))\",\n",
    "\"(S (NP Ich) (VP (V laufe)) (PP auf dem Weg))\",\n",
    "\"(S (NP Ich) (VP (V renne)) (PP auf dem Weg))\",\n",
    "]\n",
    "\n",
    "trees = []\n",
    "for treestring in treestrings:\n",
    "    trees.append(Tree.fromstring(treestring))\n",
    "\n",
    "##print trees in treebank:\n",
    "#for tree in trees:\n",
    "#    tree.pretty_print(unicodelines=True)\n",
    "    \n",
    "    \n",
    "#grammar induction:    \n",
    "productions = []\n",
    "S = nltk.Nonterminal('S')\n",
    "\n",
    "for tree in trees:\n",
    "    productions += tree.productions()\n",
    "\n",
    "grammar = nltk.induce_pcfg(S, productions)\n",
    "for production in grammar.productions():\n",
    "    print(production)    \n",
    "    \n",
    "#parse trees with grammar:    \n",
    "parser = nltk.ViterbiParser(grammar)\n",
    "     \n",
    "for tree in trees:\n",
    "    for parse in parser.parse(tree.leaves()): \n",
    "        print(parse)\n",
    "        parse.pretty_print(unicodelines=True) \n",
    "</code>\n",
    "</div>"
   ]
  },
  {
   "cell_type": "markdown",
   "metadata": {},
   "source": [
    "---\n",
    "\n",
    "## 11.2 Übergangsbasierter Shift-Reduce-Dependency-Parser"
   ]
  },
  {
   "cell_type": "markdown",
   "metadata": {},
   "source": [
    "#### Betrachten Sie folgende Dependenzanalyse, die die Reihenfolge der Durchführung der `REDUCE`-Übergänge mit einem Shift-Reduce-Dependency-Parser angibt:"
   ]
  },
  {
   "cell_type": "code",
   "execution_count": 2,
   "metadata": {},
   "outputs": [
    {
     "data": {
      "text/html": [
       "<svg xmlns=\"http://www.w3.org/2000/svg\" xmlns:xlink=\"http://www.w3.org/1999/xlink\" xml:lang=\"en\" id=\"3b9fb44a881e4badb0593039f7bd0b44-0\" class=\"displacy\" width=\"350\" height=\"187.0\" direction=\"ltr\" style=\"max-width: none; height: 187.0px; color: #000000; background: #ffffff; font-family: Arial; direction: ltr\">\n",
       "<text class=\"displacy-token\" fill=\"currentColor\" text-anchor=\"middle\" y=\"97.0\">\n",
       "    <tspan class=\"displacy-word\" fill=\"currentColor\" x=\"50\">ich</tspan>\n",
       "    <tspan class=\"displacy-tag\" dy=\"2em\" fill=\"currentColor\" x=\"50\"></tspan>\n",
       "</text>\n",
       "\n",
       "<text class=\"displacy-token\" fill=\"currentColor\" text-anchor=\"middle\" y=\"97.0\">\n",
       "    <tspan class=\"displacy-word\" fill=\"currentColor\" x=\"150\">glaube</tspan>\n",
       "    <tspan class=\"displacy-tag\" dy=\"2em\" fill=\"currentColor\" x=\"150\"></tspan>\n",
       "</text>\n",
       "\n",
       "<text class=\"displacy-token\" fill=\"currentColor\" text-anchor=\"middle\" y=\"97.0\">\n",
       "    <tspan class=\"displacy-word\" fill=\"currentColor\" x=\"250\">es</tspan>\n",
       "    <tspan class=\"displacy-tag\" dy=\"2em\" fill=\"currentColor\" x=\"250\"></tspan>\n",
       "</text>\n",
       "\n",
       "<g class=\"displacy-arrow\">\n",
       "    <path class=\"displacy-arc\" id=\"arrow-3b9fb44a881e4badb0593039f7bd0b44-0-0\" stroke-width=\"2px\" d=\"M70,52.0 C70,2.0 150.0,2.0 150.0,52.0\" fill=\"none\" stroke=\"currentColor\"/>\n",
       "    <text dy=\"1.25em\" style=\"font-size: 0.8em; letter-spacing: 1px\">\n",
       "        <textPath xlink:href=\"#arrow-3b9fb44a881e4badb0593039f7bd0b44-0-0\" class=\"displacy-label\" startOffset=\"50%\" side=\"left\" fill=\"currentColor\" text-anchor=\"middle\">LEFTARC-1</textPath>\n",
       "    </text>\n",
       "    <path class=\"displacy-arrowhead\" d=\"M70,54.0 L62,42.0 78,42.0\" fill=\"currentColor\"/>\n",
       "</g>\n",
       "\n",
       "<g class=\"displacy-arrow\">\n",
       "    <path class=\"displacy-arc\" id=\"arrow-3b9fb44a881e4badb0593039f7bd0b44-0-1\" stroke-width=\"2px\" d=\"M170,52.0 C170,2.0 250.0,2.0 250.0,52.0\" fill=\"none\" stroke=\"currentColor\"/>\n",
       "    <text dy=\"1.25em\" style=\"font-size: 0.8em; letter-spacing: 1px\">\n",
       "        <textPath xlink:href=\"#arrow-3b9fb44a881e4badb0593039f7bd0b44-0-1\" class=\"displacy-label\" startOffset=\"50%\" side=\"left\" fill=\"currentColor\" text-anchor=\"middle\">RIGHTARC-2</textPath>\n",
       "    </text>\n",
       "    <path class=\"displacy-arrowhead\" d=\"M250.0,54.0 L258.0,42.0 242.0,42.0\" fill=\"currentColor\"/>\n",
       "</g>\n",
       "</svg>"
      ],
      "text/plain": [
       "<IPython.core.display.HTML object>"
      ]
     },
     "metadata": {},
     "output_type": "display_data"
    }
   ],
   "source": [
    "sent_nr = \"\"\"\n",
    "1 ich 2 LEFTARC-1\n",
    "2 glaube 0 ROOT\n",
    "3 es 2 RIGHTARC-2\n",
    "\"\"\"\n",
    "\n",
    "sent = transform_nr_conll(sent_nr)\n",
    "dg = DependencyGraph(sent)\n",
    "\n",
    "ex = displacy_dep_input(sent)\n",
    "html = displacy.render(ex, style=\"dep\", manual=True, options={'distance':100})"
   ]
  },
  {
   "cell_type": "markdown",
   "metadata": {},
   "source": [
    "#### Gegeben sei nun folgender Dependenzgraph:"
   ]
  },
  {
   "cell_type": "code",
   "execution_count": 3,
   "metadata": {},
   "outputs": [
    {
     "data": {
      "text/html": [
       "<svg xmlns=\"http://www.w3.org/2000/svg\" xmlns:xlink=\"http://www.w3.org/1999/xlink\" xml:lang=\"en\" id=\"003287dadf814590b52310b92c7c4d85-0\" class=\"displacy\" width=\"450\" height=\"237.0\" direction=\"ltr\" style=\"max-width: none; height: 237.0px; color: #000000; background: #ffffff; font-family: Arial; direction: ltr\">\n",
       "<text class=\"displacy-token\" fill=\"currentColor\" text-anchor=\"middle\" y=\"147.0\">\n",
       "    <tspan class=\"displacy-word\" fill=\"currentColor\" x=\"50\">a</tspan>\n",
       "    <tspan class=\"displacy-tag\" dy=\"2em\" fill=\"currentColor\" x=\"50\"></tspan>\n",
       "</text>\n",
       "\n",
       "<text class=\"displacy-token\" fill=\"currentColor\" text-anchor=\"middle\" y=\"147.0\">\n",
       "    <tspan class=\"displacy-word\" fill=\"currentColor\" x=\"150\">b</tspan>\n",
       "    <tspan class=\"displacy-tag\" dy=\"2em\" fill=\"currentColor\" x=\"150\"></tspan>\n",
       "</text>\n",
       "\n",
       "<text class=\"displacy-token\" fill=\"currentColor\" text-anchor=\"middle\" y=\"147.0\">\n",
       "    <tspan class=\"displacy-word\" fill=\"currentColor\" x=\"250\">c</tspan>\n",
       "    <tspan class=\"displacy-tag\" dy=\"2em\" fill=\"currentColor\" x=\"250\"></tspan>\n",
       "</text>\n",
       "\n",
       "<text class=\"displacy-token\" fill=\"currentColor\" text-anchor=\"middle\" y=\"147.0\">\n",
       "    <tspan class=\"displacy-word\" fill=\"currentColor\" x=\"350\">d</tspan>\n",
       "    <tspan class=\"displacy-tag\" dy=\"2em\" fill=\"currentColor\" x=\"350\"></tspan>\n",
       "</text>\n",
       "\n",
       "<g class=\"displacy-arrow\">\n",
       "    <path class=\"displacy-arc\" id=\"arrow-003287dadf814590b52310b92c7c4d85-0-0\" stroke-width=\"2px\" d=\"M70,102.0 C70,52.0 145.0,52.0 145.0,102.0\" fill=\"none\" stroke=\"currentColor\"/>\n",
       "    <text dy=\"1.25em\" style=\"font-size: 0.8em; letter-spacing: 1px\">\n",
       "        <textPath xlink:href=\"#arrow-003287dadf814590b52310b92c7c4d85-0-0\" class=\"displacy-label\" startOffset=\"50%\" side=\"left\" fill=\"currentColor\" text-anchor=\"middle\">RIGHTARC-?</textPath>\n",
       "    </text>\n",
       "    <path class=\"displacy-arrowhead\" d=\"M145.0,104.0 L153.0,92.0 137.0,92.0\" fill=\"currentColor\"/>\n",
       "</g>\n",
       "\n",
       "<g class=\"displacy-arrow\">\n",
       "    <path class=\"displacy-arc\" id=\"arrow-003287dadf814590b52310b92c7c4d85-0-1\" stroke-width=\"2px\" d=\"M270,102.0 C270,52.0 345.0,52.0 345.0,102.0\" fill=\"none\" stroke=\"currentColor\"/>\n",
       "    <text dy=\"1.25em\" style=\"font-size: 0.8em; letter-spacing: 1px\">\n",
       "        <textPath xlink:href=\"#arrow-003287dadf814590b52310b92c7c4d85-0-1\" class=\"displacy-label\" startOffset=\"50%\" side=\"left\" fill=\"currentColor\" text-anchor=\"middle\">LEFTARC-?</textPath>\n",
       "    </text>\n",
       "    <path class=\"displacy-arrowhead\" d=\"M270,104.0 L262,92.0 278,92.0\" fill=\"currentColor\"/>\n",
       "</g>\n",
       "\n",
       "<g class=\"displacy-arrow\">\n",
       "    <path class=\"displacy-arc\" id=\"arrow-003287dadf814590b52310b92c7c4d85-0-2\" stroke-width=\"2px\" d=\"M170,102.0 C170,2.0 350.0,2.0 350.0,102.0\" fill=\"none\" stroke=\"currentColor\"/>\n",
       "    <text dy=\"1.25em\" style=\"font-size: 0.8em; letter-spacing: 1px\">\n",
       "        <textPath xlink:href=\"#arrow-003287dadf814590b52310b92c7c4d85-0-2\" class=\"displacy-label\" startOffset=\"50%\" side=\"left\" fill=\"currentColor\" text-anchor=\"middle\">RIGHTARC-?</textPath>\n",
       "    </text>\n",
       "    <path class=\"displacy-arrowhead\" d=\"M350.0,104.0 L358.0,92.0 342.0,92.0\" fill=\"currentColor\"/>\n",
       "</g>\n",
       "</svg>"
      ],
      "text/plain": [
       "<IPython.core.display.HTML object>"
      ]
     },
     "metadata": {},
     "output_type": "display_data"
    }
   ],
   "source": [
    "sent_nr = \"\"\"\n",
    "1 a 0 ROOT\n",
    "2 b 1 RIGHTARC-?\n",
    "3 c 4 LEFTARC-?\n",
    "4 d 2 RIGHTARC-?\n",
    "\"\"\"\n",
    "\n",
    "sent = transform_nr_conll(sent_nr)\n",
    "dg = DependencyGraph(sent)\n",
    "\n",
    "ex = displacy_dep_input(sent)\n",
    "html = displacy.render(ex, style=\"dep\", manual=True, options={'distance':100})"
   ]
  },
  {
   "cell_type": "markdown",
   "metadata": {},
   "source": [
    "### Geben Sie dem Beispiel entsprechend eine deutschen Satz an, der diese Dependenzstrukturanalyse erfüllt; geben Sie außerdem die Reihenfolge der Durchführung der `REDUCE`-Übergänge mit einem Shift-Reduce-Dependency-Parser an."
   ]
  },
  {
   "cell_type": "code",
   "execution_count": 41,
   "metadata": {},
   "outputs": [
    {
     "data": {
      "text/html": [
       "<span class=\"tex2jax_ignore\"><svg xmlns=\"http://www.w3.org/2000/svg\" xmlns:xlink=\"http://www.w3.org/1999/xlink\" xml:lang=\"en\" id=\"3f549606ed8a470c8d2bdd29f407721e-0\" class=\"displacy\" width=\"450\" height=\"237.0\" direction=\"ltr\" style=\"max-width: none; height: 237.0px; color: #000000; background: #ffffff; font-family: Arial; direction: ltr\">\n",
       "<text class=\"displacy-token\" fill=\"currentColor\" text-anchor=\"middle\" y=\"147.0\">\n",
       "    <tspan class=\"displacy-word\" fill=\"currentColor\" x=\"50\">kaufe</tspan>\n",
       "    <tspan class=\"displacy-tag\" dy=\"2em\" fill=\"currentColor\" x=\"50\"></tspan>\n",
       "</text>\n",
       "\n",
       "<text class=\"displacy-token\" fill=\"currentColor\" text-anchor=\"middle\" y=\"147.0\">\n",
       "    <tspan class=\"displacy-word\" fill=\"currentColor\" x=\"150\">Bonbons</tspan>\n",
       "    <tspan class=\"displacy-tag\" dy=\"2em\" fill=\"currentColor\" x=\"150\"></tspan>\n",
       "</text>\n",
       "\n",
       "<text class=\"displacy-token\" fill=\"currentColor\" text-anchor=\"middle\" y=\"147.0\">\n",
       "    <tspan class=\"displacy-word\" fill=\"currentColor\" x=\"250\">aus</tspan>\n",
       "    <tspan class=\"displacy-tag\" dy=\"2em\" fill=\"currentColor\" x=\"250\"></tspan>\n",
       "</text>\n",
       "\n",
       "<text class=\"displacy-token\" fill=\"currentColor\" text-anchor=\"middle\" y=\"147.0\">\n",
       "    <tspan class=\"displacy-word\" fill=\"currentColor\" x=\"350\">Wien</tspan>\n",
       "    <tspan class=\"displacy-tag\" dy=\"2em\" fill=\"currentColor\" x=\"350\"></tspan>\n",
       "</text>\n",
       "\n",
       "<g class=\"displacy-arrow\">\n",
       "    <path class=\"displacy-arc\" id=\"arrow-3f549606ed8a470c8d2bdd29f407721e-0-0\" stroke-width=\"2px\" d=\"M70,102.0 C70,52.0 145.0,52.0 145.0,102.0\" fill=\"none\" stroke=\"currentColor\"/>\n",
       "    <text dy=\"1.25em\" style=\"font-size: 0.8em; letter-spacing: 1px\">\n",
       "        <textPath xlink:href=\"#arrow-3f549606ed8a470c8d2bdd29f407721e-0-0\" class=\"displacy-label\" startOffset=\"50%\" side=\"left\" fill=\"currentColor\" text-anchor=\"middle\">RIGHTARC-3</textPath>\n",
       "    </text>\n",
       "    <path class=\"displacy-arrowhead\" d=\"M145.0,104.0 L153.0,92.0 137.0,92.0\" fill=\"currentColor\"/>\n",
       "</g>\n",
       "\n",
       "<g class=\"displacy-arrow\">\n",
       "    <path class=\"displacy-arc\" id=\"arrow-3f549606ed8a470c8d2bdd29f407721e-0-1\" stroke-width=\"2px\" d=\"M270,102.0 C270,52.0 345.0,52.0 345.0,102.0\" fill=\"none\" stroke=\"currentColor\"/>\n",
       "    <text dy=\"1.25em\" style=\"font-size: 0.8em; letter-spacing: 1px\">\n",
       "        <textPath xlink:href=\"#arrow-3f549606ed8a470c8d2bdd29f407721e-0-1\" class=\"displacy-label\" startOffset=\"50%\" side=\"left\" fill=\"currentColor\" text-anchor=\"middle\">LEFTARC-1</textPath>\n",
       "    </text>\n",
       "    <path class=\"displacy-arrowhead\" d=\"M270,104.0 L262,92.0 278,92.0\" fill=\"currentColor\"/>\n",
       "</g>\n",
       "\n",
       "<g class=\"displacy-arrow\">\n",
       "    <path class=\"displacy-arc\" id=\"arrow-3f549606ed8a470c8d2bdd29f407721e-0-2\" stroke-width=\"2px\" d=\"M170,102.0 C170,2.0 350.0,2.0 350.0,102.0\" fill=\"none\" stroke=\"currentColor\"/>\n",
       "    <text dy=\"1.25em\" style=\"font-size: 0.8em; letter-spacing: 1px\">\n",
       "        <textPath xlink:href=\"#arrow-3f549606ed8a470c8d2bdd29f407721e-0-2\" class=\"displacy-label\" startOffset=\"50%\" side=\"left\" fill=\"currentColor\" text-anchor=\"middle\">RIGHTARC-2</textPath>\n",
       "    </text>\n",
       "    <path class=\"displacy-arrowhead\" d=\"M350.0,104.0 L358.0,92.0 342.0,92.0\" fill=\"currentColor\"/>\n",
       "</g>\n",
       "</svg></span>"
      ],
      "text/plain": [
       "<IPython.core.display.HTML object>"
      ]
     },
     "metadata": {},
     "output_type": "display_data"
    }
   ],
   "source": [
    "#TO_DO:\n",
    "sent_nr = \"\"\"\n",
    "1 kaufe 0 ROOT\n",
    "2 Bonbons 1 RIGHTARC-3\n",
    "3 aus 4 LEFTARC-1\n",
    "4 Wien 2 RIGHTARC-2\n",
    "\"\"\"\n",
    "\n",
    "sent = transform_nr_conll(sent_nr)\n",
    "dg = DependencyGraph(sent)\n",
    "\n",
    "ex = displacy_dep_input(sent)\n",
    "html = displacy.render(ex, style=\"dep\", manual=True, options={'distance':100})"
   ]
  },
  {
   "cell_type": "markdown",
   "metadata": {},
   "source": [
    "---\n",
    "\n",
    "[zurück zur Übersicht](#Übersicht)\n"
   ]
  },
  {
   "cell_type": "markdown",
   "metadata": {},
   "source": [
    "*Code der Angabe:*\n",
    "\n",
    "<div style=\"border: 2px solid gray;font-size:80%; background-color: #F0F0F0; line-height: 1.5;\">\n",
    "<code>\n",
    "sent_nr = \"\"\"\n",
    "1 a 0 ROOT\n",
    "2 b 1 RIGHTARC-?\n",
    "3 c 4 LEFTARC-?\n",
    "4 d 2 RIGHTARC-?\n",
    "\"\"\"\n",
    "\n",
    "sent = transform_nr_conll(sent_nr)\n",
    "dg = DependencyGraph(sent)\n",
    "\n",
    "ex = displacy_dep_input(sent)\n",
    "html = displacy.render(ex, style=\"dep\", manual=True, options={'distance':100})\n",
    "</code>\n",
    "</div>"
   ]
  },
  {
   "cell_type": "markdown",
   "metadata": {},
   "source": [
    "---\n",
    "\n",
    "## 12. Datengestützte Syntaxanalyse\n",
    "   "
   ]
  },
  {
   "cell_type": "markdown",
   "metadata": {},
   "source": [
    "\n",
    "## 12.1 Lexikalisierte CFG (mit Merkmalen)\n",
    "\n",
    "#### Gegeben sei folgende FCFG mit nur teilweise durchgeführter Kopfannotation (über ein `HEAD`-Merkmal):"
   ]
  },
  {
   "cell_type": "code",
   "execution_count": 56,
   "metadata": {},
   "outputs": [
    {
     "name": "stdout",
     "output_type": "stream",
     "text": [
      "(S[]\n",
      "  (NP[HEAD='Hund'] (Det[] der) (N[HEAD='Hund'] Hund))\n",
      "  (VP[] (V[] jagt) (NP[HEAD=?n] (Det[] den) (N[] Briefträger))))\n",
      "                                     S[]                               \n",
      "             ┌────────────────────────┴─────┐                           \n",
      "             │                             VP[]                        \n",
      "             │                        ┌─────┴────────┐                  \n",
      "      NP[HEAD='Hund']                 │         NP[HEAD=?n]            \n",
      "  ┌──────────┴──────────────┐         │     ┌────────┴───────────┐      \n",
      "Det[]                 N[HEAD='Hund'] V[]  Det[]                 N[]    \n",
      "  │                         │         │     │                    │      \n",
      " der                       Hund      jagt  den              Briefträger\n",
      "\n"
     ]
    }
   ],
   "source": [
    "sentence = \"der Hund jagt den Briefträger\"\n",
    "\n",
    "gramstring = r\"\"\"\n",
    "% start S\n",
    "    S[]   -> NP[] VP[]\n",
    "    VP[]  -> V[] NP[]\n",
    "    NP[HEAD=?n]  -> Det[] N[HEAD=?n]\n",
    "\n",
    "    Det[] -> \"der\"\n",
    "    Det[] -> \"den\"    \n",
    "    N[HEAD=\"Hund\"]   -> \"Hund\"\n",
    "    N[]   -> \"Briefträger\"\n",
    "    V[]   -> \"jagt\"    \n",
    "\"\"\"\n",
    "\n",
    "grammar = nltk.grammar.FeatureGrammar.fromstring(gramstring)\n",
    "parser = nltk.parse.FeatureChartParser(grammar,trace=0)\n",
    "\n",
    "for tree in parser.parse(sentence.split()):\n",
    "    print(tree)\n",
    "    tree = Tree.fromstring(str(tree).replace(\", \",\",\"))\n",
    "    tree.pretty_print(unicodelines=True)\n",
    "    #display(tree)"
   ]
  },
  {
   "cell_type": "markdown",
   "metadata": {},
   "source": [
    "### Vervollständigen Sie die Kopfannotation.\n"
   ]
  },
  {
   "cell_type": "code",
   "execution_count": 43,
   "metadata": {},
   "outputs": [
    {
     "name": "stdout",
     "output_type": "stream",
     "text": [
      "(S[HEAD='jagt']\n",
      "  (NP[HEAD='Hund'] (Det[] der) (N[HEAD='Hund'] Hund))\n",
      "  (VP[HEAD='jagt']\n",
      "    (V[HEAD='jagt'] jagt)\n",
      "    (NP[HEAD='Briefträger']\n",
      "      (Det[] den)\n",
      "      (N[HEAD='Briefträger'] Briefträger))))\n",
      "                                     S[HEAD='jagt']                                                  \n",
      "             ┌─────────────────────────────┴───────────────┐                                          \n",
      "             │                                      VP[HEAD='jagt']                                  \n",
      "             │                             ┌───────────────┴───────────────┐                          \n",
      "      NP[HEAD='Hund']                      │                        NP[HEAD='Brieftr                 \n",
      "             │                             │                             äger']                      \n",
      "  ┌──────────┴──────────────┐              │               ┌───────────────┴────────────────┐         \n",
      "Det[]                 N[HEAD='Hund'] V[HEAD='jagt']      Det[]                       N[HEAD='Briefträ\n",
      "  │                         │              │               │                              ger']      \n",
      "  │                         │              │               │                                │         \n",
      " der                       Hund           jagt            den                          Briefträger   \n",
      "\n"
     ]
    }
   ],
   "source": [
    "#TO_DO:\n",
    "sentence = \"der Hund jagt den Briefträger\"\n",
    "\n",
    "gramstring = r\"\"\"\n",
    "% start S\n",
    "    S[HEAD=?v]   -> NP[] VP[HEAD=?v]\n",
    "    VP[HEAD=?v]  -> V[HEAD=?v] NP[]\n",
    "    NP[HEAD=?n]  -> Det[] N[HEAD=?n]\n",
    "\n",
    "    Det[] -> \"der\"\n",
    "    Det[] -> \"den\"    \n",
    "    N[HEAD=\"Hund\"]   -> \"Hund\"\n",
    "    N[HEAD=\"Briefträger\"]   -> \"Briefträger\"\n",
    "    V[HEAD=\"jagt\"]   -> \"jagt\"    \n",
    "\"\"\"\n",
    "\n",
    "grammar = nltk.grammar.FeatureGrammar.fromstring(gramstring)\n",
    "parser = nltk.parse.FeatureChartParser(grammar,trace=0)\n",
    "\n",
    "for tree in parser.parse(sentence.split()):\n",
    "    print(tree)\n",
    "    tree = Tree.fromstring(str(tree).replace(\", \",\",\"))\n",
    "    tree.pretty_print(unicodelines=True)\n",
    "    #display(tree)"
   ]
  },
  {
   "cell_type": "markdown",
   "metadata": {},
   "source": [
    "---\n",
    "\n",
    "[zurück zur Übersicht](#Übersicht)\n"
   ]
  },
  {
   "cell_type": "markdown",
   "metadata": {},
   "source": [
    "*Code der Angabe:*\n",
    "\n",
    "<div style=\"border: 2px solid gray;font-size:80%; background-color: #F0F0F0; line-height: 1.5;\">\n",
    "<code>\n",
    "sentence = \"der Hund jagt den Briefträger\"\n",
    "\n",
    "gramstring = r\"\"\"\n",
    "% start S\n",
    "    S[]   -> NP[] VP[]\n",
    "    VP[]  -> V[] NP[]\n",
    "    NP[HEAD=?n]  -> Det[] N[HEAD=?n]\n",
    "\n",
    "    Det[] -> \"der\"\n",
    "    Det[] -> \"den\"    \n",
    "    N[HEAD=\"Hund\"]   -> \"Hund\"\n",
    "    N[]   -> \"Briefträger\"\n",
    "    V[]   -> \"jagt\"    \n",
    "\"\"\"\n",
    "\n",
    "grammar = nltk.grammar.FeatureGrammar.fromstring(gramstring)\n",
    "parser = nltk.parse.FeatureChartParser(grammar,trace=0)\n",
    "\n",
    "for tree in parser.parse(sentence.split()):\n",
    "    print(tree)\n",
    "    tree = Tree.fromstring(str(tree).replace(\", \",\",\"))\n",
    "    tree.pretty_print(unicodelines=True)\n",
    "    #display(tree)\n",
    "</code>\n",
    "</div>"
   ]
  },
  {
   "cell_type": "markdown",
   "metadata": {},
   "source": [
    "\n",
    "---\n",
    "\n",
    "\n",
    "## 12.2 Parent Annotation (mit Symbolerweiterung)\n",
    "\n",
    "#### Gegeben sei folgende CFG für einen Satz mit transitivem Verb mit unvollständiger *Parent Annotation*:"
   ]
  },
  {
   "cell_type": "code",
   "execution_count": 55,
   "metadata": {},
   "outputs": [
    {
     "name": "stdout",
     "output_type": "stream",
     "text": [
      "                 S                         \n",
      "        ┌────────┴─────┐                    \n",
      "        │              VP                  \n",
      "        │        ┌─────┴─────┐              \n",
      "        NP       │           NP            \n",
      "  ┌─────┴───┐    │     ┌─────┴───────┐      \n",
      "Det^NP      N    V   Det^NP          N     \n",
      "  │         │    │     │             │      \n",
      " der       Hund jagt  den       Briefträger\n",
      "\n"
     ]
    }
   ],
   "source": [
    "sentence = \"der Hund jagt den Briefträger\"\n",
    "\n",
    "grammar = nltk.CFG.fromstring(\"\"\"\n",
    "    S   -> NP VP\n",
    "    VP  -> V NP\n",
    "    NP  -> Det^NP N\n",
    "\n",
    "    Det^NP -> \"der\"\n",
    "    Det^NP -> \"den\"    \n",
    "    N   -> \"Hund\"\n",
    "    N   -> \"Briefträger\"\n",
    "    V   -> \"jagt\"  \n",
    "\"\"\")\n",
    "\n",
    "parser = nltk.ChartParser(grammar,trace=0)\n",
    "\n",
    "for tree in parser.parse(sentence.split()):\n",
    "    tree.pretty_print(unicodelines=True)    "
   ]
  },
  {
   "cell_type": "markdown",
   "metadata": {},
   "source": [
    "### Vervollständigen Sie über Symbolerweiterung (mit `^` als Trennerzeichen) in der CFG die *Parent Annotation*, wie sie durch die Regelanwendungen im Syntaxbaum der Angabe impliziert ist."
   ]
  },
  {
   "cell_type": "code",
   "execution_count": null,
   "metadata": {},
   "outputs": [],
   "source": [
    "#TO_DO:\n",
    "sentence = \"der Hund jagt den Briefträger\"\n",
    "\n",
    "grammar = nltk.CFG.fromstring(\"\"\"\n",
    "    S   -> NP^S VP^S\n",
    "    VP  -> V^VP NP^VP\n",
    "    NP^S  -> Det^NP N^NP\n",
    "\n",
    "    Det^NP -> \"der\"\n",
    "    Det^NP -> \"den\"    \n",
    "    N^NP   -> \"Hund\"\n",
    "    N^NP   -> \"Briefträger\"\n",
    "    V^VP   -> \"jagt\"\n",
    "\n",
    "###########ERGAENZTE REGELN:    \n",
    "  NP^VP -> Det^NP N^NP\n",
    "\"\"\")\n",
    "\n",
    "parser = nltk.ChartParser(grammar,trace=0)\n",
    "\n",
    "for tree in parser.parse(sentence.split()):\n",
    "    tree.pretty_print(unicodelines=True)    "
   ]
  },
  {
   "cell_type": "markdown",
   "metadata": {},
   "source": [
    "---\n",
    "\n",
    "[zurück zur Übersicht](#Übersicht)\n"
   ]
  },
  {
   "cell_type": "markdown",
   "metadata": {},
   "source": [
    "*Code der Angabe:*\n",
    "\n",
    "<div style=\"border: 2px solid gray;font-size:80%; background-color: #F0F0F0; line-height: 1.5;\">\n",
    "<code>\n",
    "sentence = \"der Hund jagt den Briefträger\"\n",
    "\n",
    "grammar = nltk.CFG.fromstring(\"\"\"\n",
    "    S   -> NP VP\n",
    "    VP  -> V NP\n",
    "    NP  -> Det^NP N\n",
    "\n",
    "    Det^NP -> \"der\"\n",
    "    Det^NP -> \"den\"    \n",
    "    N   -> \"Hund\"\n",
    "    N   -> \"Briefträger\"\n",
    "    V   -> \"jagt\"\n",
    "\n",
    "###########ERGAENZTE REGELN:    \n",
    "  \n",
    "\"\"\")\n",
    "\n",
    "parser = nltk.ChartParser(grammar,trace=0)\n",
    "\n",
    "for tree in parser.parse(sentence.split()):\n",
    "    tree.pretty_print(unicodelines=True)    \n",
    "</code>\n",
    "</div>"
   ]
  },
  {
   "cell_type": "markdown",
   "metadata": {},
   "source": [
    "---\n",
    "\n",
    "## 13. Chunk-Analysen\n",
    "\n",
    "### Vervollständigen Sie den die folgende *IOB-Tag-Sequenz* einer NP-Chunk-Analyse erfüllenden deutschen Satz.\n",
    "\n",
    "#### (Beachten Sie auch die gegebenen Satzzeichen bzgl. möglicher Satztypen und entsprechender Worstellung.)\n"
   ]
  },
  {
   "cell_type": "code",
   "execution_count": 44,
   "metadata": {},
   "outputs": [
    {
     "name": "stdout",
     "output_type": "stream",
     "text": [
      "[('B-NP', 'der'), ('I-NP', 'kleine'), ('I-NP', 'Hund'), ('O', 'bringt'), ('B-NP', 'ihm'), ('B-NP', 'einen'), ('I-NP', 'Knochen'), ('O', '.')]\n"
     ]
    }
   ],
   "source": [
    "#TO_DO:\n",
    "iob_list = [\n",
    "(\"B-NP\", \"der\"),\n",
    "(\"I-NP\", \"kleine\"),\n",
    "(\"I-NP\", \"Hund\"),\n",
    "(\"O\", \"bringt\"), \n",
    "(\"B-NP\", \"ihm\"),\n",
    "(\"B-NP\", \"einen\"),\n",
    "(\"I-NP\", \"Knochen\"),\n",
    "(\"O\", \".\")\n",
    "]\n",
    "\n",
    "print(iob_list)"
   ]
  },
  {
   "cell_type": "markdown",
   "metadata": {},
   "source": [
    "---\n",
    "\n",
    "[zurück zur Übersicht](#Übersicht)\n"
   ]
  },
  {
   "cell_type": "markdown",
   "metadata": {},
   "source": [
    "*Code der Angabe:*\n",
    "\n",
    "<div style=\"border: 2px solid gray;font-size:80%; background-color: #F0F0F0; line-height: 1.5;\">\n",
    "<code>\n",
    "iob_list = [\n",
    "(\"B-NP\", \"\"),\n",
    "(\"I-NP\", \"\"),\n",
    "(\"I-NP\", \"\"),\n",
    "(\"O\", \"bringt\"), \n",
    "(\"B-NP\", \"\"),\n",
    "(\"B-NP\", \"\"),\n",
    "(\"I-NP\", \"\"),\n",
    "(\"O\", \".\")\n",
    "]\n",
    "\n",
    "print(iob_list)\n",
    "</code>\n",
    "</div>"
   ]
  }
 ],
 "metadata": {
  "kernelspec": {
   "display_name": "venv_syntax",
   "language": "python",
   "name": "venv_syntax"
  },
  "language_info": {
   "codemirror_mode": {
    "name": "ipython",
    "version": 3
   },
   "file_extension": ".py",
   "mimetype": "text/x-python",
   "name": "python",
   "nbconvert_exporter": "python",
   "pygments_lexer": "ipython3",
   "version": "3.8.5"
  }
 },
 "nbformat": 4,
 "nbformat_minor": 2
}
