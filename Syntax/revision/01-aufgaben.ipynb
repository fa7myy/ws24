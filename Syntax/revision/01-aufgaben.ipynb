{
 "cells": [
  {
   "cell_type": "markdown",
   "metadata": {},
   "source": [
    "Syntax natürlicher Sprachen, WS 2024/25\n",
    "\n",
    "# 01 - Aufgabenblatt"
   ]
  },
  {
   "cell_type": "code",
   "execution_count": 1,
   "metadata": {},
   "outputs": [],
   "source": [
    "from nltk import Tree\n",
    "import itertools"
   ]
  },
  {
   "cell_type": "markdown",
   "metadata": {},
   "source": [
    "## Aufgabe 1: Substitution mit Kastendiagramm\n",
    "\n",
    "\n",
    "#### Zerlegen Sie den folgenden Satz schrittweise in seine Konstituenten, bis Sie bei einem 2-Wort-Satz ankommen. Stellen Sie die Konstituentenstruktur mit einem Kastendiagramm dar.\n",
    "\n",
    " *Die Kunst des Ausruhens ist ein Teil der Kunst des Arbeitens.*"
   ]
  },
  {
   "cell_type": "markdown",
   "metadata": {},
   "source": [
    "\n",
    "| Die | Kunst | des | Ausruhens | ist | ein | Teil | der | Kunst | des  | Arbeitens |\n",
    "| ------ | ------ | ------ |  ------ |  ------ |  ------ |  ------ |  ------ |  ------ |  ------ |  ------ |\n",
    "| Die | Kunst | daran | ist | ein | Teil | der Kunst | davon |  |  |  |\n",
    "| Die | Syntax |  | ist | ein | Teil | der | Sprache |  |  |  |\n",
    "| Die | Syntax |  | ist | ein | Teil |  |  |  |  |  |\n",
    "| Sie |  |  | ist | ein | Teil |  |  |  |  |  |\n",
    "| Sie |  |  | ist | ein | Theoriekonstrukt |  |  |  |  |  |\n",
    "| Sie |  |  | ist | Wunderbar |  |  |  |  |  |  |\n",
    "| Sie |  |  | geht |  |  |  |  |  |  |  |\n"
   ]
  },
  {
   "cell_type": "markdown",
   "metadata": {},
   "source": [
    "\n",
    "## Aufgabe 2: Darstellung syntaktischer Strukturen"
   ]
  },
  {
   "cell_type": "markdown",
   "metadata": {},
   "source": [
    "\n",
    "#### Geben Sie in folgender Codezelle zu Ihrer Analyse des Satzes aus der vorherigen Aufgabe den entsprechenden Klammerausdruck an und generieren Sie anschließend den entsprechenden Syntaxbaum, indem Sie die Codezelle ausführen."
   ]
  },
  {
   "cell_type": "code",
   "execution_count": 14,
   "metadata": {},
   "outputs": [
    {
     "name": "stdout",
     "output_type": "stream",
     "text": [
      "                         S                                  \n",
      "    ┌───────────┬────────┴──────┐                            \n",
      "    │           │                                           \n",
      "    │           │        ┌──────┴────────┐                   \n",
      "    │           │        │            ein_Teil              \n",
      "    │           │        │               │                   \n",
      "    │           │        │                                  \n",
      "    │           │        │      ┌────────┴───────────┐       \n",
      "Die_Kunst des_Ausruhens ist der_Kunst          des_Arbeitens\n",
      "    │           │        │      │                    │       \n",
      "   ...         ...      ...    ...                  ...     \n",
      "\n"
     ]
    }
   ],
   "source": [
    "tree = Tree.fromstring(\"\"\"\n",
    "(S (Die_Kunst) (des_Ausruhens) ((ist) (ein_Teil ((der_Kunst) (des_Arbeitens)))))\n",
    "\"\"\")\n",
    "\n",
    "tree.pretty_print(unicodelines=True)"
   ]
  },
  {
   "cell_type": "markdown",
   "metadata": {},
   "source": [
    "## Aufgabe 3: Konstituententests"
   ]
  },
  {
   "cell_type": "markdown",
   "metadata": {},
   "source": [
    "### (a) Permutationstest\n",
    "\n",
    "#### Gegeben sei folgender Satz sowie die Resulte der systematischen Permutationen seiner Worttokens:\n"
   ]
  },
  {
   "cell_type": "code",
   "execution_count": 15,
   "metadata": {},
   "outputs": [
    {
     "name": "stdout",
     "output_type": "stream",
     "text": [
      "0 ('der', 'Postbote', 'schrieb', 'gestern')\n",
      "1 ('der', 'Postbote', 'gestern', 'schrieb')\n",
      "2 ('der', 'schrieb', 'Postbote', 'gestern')\n",
      "3 ('der', 'schrieb', 'gestern', 'Postbote')\n",
      "4 ('der', 'gestern', 'Postbote', 'schrieb')\n",
      "5 ('der', 'gestern', 'schrieb', 'Postbote')\n",
      "6 ('Postbote', 'der', 'schrieb', 'gestern')\n",
      "7 ('Postbote', 'der', 'gestern', 'schrieb')\n",
      "8 ('Postbote', 'schrieb', 'der', 'gestern')\n",
      "9 ('Postbote', 'schrieb', 'gestern', 'der')\n",
      "10 ('Postbote', 'gestern', 'der', 'schrieb')\n",
      "11 ('Postbote', 'gestern', 'schrieb', 'der')\n",
      "12 ('schrieb', 'der', 'Postbote', 'gestern')\n",
      "13 ('schrieb', 'der', 'gestern', 'Postbote')\n",
      "14 ('schrieb', 'Postbote', 'der', 'gestern')\n",
      "15 ('schrieb', 'Postbote', 'gestern', 'der')\n",
      "16 ('schrieb', 'gestern', 'der', 'Postbote')\n",
      "17 ('schrieb', 'gestern', 'Postbote', 'der')\n",
      "18 ('gestern', 'der', 'Postbote', 'schrieb')\n",
      "19 ('gestern', 'der', 'schrieb', 'Postbote')\n",
      "20 ('gestern', 'Postbote', 'der', 'schrieb')\n",
      "21 ('gestern', 'Postbote', 'schrieb', 'der')\n",
      "22 ('gestern', 'schrieb', 'der', 'Postbote')\n",
      "23 ('gestern', 'schrieb', 'Postbote', 'der')\n"
     ]
    }
   ],
   "source": [
    "sentence = \"der Postbote schrieb gestern\"\n",
    "\n",
    "permutations = list(itertools.permutations(sentence.split()))\n",
    "for (i, item) in enumerate(permutations):\n",
    "    print(i, item)    "
   ]
  },
  {
   "cell_type": "markdown",
   "metadata": {},
   "source": [
    "#### Geben Sie alle wohlgeformten Permutationen an und diskutieren Sie, welche Konstituenten durch diese Permutation jeweils festgestellt werden:"
   ]
  },
  {
   "cell_type": "code",
   "execution_count": null,
   "metadata": {},
   "outputs": [
    {
     "data": {
      "text/plain": [
       "('gestern', 'schrieb', 'der', 'Postbote')"
      ]
     },
     "execution_count": 16,
     "metadata": {},
     "output_type": "execute_result"
    }
   ],
   "source": [
    "permutations[0]\n",
    "permutations[12]\n",
    "permutations[16]\n",
    "permutations[22]\n",
    "# Konstituente:\n",
    "# Gestern - schrieb - der Postbote"
   ]
  },
  {
   "cell_type": "markdown",
   "metadata": {},
   "source": [
    "### (b) Eliminierungtest\n",
    "\n",
    "#### Gegeben sei folgender Satz sowie die Resultate der systematischen Elimierung je eines Worttokens:\n"
   ]
  },
  {
   "cell_type": "code",
   "execution_count": 17,
   "metadata": {},
   "outputs": [
    {
     "name": "stdout",
     "output_type": "stream",
     "text": [
      "0 ['Postbote', 'schrieb', 'gestern', 'einen', 'Brief']\n",
      "1 ['der', 'schrieb', 'gestern', 'einen', 'Brief']\n",
      "2 ['der', 'Postbote', 'gestern', 'einen', 'Brief']\n",
      "3 ['der', 'Postbote', 'schrieb', 'einen', 'Brief']\n",
      "4 ['der', 'Postbote', 'schrieb', 'gestern', 'Brief']\n",
      "5 ['der', 'Postbote', 'schrieb', 'gestern', 'einen']\n"
     ]
    }
   ],
   "source": [
    "sentence = \"der Postbote schrieb gestern einen Brief\"\n",
    "\n",
    "sentencelist = []\n",
    "for i in range(len((sentence.split()))):\n",
    "    sentencelist.append(sentence.split().copy())\n",
    "    sentencelist[i].pop(i)\n",
    "    print(i, sentencelist[i])"
   ]
  },
  {
   "cell_type": "markdown",
   "metadata": {},
   "source": [
    "#### Geben Sie unten über den Listenindex eine wohlgeformte Version des Satzes mit Eliminerung an und die dadurch festgestellte Konstituente:"
   ]
  },
  {
   "cell_type": "code",
   "execution_count": null,
   "metadata": {},
   "outputs": [],
   "source": [
    "sentencelist[3]\n",
    "# Gestern"
   ]
  },
  {
   "cell_type": "markdown",
   "metadata": {},
   "source": [
    "## Aufgabe 4:  Adjunkt-Tests\n",
    "\n",
    "#### Verwenden Sie die folgenden Tests, um notwendige von nicht-notwendigen Satzgliedern zu unterscheiden."
   ]
  },
  {
   "cell_type": "markdown",
   "metadata": {},
   "source": [
    "### (a) *geschehens*-Test\n"
   ]
  },
  {
   "cell_type": "code",
   "execution_count": 18,
   "metadata": {},
   "outputs": [
    {
     "name": "stdout",
     "output_type": "stream",
     "text": [
      "frisst in der Nacht die Maus auf dem Dachboden , und das geschieht  < der Kater >\n"
     ]
    }
   ],
   "source": [
    "sentence = [\"der Kater\", \"frisst\", \"in der Nacht\", \"die Maus\", \"auf dem Dachboden\"]\n",
    "test = sentence.pop(0)\n",
    "print(*sentence, \", und das geschieht \", \"<\", test,  \">\")"
   ]
  },
  {
   "cell_type": "markdown",
   "metadata": {},
   "source": [
    "### (b) Adverbialsatz-Test\n"
   ]
  },
  {
   "cell_type": "code",
   "execution_count": 19,
   "metadata": {},
   "outputs": [
    {
     "name": "stdout",
     "output_type": "stream",
     "text": [
      "frisst in der Nacht die Maus auf dem Dachboden , als er  < der Kater >  war\n"
     ]
    }
   ],
   "source": [
    "sentence = [\"der Kater\", \"frisst\", \"in der Nacht\", \"die Maus\", \"auf dem Dachboden\"]\n",
    "test = sentence.pop(0)\n",
    "print(*sentence, \", als er \", \"<\", test,  \">\", \" war\")"
   ]
  },
  {
   "cell_type": "markdown",
   "metadata": {},
   "source": [
    "### (c) Eliminierungstest\n"
   ]
  },
  {
   "cell_type": "code",
   "execution_count": 20,
   "metadata": {},
   "outputs": [
    {
     "name": "stdout",
     "output_type": "stream",
     "text": [
      "frisst in der Nacht die Maus auf dem Dachboden <<<<<<<< der Kater\n"
     ]
    }
   ],
   "source": [
    "sentence = [\"der Kater\", \"frisst\", \"in der Nacht\", \"die Maus\", \"auf dem Dachboden\"]\n",
    "test = sentence.pop(0)\n",
    "print(*sentence, \"<<<<<<<<\", test)"
   ]
  }
 ],
 "metadata": {
  "kernelspec": {
   "display_name": "Python 3",
   "language": "python",
   "name": "python3"
  },
  "language_info": {
   "codemirror_mode": {
    "name": "ipython",
    "version": 3
   },
   "file_extension": ".py",
   "mimetype": "text/x-python",
   "name": "python",
   "nbconvert_exporter": "python",
   "pygments_lexer": "ipython3",
   "version": "3.12.6"
  }
 },
 "nbformat": 4,
 "nbformat_minor": 2
}
