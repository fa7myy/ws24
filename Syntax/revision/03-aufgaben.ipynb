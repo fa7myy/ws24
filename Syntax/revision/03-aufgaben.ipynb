{
 "cells": [
  {
   "cell_type": "markdown",
   "metadata": {},
   "source": [
    "Syntax natürlicher Sprachen, WS 2024/25\n",
    "\n",
    "# 03 - Aufgabenblatt"
   ]
  },
  {
   "cell_type": "code",
   "execution_count": 139,
   "metadata": {},
   "outputs": [],
   "source": [
    "import nltk\n",
    "from nltk.tree import Tree\n",
    "from nltk import CFG, Production, Nonterminal\n",
    "import copy"
   ]
  },
  {
   "cell_type": "markdown",
   "metadata": {},
   "source": [
    "## Aufgabe 1 - Phrasenstrukturgrammatik in X-Bar-Struktur\n",
    "\n",
    "#### Wandeln Sie die gegebene minimale CFG mit flachen Regeln gemäß den folgenden Anweisungen schrittweise in X-Bar-Struktur um. Kopieren Sie jeweils die Grammatik von der vorherigen Teilaufgabe.\n"
   ]
  },
  {
   "cell_type": "code",
   "execution_count": 140,
   "metadata": {},
   "outputs": [],
   "source": [
    "sent = 'der Hund jagt den langsamen Briefträger'"
   ]
  },
  {
   "cell_type": "code",
   "execution_count": 141,
   "metadata": {},
   "outputs": [
    {
     "name": "stdout",
     "output_type": "stream",
     "text": [
      "              S                                \n",
      "     ┌────────┴────────┐                        \n",
      "     │                 VP                      \n",
      "     │        ┌────────┴──────┐                 \n",
      "     NP       │               NP               \n",
      " ┌───┴───┐    │    ┌──────────┼──────────┐      \n",
      "DET      N    V   DET        ADJ         N     \n",
      " │       │    │    │          │          │      \n",
      "der     Hund jagt den     langsamen Briefträger\n",
      "\n"
     ]
    }
   ],
   "source": [
    "grammar = nltk.CFG.fromstring(\"\"\"\n",
    "    S   -> NP VP\n",
    "    VP  -> V NP\n",
    "    NP  -> DET N\n",
    "    NP  -> DET ADJ N\n",
    "\n",
    "    DET -> \"der\" | \"den\"\n",
    "    N   -> \"Hund\" | \"Briefträger\"\n",
    "    ADJ -> \"langsamen\"\n",
    "    V   -> \"jagt\"\n",
    "\"\"\")\n",
    "\n",
    "parser = nltk.ChartParser(grammar)\n",
    "for tree in parser.parse(sent.split()):\n",
    "    tree.pretty_print(unicodelines=True)"
   ]
  },
  {
   "cell_type": "markdown",
   "metadata": {},
   "source": [
    "### a) NP-Adjunkt (ADJ) und NP-Spezifizierer (DET)\n",
    "\n",
    "#### Wandeln Sie die NP-Regeln in X-Bar-Struktur um, um rekursive Erweiterung um Adjektive zu ermöglichen.\n"
   ]
  },
  {
   "cell_type": "code",
   "execution_count": 142,
   "metadata": {},
   "outputs": [],
   "source": [
    "sent = 'der Hund jagt den langsamen schreienden Briefträger'"
   ]
  },
  {
   "cell_type": "code",
   "execution_count": 143,
   "metadata": {},
   "outputs": [
    {
     "name": "stdout",
     "output_type": "stream",
     "text": [
      "                   S                                           \n",
      "     ┌─────────────┴──────┐                                     \n",
      "     │                    VP                                   \n",
      "     │        ┌───────────┴──────┐                              \n",
      "     │        │                  NP                            \n",
      "     │        │    ┌─────────────┴───────┐                      \n",
      "     │        │    │                    NOM                    \n",
      "     │        │    │      ┌──────────────┴───────┐              \n",
      "     NP       │    │      │                     NOM            \n",
      " ┌───┴───┐    │    │      │              ┌───────┴───────┐      \n",
      " │      NOM   │    │      │              │              NOM    \n",
      " │       │    │    │      │              │               │      \n",
      "DET      N    V   DET    ADJ            ADJ              N     \n",
      " │       │    │    │      │              │               │      \n",
      "der     Hund jagt den langsamen     schreienden     Briefträger\n",
      "\n"
     ]
    }
   ],
   "source": [
    "grammar = nltk.CFG.fromstring(\"\"\"\n",
    "    S   -> NP VP\n",
    "    VP  -> V NP\n",
    "    NP  -> NOM | DET NOM\n",
    "    NOM -> ADJ NOM | N\n",
    "\n",
    "    DET -> \"der\" | \"den\"\n",
    "    N   -> \"Hund\" | \"Briefträger\"\n",
    "    ADJ -> \"langsamen\" | \"schreienden\"\n",
    "    V   -> \"jagt\"\n",
    "\"\"\")\n",
    "\n",
    "parser = nltk.ChartParser(grammar)\n",
    "trees = list(parser.parse(sent.split()))\n",
    "if trees: [tree.pretty_print(unicodelines=True) for tree in trees]\n",
    "else: print(f\"no parse found for: {sent}\")"
   ]
  },
  {
   "cell_type": "markdown",
   "metadata": {},
   "source": [
    "#### Gleichzeitig sollen (durch Verwendung einer nominalen X-Bar-Zwischenebene NOM) Überproduktionen folgender Art vermieden werden:"
   ]
  },
  {
   "cell_type": "code",
   "execution_count": 144,
   "metadata": {},
   "outputs": [],
   "source": [
    "neg_sent = 'der Hund jagt den langsamen schreienden den Briefträger'"
   ]
  },
  {
   "cell_type": "code",
   "execution_count": 145,
   "metadata": {},
   "outputs": [
    {
     "name": "stdout",
     "output_type": "stream",
     "text": [
      "no parse found for: der Hund jagt den langsamen schreienden den Briefträger\n"
     ]
    }
   ],
   "source": [
    "parser = nltk.ChartParser(grammar)\n",
    "trees = list(parser.parse(neg_sent.split()))\n",
    "if trees: [tree.pretty_print(unicodelines=True) for tree in trees]\n",
    "else: print(f\"no parse found for: {neg_sent}\")"
   ]
  },
  {
   "cell_type": "markdown",
   "metadata": {},
   "source": [
    "### b) VP-Komplement (Objekt-NP) und NP-Komplement (Genitiv-NP)\n",
    "\n",
    "#### Wandeln Sie die VP-Regeln in X-Bar-Struktur um. \n",
    "\n",
    "#### Ergänzen Sie außerdem eine NP-Regel in X-Bar-Struktur für eine Genitiv-NP als Komplement der NP."
   ]
  },
  {
   "cell_type": "code",
   "execution_count": 146,
   "metadata": {},
   "outputs": [],
   "source": [
    "sent = 'der Hund jagt den Briefträger der Stadt der Briefträger'"
   ]
  },
  {
   "cell_type": "code",
   "execution_count": 147,
   "metadata": {},
   "outputs": [
    {
     "name": "stdout",
     "output_type": "stream",
     "text": [
      "         S                                                            \n",
      "     ┌───┴──────────┐                                                  \n",
      "     │              VP                                                \n",
      "     │              │                                                  \n",
      "     │            VERBAL                                              \n",
      "     │        ┌─────┴─────────────────┐                                \n",
      "     │        │                       NP                              \n",
      "     │        │     ┌─────────────────┴────┐                           \n",
      "     │        │     │                     NOM                         \n",
      "     │        │     │         ┌────────────┴────┐                      \n",
      "     │        │     │         │                 NP                    \n",
      "     │        │     │         │       ┌─────────┴───┐                  \n",
      "     │        │     │         │       │            NOM                \n",
      "     │        │     │         │       │    ┌────────┴───┐              \n",
      "     NP       │     │         │       │    │            NP            \n",
      " ┌───┴───┐    │     │         │       │    │        ┌───┴───────┐      \n",
      " │      NOM   │     │         │       │    │        │          NOM    \n",
      " │       │    │     │         │       │    │        │           │      \n",
      "DET      N    V    DET        N      DET   N       DET          N     \n",
      " │       │    │     │         │       │    │        │           │      \n",
      "der     Hund jagt  den   Briefträger der Stadt     der     Briefträger\n",
      "\n"
     ]
    }
   ],
   "source": [
    "grammar = nltk.CFG.fromstring(\"\"\"\n",
    "    S   -> NP VP\n",
    "    VP  -> VERBAL \n",
    "    VERBAL -> V NP\n",
    "    NP  -> NOM | DET NOM\n",
    "    NOM -> ADJ NOM | N | N NP\n",
    "\n",
    "    DET -> \"der\" | \"den\"\n",
    "    N   -> \"Hund\" | \"Briefträger\" | \"Stadt\"\n",
    "    ADJ -> \"langsamen\" | \"schreienden\"\n",
    "    V   -> \"jagt\"\n",
    "\"\"\")\n",
    "\n",
    "parser = nltk.ChartParser(grammar)\n",
    "trees = list(parser.parse(sent.split()))\n",
    "if trees: [tree.pretty_print(unicodelines=True) for tree in trees]\n",
    "else: print(f\"no parse found for: {sent}\")"
   ]
  },
  {
   "cell_type": "markdown",
   "metadata": {},
   "source": [
    "### c) mehr VP-Komplemente (Objekt und indirektes Objekt)\n",
    "\n",
    "#### Ergänzen Sie eine VP-Komplement-Regel für das (fakultativ) ditransitive Verb *jemandem etwas übergeben*.\n",
    "\n",
    "##### Beachten Sie, dass die hier auftretende Ambiguität (*der Stadt* als Dativ-VP-Komplement bzw. als Genitiv-NP-Komplement) auch in Ihrem Parsingresultat sichtbar wird (2 Ableitungsbäume)."
   ]
  },
  {
   "cell_type": "code",
   "execution_count": 148,
   "metadata": {},
   "outputs": [],
   "source": [
    "sent = 'der Briefträger übergibt den Hund der Stadt'"
   ]
  },
  {
   "cell_type": "code",
   "execution_count": 149,
   "metadata": {},
   "outputs": [
    {
     "name": "stdout",
     "output_type": "stream",
     "text": [
      "                              S                          \n",
      "     ┌────────────────────────┴────────┐                  \n",
      "     │                                 VP                \n",
      "     │                                 │                  \n",
      "     │                               VERBAL              \n",
      "     │                 ┌──────────┬────┴─────────┐        \n",
      "     NP                │          NP             NP      \n",
      " ┌───┴───────┐         │      ┌───┴────┐     ┌───┴────┐   \n",
      " │          NOM        │      │       NOM    │       NOM \n",
      " │           │         │      │        │     │        │   \n",
      "DET          N         V     DET       N    DET       N  \n",
      " │           │         │      │        │     │        │   \n",
      "der     Briefträger übergibt den      Hund  der     Stadt\n",
      "\n",
      "                              S                          \n",
      "     ┌────────────────────────┴────┐                      \n",
      "     │                             VP                    \n",
      "     │                             │                      \n",
      "     │                           VERBAL                  \n",
      "     │                 ┌───────────┴─────┐                \n",
      "     │                 │                 NP              \n",
      "     │                 │      ┌──────────┴───┐            \n",
      "     │                 │      │             NOM          \n",
      "     │                 │      │    ┌─────────┴───┐        \n",
      "     NP                │      │    │             NP      \n",
      " ┌───┴───────┐         │      │    │         ┌───┴────┐   \n",
      " │          NOM        │      │    │         │       NOM \n",
      " │           │         │      │    │         │        │   \n",
      "DET          N         V     DET   N        DET       N  \n",
      " │           │         │      │    │         │        │   \n",
      "der     Briefträger übergibt den  Hund      der     Stadt\n",
      "\n"
     ]
    }
   ],
   "source": [
    "grammar = nltk.CFG.fromstring(\"\"\"\n",
    "    S   -> NP VP\n",
    "    VP  -> VERBAL \n",
    "    VERBAL -> V NP | V NP NP\n",
    "    NP  -> NOM | DET NOM\n",
    "    NOM -> ADJ NOM | N | N NP\n",
    "\n",
    "    DET -> \"der\" | \"den\"\n",
    "    N   -> \"Hund\" | \"Briefträger\" | \"Stadt\"\n",
    "    ADJ -> \"langsamen\" | \"schreienden\"\n",
    "    V   -> \"jagt\" | \"übergibt\"\n",
    "\"\"\")\n",
    "\n",
    "parser = nltk.ChartParser(grammar)\n",
    "trees = list(parser.parse(sent.split()))\n",
    "if trees: [tree.pretty_print(unicodelines=True) for tree in trees]\n",
    "else: print(f\"no parse found for: {sent}\")"
   ]
  },
  {
   "cell_type": "markdown",
   "metadata": {},
   "source": [
    "### d) VP-Spezifizierer (AUX) mit Zusatzregel für invertiertes Komplement\n",
    "\n",
    "#### Ergänzen Sie Regeln für ein Auxiliar als Spezifizierer der VP sowie für die dann notwendige invertierte Wortstellung von Objekt-NP und Vollverb.\n"
   ]
  },
  {
   "cell_type": "code",
   "execution_count": 150,
   "metadata": {},
   "outputs": [],
   "source": [
    "sent = 'der Briefträger hat den Hund übergeben'"
   ]
  },
  {
   "cell_type": "code",
   "execution_count": 151,
   "metadata": {},
   "outputs": [
    {
     "name": "stdout",
     "output_type": "stream",
     "text": [
      "                     S                          \n",
      "     ┌───────────────┴───────┐                   \n",
      "     │                       VP                 \n",
      "     │               ┌───────┴────┐              \n",
      "     │               │          VERBAL          \n",
      "     │               │       ┌────┴────────┐     \n",
      "     NP              │       NP            │    \n",
      " ┌───┴───────┐       │   ┌───┴────┐        │     \n",
      " │          NOM      │   │       NOM       │    \n",
      " │           │       │   │        │        │     \n",
      "DET          N      AUX DET       N        V    \n",
      " │           │       │   │        │        │     \n",
      "der     Briefträger hat den      Hund  übergeben\n",
      "\n"
     ]
    }
   ],
   "source": [
    "grammar = nltk.CFG.fromstring(\"\"\"\n",
    "    S   -> NP VP\n",
    "    VP  -> VERBAL | AUX VERBAL\n",
    "    VERBAL -> V NP | V NP NP | NP V\n",
    "    NP  -> NOM | DET NOM\n",
    "    NOM -> ADJ NOM | N | N NP\n",
    "\n",
    "    DET -> \"der\" | \"den\"\n",
    "    N   -> \"Hund\" | \"Briefträger\" | \"Stadt\"\n",
    "    ADJ -> \"langsamen\" | \"schreienden\"\n",
    "    V   -> \"jagt\" | \"übergibt\" | \"übergeben\"\n",
    "    AUX -> \"hat\"\n",
    "\"\"\")\n",
    "\n",
    "parser = nltk.ChartParser(grammar)\n",
    "trees = list(parser.parse(sent.split()))\n",
    "if trees: [tree.pretty_print(unicodelines=True) for tree in trees]\n",
    "else: print(f\"no parse found for: {sent}\")"
   ]
  },
  {
   "cell_type": "markdown",
   "metadata": {},
   "source": [
    "## Aufgabe 2 - Transformation in X-Bar-Struktur\n",
    "\n",
    "### a) Transformieren Sie die Grammatik von Aufgabenblatt 02 im nominale Bereich in X-Bar-Struktur und testen Sie anschließend mit den Positiv- und Negativ-Sätzen. Geben Sie dabei jeweils den X-Bar-Regeltyp an.\n",
    "\n",
    "#### HINWEIS: Alle PP-Attribute (inkl. *von*-PPs, die man - analog zu den  Genitiv-NPs - auch als Komplement auffassen kann) sollen hier vereinfacht als rekursive Adjunkte modelliert werden."
   ]
  },
  {
   "cell_type": "code",
   "execution_count": 152,
   "metadata": {},
   "outputs": [],
   "source": [
    "grammar = nltk.CFG.fromstring(\"\"\"\n",
    "    S -> NP VP\n",
    "    VP -> V NP NP\n",
    "    PP -> P NP\n",
    "    NP -> PROPN | PROPN PROPN\n",
    "    NP -> PRON\n",
    "\n",
    "    NP -> DET NOM\n",
    "    NOM -> NOM PP\n",
    "    NOM -> N\n",
    "    \n",
    "    DET -> \"die\" | \"ein\"\n",
    "    PROPN -> \"Chomsky\" | \"Noam\" | \"Maria\" | \"Moritz\"\n",
    "    N -> \"Studierende\" | \"Buch\"\n",
    "    PRON -> \"ihnen\"\n",
    "    V -> \"schenkte\"\n",
    "    P -> \"von\"\n",
    "\"\"\")"
   ]
  },
  {
   "cell_type": "code",
   "execution_count": 153,
   "metadata": {},
   "outputs": [
    {
     "name": "stdout",
     "output_type": "stream",
     "text": [
      "                       S                       \n",
      "     ┌─────────────────┴───────┐                \n",
      "     │                         VP              \n",
      "     │                 ┌───────┼────────┐       \n",
      "     NP                │       │        NP     \n",
      " ┌───┴───────┐         │       │    ┌───┴───┐   \n",
      " │          NOM        │       NP   │      NOM \n",
      " │           │         │       │    │       │   \n",
      "DET          N         V      PRON DET      N  \n",
      " │           │         │       │    │       │   \n",
      "die     Studierende schenkte ihnen ein     Buch\n",
      "\n",
      "                      S                                \n",
      "  ┌───────────────────┴───┐                             \n",
      "  │                       VP                           \n",
      "  │      ┌───────┬────────┴────┐                        \n",
      "  │      │       │             NP                      \n",
      "  │      │       │    ┌────────┴───┐                    \n",
      "  │      │       │    │           NOM                  \n",
      "  │      │       │    │   ┌────────┴────┐               \n",
      "  │      │       │    │   │             PP             \n",
      "  │      │       │    │   │    ┌────────┴────┐          \n",
      "  NP     │       NP   │  NOM   │             NP        \n",
      "  │      │       │    │   │    │        ┌────┴─────┐    \n",
      "PROPN    V      PRON DET  N    P      PROPN      PROPN \n",
      "  │      │       │    │   │    │        │          │    \n",
      "Maria schenkte ihnen ein Buch von      Noam     Chomsky\n",
      "\n"
     ]
    }
   ],
   "source": [
    "sents = [\n",
    "    \"die Studierende schenkte ihnen ein Buch\",\n",
    "    \"Maria schenkte ihnen ein Buch von Noam Chomsky\"\n",
    "]\n",
    "\n",
    "parser = nltk.ChartParser(grammar)\n",
    "for sent in sents:\n",
    "    trees = list(parser.parse(sent.split()))\n",
    "    if trees: [tree.pretty_print(unicodelines=True) for tree in trees]\n",
    "    else: print(f\"no parse found for: {sent}\")"
   ]
  },
  {
   "cell_type": "code",
   "execution_count": 154,
   "metadata": {},
   "outputs": [
    {
     "name": "stdout",
     "output_type": "stream",
     "text": [
      "no parse found for: Studierende schenkte ihnen ein Buch\n",
      "no parse found for: die Maria schenkte ihnen ein Buch\n"
     ]
    }
   ],
   "source": [
    "neg_sents = [\n",
    "    \"Studierende schenkte ihnen ein Buch\",\n",
    "    \"die Maria schenkte ihnen ein Buch\"\n",
    "]\n",
    "\n",
    "parser = nltk.ChartParser(grammar)\n",
    "for sent in neg_sents:\n",
    "    trees = list(parser.parse(sent.split()))\n",
    "    if trees: [tree.pretty_print(unicodelines=True) for tree in trees]\n",
    "    else: print(f\"no parse found for: {sent}\")"
   ]
  },
  {
   "cell_type": "markdown",
   "metadata": {},
   "source": [
    "### b) Ergänzen Sie die lexikalischen Regeln für einen entsprechenden Beispielsatz mit mehreren PP-Adjunkten. Erklären Sie die Ambiguität des Parsing-Ergebnisses.\n",
    "\n",
    "#### Wählen Sie die PPs in Ihrem Beispielsatz so, dass die aus den syntaktischen Regeln folgende Ambiguität auch eine semantisch sinnvolle Interpretation hat."
   ]
  },
  {
   "cell_type": "code",
   "execution_count": 155,
   "metadata": {},
   "outputs": [],
   "source": [
    "sent = \"Maria schenkte ihnen ein Buch von Noam Chomsky von der Bibliotheke\""
   ]
  },
  {
   "cell_type": "code",
   "execution_count": 156,
   "metadata": {},
   "outputs": [
    {
     "name": "stdout",
     "output_type": "stream",
     "text": [
      "Grammar with 22 productions (start state = S)\n",
      "    S -> NP VP\n",
      "    VP -> V NP NP\n",
      "    PP -> P NP\n",
      "    NP -> PROPN\n",
      "    NP -> PROPN PROPN\n",
      "    NP -> PRON\n",
      "    NP -> DET NOM\n",
      "    NOM -> NOM PP\n",
      "    NOM -> N\n",
      "    DET -> 'die'\n",
      "    DET -> 'ein'\n",
      "    PROPN -> 'Chomsky'\n",
      "    PROPN -> 'Noam'\n",
      "    PROPN -> 'Maria'\n",
      "    PROPN -> 'Moritz'\n",
      "    N -> 'Studierende'\n",
      "    N -> 'Buch'\n",
      "    PRON -> 'ihnen'\n",
      "    V -> 'schenkte'\n",
      "    P -> 'von'\n",
      "    DET -> 'der'\n",
      "    N -> 'Bibliotheke'\n"
     ]
    }
   ],
   "source": [
    "new_productions = [\n",
    "    Production(Nonterminal('DET'), ['der']),\n",
    "    Production(Nonterminal('N'), ['Bibliotheke'])\n",
    "]\n",
    "\n",
    "productions = copy.copy(grammar.productions())\n",
    "\n",
    "for new_production in new_productions:\n",
    "    productions.append(new_production)\n",
    "    grammar_b = nltk.grammar.CFG(grammar.start(), productions)\n",
    "\n",
    "print(grammar_b)"
   ]
  },
  {
   "cell_type": "code",
   "execution_count": 157,
   "metadata": {},
   "outputs": [
    {
     "name": "stdout",
     "output_type": "stream",
     "text": [
      "                 S                                                             \n",
      "  ┌──────────────┴─────────────┐                                                \n",
      "  │                            VP                                              \n",
      "  │      ┌───────┬─────────────┴────────┐                                       \n",
      "  │      │       │                      NP                                     \n",
      "  │      │       │    ┌─────────────────┴──────────┐                            \n",
      "  │      │       │    │                           NOM                          \n",
      "  │      │       │    │            ┌───────────────┴─────────┐                  \n",
      "  │      │       │    │           NOM                        PP                \n",
      "  │      │       │    │   ┌────────┴────┐                ┌───┴───┐              \n",
      "  │      │       │    │   │             PP               │       NP            \n",
      "  │      │       │    │   │    ┌────────┴────┐           │   ┌───┴───────┐      \n",
      "  NP     │       NP   │  NOM   │             NP          │   │          NOM    \n",
      "  │      │       │    │   │    │        ┌────┴─────┐     │   │           │      \n",
      "PROPN    V      PRON DET  N    P      PROPN      PROPN   P  DET          N     \n",
      "  │      │       │    │   │    │        │          │     │   │           │      \n",
      "Maria schenkte ihnen ein Buch von      Noam     Chomsky von der     Bibliotheke\n",
      "\n"
     ]
    }
   ],
   "source": [
    "parser = nltk.ChartParser(grammar_b)\n",
    "trees = list(parser.parse(sent.split()))\n",
    "if trees: [tree.pretty_print(unicodelines=True) for tree in trees]\n",
    "else: print(f\"no parse found for: {sent}\")"
   ]
  },
  {
   "cell_type": "markdown",
   "metadata": {},
   "source": [
    "### c) Erweitern Sie die Grammatik abschließend um Regeln für rekursive PP-Adjunkte an die VP, um folgenden Beispielsatz parsen zu können. Halten Sie sich dabei an das X-Bar-Schema."
   ]
  },
  {
   "cell_type": "code",
   "execution_count": 162,
   "metadata": {},
   "outputs": [],
   "source": [
    "sent = \"Maria schickte ihnen ein Buch aus München\""
   ]
  },
  {
   "cell_type": "code",
   "execution_count": 164,
   "metadata": {},
   "outputs": [
    {
     "name": "stdout",
     "output_type": "stream",
     "text": [
      "Grammar with 29 productions (start state = S)\n",
      "    S -> NP VP\n",
      "    VP -> V NP NP\n",
      "    PP -> P NP\n",
      "    NP -> PROPN\n",
      "    NP -> PROPN PROPN\n",
      "    NP -> PRON\n",
      "    NP -> DET NOM\n",
      "    NOM -> NOM PP\n",
      "    NOM -> N\n",
      "    DET -> 'die'\n",
      "    DET -> 'ein'\n",
      "    PROPN -> 'Chomsky'\n",
      "    PROPN -> 'Noam'\n",
      "    PROPN -> 'Maria'\n",
      "    PROPN -> 'Moritz'\n",
      "    N -> 'Studierende'\n",
      "    N -> 'Buch'\n",
      "    PRON -> 'ihnen'\n",
      "    V -> 'schenkte'\n",
      "    P -> 'von'\n",
      "    DET -> 'der'\n",
      "    N -> 'Bibliotheke'\n",
      "    V -> 'schickte'\n",
      "    P -> 'aus'\n",
      "    PROPN -> 'München'\n",
      "    VP -> VERBAL\n",
      "    VERBAL -> VERBAL PP\n",
      "    VERBAL -> VERBAL NP NP\n",
      "    VERBAL -> V\n"
     ]
    }
   ],
   "source": [
    "new_productions = [\n",
    "    Production(Nonterminal('V'), ['schickte']),\n",
    "    Production(Nonterminal('P'), ['aus']),\n",
    "    Production(Nonterminal('PROPN'), ['München']),\n",
    "    Production(Nonterminal('VP'), [Nonterminal('VERBAL')]),\n",
    "    Production(Nonterminal('VERBAL'), [Nonterminal('VERBAL'), Nonterminal('PP')]),\n",
    "    Production(Nonterminal('VERBAL'), [Nonterminal('VERBAL'), Nonterminal('NP'), Nonterminal('NP')]),\n",
    "    Production(Nonterminal('VERBAL'), [Nonterminal('V')]),\n",
    "]\n",
    "\n",
    "productions = copy.copy(grammar_b.productions())\n",
    "\n",
    "for new_production in new_productions:\n",
    "    productions.append(new_production)\n",
    "    grammar_c = nltk.grammar.CFG(grammar.start(), productions)\n",
    "\n",
    "print(grammar_c)"
   ]
  }
 ],
 "metadata": {
  "kernelspec": {
   "display_name": "Python 3",
   "language": "python",
   "name": "python3"
  },
  "language_info": {
   "codemirror_mode": {
    "name": "ipython",
    "version": 3
   },
   "file_extension": ".py",
   "mimetype": "text/x-python",
   "name": "python",
   "nbconvert_exporter": "python",
   "pygments_lexer": "ipython3",
   "version": "3.12.6"
  }
 },
 "nbformat": 4,
 "nbformat_minor": 2
}
