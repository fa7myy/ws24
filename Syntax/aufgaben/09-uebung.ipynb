{
 "cells": [
  {
   "cell_type": "markdown",
   "metadata": {},
   "source": [
    "Syntax natürlicher Sprachen, WS 2024/25\n",
    "\n",
    "# 09 - Übung"
   ]
  },
  {
   "cell_type": "code",
   "execution_count": 564,
   "metadata": {},
   "outputs": [],
   "source": [
    "import nltk\n",
    "from nltk import Tree\n",
    "from nltk import parse\n",
    "from nltk.grammar import FeatureGrammar"
   ]
  },
  {
   "cell_type": "code",
   "execution_count": 565,
   "metadata": {},
   "outputs": [],
   "source": [
    "def show_FeatTree(tree, style=0, draw=1):\n",
    "    if draw:\n",
    "        tree = Tree.fromstring(str(tree).replace(\", \",\",\"))\n",
    "        if style: \n",
    "            display(tree)\n",
    "        else: \n",
    "            tree.pretty_print(unicodelines=True)\n",
    "    else: print(\"FOUND PARSE:\\n\", str(tree).replace(\"\\n\",\" \"))"
   ]
  },
  {
   "cell_type": "markdown",
   "metadata": {},
   "source": [
    "## Aufgabe 1 - FCFG-Erweiterung (Kasus, Agreement, Subkategorisierung)"
   ]
  },
  {
   "cell_type": "markdown",
   "metadata": {},
   "source": [
    "### a) Übergenerierende CFG\n",
    "\n",
    "#### Betrachten Sie die Parsingergebnisse untenstehender Sätze mit der folgenden einfachen CFG-Grammatik und geben Sie an, welches grammatikalische Constraint jeweils verletzt ist (Kasus, Agreement, Subkategorisierung)."
   ]
  },
  {
   "cell_type": "code",
   "execution_count": 566,
   "metadata": {},
   "outputs": [],
   "source": [
    "grammar = nltk.CFG.fromstring(\"\"\"\n",
    "S -> NP VP\n",
    "NP -> DET N\n",
    "VP -> V\n",
    "VP -> V NP\n",
    "\n",
    "DET -> 'der' | 'dem' | 'den' | 'die'\n",
    "N -> 'Hund' | 'Hunde' |'Hunden' |'Katze' |'Katzen'\n",
    "V -> 'sieht' | 'sehen' | 'hilft' | 'helfen' | 'läuft' | 'laufen'\n",
    "\"\"\")"
   ]
  },
  {
   "cell_type": "code",
   "execution_count": 567,
   "metadata": {},
   "outputs": [],
   "source": [
    "pos_sent = \"der Hund sieht die Katze\""
   ]
  },
  {
   "cell_type": "code",
   "execution_count": 568,
   "metadata": {},
   "outputs": [
    {
     "name": "stdout",
     "output_type": "stream",
     "text": [
      "               S                \n",
      "     ┌─────────┴────┐            \n",
      "     │              VP          \n",
      "     │         ┌────┴───┐        \n",
      "     NP        │        NP      \n",
      " ┌───┴───┐     │    ┌───┴────┐   \n",
      "DET      N     V   DET       N  \n",
      " │       │     │    │        │   \n",
      "der     Hund sieht die     Katze\n",
      "\n"
     ]
    }
   ],
   "source": [
    "parser = nltk.ChartParser(grammar)\n",
    "trees = list(parser.parse(pos_sent.split()))\n",
    "if trees: [tree.pretty_print(unicodelines=True) for tree in trees]\n",
    "else: print(f\"no parse found for: {sent}\")"
   ]
  },
  {
   "cell_type": "code",
   "execution_count": 569,
   "metadata": {},
   "outputs": [],
   "source": [
    "neg_sents = [\n",
    "    \"der Hund sieht\",  # Subkategorisierung - sieht transitiv braucht NP\n",
    "    \"dem Hund sieht der Katze\", # Kasusrektion - sieht braucht Akkusativ, Subjekt der Hund anstatt dem Hund\n",
    "    \"der Hund sehen die Katze\", # Agreement - Verb und Subjekt stimmen nicht überein\n",
    "]"
   ]
  },
  {
   "cell_type": "code",
   "execution_count": 570,
   "metadata": {},
   "outputs": [
    {
     "name": "stdout",
     "output_type": "stream",
     "text": [
      "         S        \n",
      "     ┌───┴─────┐   \n",
      "     NP        VP \n",
      " ┌───┴───┐     │   \n",
      "DET      N     V  \n",
      " │       │     │   \n",
      "der     Hund sieht\n",
      "\n",
      "               S                \n",
      "     ┌─────────┴────┐            \n",
      "     │              VP          \n",
      "     │         ┌────┴───┐        \n",
      "     NP        │        NP      \n",
      " ┌───┴───┐     │    ┌───┴────┐   \n",
      "DET      N     V   DET       N  \n",
      " │       │     │    │        │   \n",
      "dem     Hund sieht der     Katze\n",
      "\n",
      "               S                \n",
      "     ┌─────────┴────┐            \n",
      "     │              VP          \n",
      "     │         ┌────┴───┐        \n",
      "     NP        │        NP      \n",
      " ┌───┴───┐     │    ┌───┴────┐   \n",
      "DET      N     V   DET       N  \n",
      " │       │     │    │        │   \n",
      "der     Hund sehen die     Katze\n",
      "\n"
     ]
    }
   ],
   "source": [
    "parser = nltk.ChartParser(grammar)\n",
    "for sent in neg_sents:\n",
    "    trees = list(parser.parse(sent.split()))\n",
    "    if trees: [tree.pretty_print(unicodelines=True) for tree in trees]\n",
    "    else: print(f\"no parse found for: {sent}\")"
   ]
  },
  {
   "cell_type": "markdown",
   "metadata": {},
   "source": [
    "### b) Fügen Sie schrittweise Constraints hinzu um diese drei Überproduktionen zu verhindern.\n"
   ]
  },
  {
   "cell_type": "code",
   "execution_count": 571,
   "metadata": {},
   "outputs": [],
   "source": [
    "grammar = FeatureGrammar.fromstring(r\"\"\"\n",
    "% start S\n",
    "\n",
    "S[ARG=?a] -> NP[ARG=?a] VP[ARG=?a]\n",
    "\n",
    "NP[ARG=?a] -> DET[ARG=?a] N[ARG=?a]\n",
    "\n",
    "# VP rules with correct number agreement\n",
    "VP[ARG=[NUM=?num]] -> V[SUBCAT=0, ARG=[NUM=?num]]\n",
    "VP[ARG=[NUM=?num]] -> V[SUBCAT=1, OBJCASE=akk, ARG=[NUM=?num]] NP[ARG=[CASE=akk, NUM=?num]]\n",
    "\n",
    "# Determiners with Case and Gender\n",
    "DET[ARG=[NUM=sg, GEN=mask, CASE=nom]] -> 'der'\n",
    "DET[ARG=[NUM=sg, GEN=mask, CASE=dat]] -> 'dem'\n",
    "DET[ARG=[NUM=sg, GEN=mask, CASE=akk]] -> 'den'\n",
    "DET[ARG=[NUM=sg, GEN=fem, CASE=nom]] -> 'die'\n",
    "DET[ARG=[NUM=sg, GEN=fem, CASE=akk]] -> 'die'\n",
    "DET[ARG=[NUM=pl, CASE=nom]] -> 'die'\n",
    "DET[ARG=[NUM=pl, CASE=akk]] -> 'die'\n",
    "\n",
    "# Nouns with Agreement\n",
    "N[ARG=[NUM=sg, GEN=mask, CASE=nom]] -> 'Hund'\n",
    "N[ARG=[NUM=pl, GEN=mask, CASE=nom]] -> 'Hunde'\n",
    "N[ARG=[NUM=sg, GEN=fem, CASE=nom]] -> 'Katze'\n",
    "N[ARG=[NUM=sg, GEN=fem, CASE=akk]] -> 'Katze'\n",
    "N[ARG=[NUM=pl, GEN=fem, CASE=nom]] -> 'Katzen'\n",
    "\n",
    "# Verbs (Intransitive - Require Subject Agreement!)\n",
    "V[SUBCAT=0, ARG=[NUM=sg]] -> 'läuft'\n",
    "V[SUBCAT=0, ARG=[NUM=pl]] -> 'laufen'\n",
    "\n",
    "# Verbs (Transitive, Akkusativ)\n",
    "V[SUBCAT=1, OBJCASE=akk, ARG=[NUM=sg]] -> 'sieht'\n",
    "V[SUBCAT=1, OBJCASE=akk, ARG=[NUM=pl]] -> 'sehen'\n",
    "\"\"\")"
   ]
  },
  {
   "cell_type": "code",
   "execution_count": 572,
   "metadata": {},
   "outputs": [
    {
     "name": "stdout",
     "output_type": "stream",
     "text": [
      "no parse found for: der Hund sieht\n",
      "no parse found for: dem Hund sieht der Katze\n",
      "no parse found for: der Hund sehen die Katze\n"
     ]
    }
   ],
   "source": [
    "parser = nltk.FeatureChartParser(grammar)\n",
    "for sent in neg_sents:\n",
    "    trees = list(parser.parse(sent.split()))\n",
    "    if trees: [show_FeatTree(tree, style=1) for tree in trees]\n",
    "    else: print(f\"no parse found for: {sent}\")"
   ]
  },
  {
   "cell_type": "markdown",
   "metadata": {},
   "source": [
    "### c) Testen Sie abschließend, ob folgende Sätze weiterhin erkannt werden:"
   ]
  },
  {
   "cell_type": "code",
   "execution_count": 573,
   "metadata": {},
   "outputs": [],
   "source": [
    "pos_sents = [\n",
    "    \"der Hund sieht die Katze\", \n",
    "    \"die Hunde laufen\",\n",
    "    \"der Hund läuft\"\n",
    "]"
   ]
  },
  {
   "cell_type": "code",
   "execution_count": 574,
   "metadata": {},
   "outputs": [
    {
     "name": "stdout",
     "output_type": "stream",
     "text": [
      "FOUND PARSE:\n",
      " (S[ARG=[CASE='nom', GEN='mask', NUM='sg']]   (NP[ARG=[CASE='nom', GEN='mask', NUM='sg']]     (DET[ARG=[CASE='nom', GEN='mask', NUM='sg']] der)     (N[ARG=[CASE='nom', GEN='mask', NUM='sg']] Hund))   (VP[ARG=[NUM='sg']]     (V[ARG=[NUM='sg'], OBJCASE='akk', SUBCAT=1] sieht)     (NP[ARG=[CASE='akk', GEN='fem', NUM='sg']]       (DET[ARG=[CASE='akk', GEN='fem', NUM='sg']] die)       (N[ARG=[CASE='akk', GEN='fem', NUM='sg']] Katze))))\n",
      "FOUND PARSE:\n",
      " (S[ARG=[CASE='nom', GEN='mask', NUM='pl']]   (NP[ARG=[CASE='nom', GEN='mask', NUM='pl']]     (DET[ARG=[CASE='nom', NUM='pl']] die)     (N[ARG=[CASE='nom', GEN='mask', NUM='pl']] Hunde))   (VP[ARG=[NUM='pl']] (V[ARG=[NUM='pl'], SUBCAT=0] laufen)))\n",
      "FOUND PARSE:\n",
      " (S[ARG=[CASE='nom', GEN='mask', NUM='sg']]   (NP[ARG=[CASE='nom', GEN='mask', NUM='sg']]     (DET[ARG=[CASE='nom', GEN='mask', NUM='sg']] der)     (N[ARG=[CASE='nom', GEN='mask', NUM='sg']] Hund))   (VP[ARG=[NUM='sg']] (V[ARG=[NUM='sg'], SUBCAT=0] läuft)))\n"
     ]
    }
   ],
   "source": [
    "parser = nltk.FeatureChartParser(grammar)\n",
    "for sent in pos_sents:\n",
    "    trees = list(parser.parse(sent.split()))\n",
    "    if trees: [show_FeatTree(tree, draw=0) for tree in trees]\n",
    "    else: print(f\"no parse found for: {sent}\")"
   ]
  },
  {
   "cell_type": "code",
   "execution_count": 575,
   "metadata": {},
   "outputs": [
    {
     "name": "stdout",
     "output_type": "stream",
     "text": [
      "|.der .Hund.läuf.|\n",
      "Leaf Init Rule:\n",
      "|[----]    .    .| [0:1] 'der'\n",
      "|.    [----]    .| [1:2] 'Hund'\n",
      "|.    .    [----]| [2:3] 'läuft'\n",
      "Feature Bottom Up Predict Combine Rule:\n",
      "|[----]    .    .| [0:1] DET[ARG=[CASE='nom', GEN='mask', NUM='sg']] -> 'der' *\n",
      "Feature Bottom Up Predict Combine Rule:\n",
      "|[---->    .    .| [0:1] NP[ARG=?a] -> DET[ARG=?a] * N[ARG=?a] {?a: [CASE='nom', GEN='mask', NUM='sg']}\n",
      "Feature Bottom Up Predict Combine Rule:\n",
      "|.    [----]    .| [1:2] N[ARG=[CASE='nom', GEN='mask', NUM='sg']] -> 'Hund' *\n",
      "Feature Single Edge Fundamental Rule:\n",
      "|[---------]    .| [0:2] NP[ARG=[CASE='nom', GEN='mask', NUM='sg']] -> DET[ARG=[CASE='nom', GEN='mask', NUM='sg']] N[ARG=[CASE='nom', GEN='mask', NUM='sg']] *\n",
      "Feature Bottom Up Predict Combine Rule:\n",
      "|[--------->    .| [0:2] S[ARG=?a] -> NP[ARG=?a] * VP[ARG=?a] {?a: [CASE='nom', GEN='mask', NUM='sg']}\n",
      "Feature Bottom Up Predict Combine Rule:\n",
      "|.    .    [----]| [2:3] V[ARG=[NUM='sg'], SUBCAT=0] -> 'läuft' *\n",
      "Feature Bottom Up Predict Combine Rule:\n",
      "|.    .    [----]| [2:3] VP[ARG=[NUM='sg']] -> V[ARG=[NUM='sg'], SUBCAT=0] *\n",
      "Feature Single Edge Fundamental Rule:\n",
      "|[==============]| [0:3] S[ARG=[CASE='nom', GEN='mask', NUM='sg']] -> NP[ARG=[CASE='nom', GEN='mask', NUM='sg']] VP[ARG=[CASE='nom', GEN='mask', NUM='sg']] *\n"
     ]
    },
    {
     "data": {
      "text/plain": [
       "<generator object FeatureChart.parses at 0x0000019002D135B0>"
      ]
     },
     "execution_count": 575,
     "metadata": {},
     "output_type": "execute_result"
    }
   ],
   "source": [
    "# Tracing-Beispiel\n",
    "parser = nltk.FeatureChartParser(grammar, trace=2)\n",
    "parser.parse(pos_sents[2].split())"
   ]
  },
  {
   "cell_type": "markdown",
   "metadata": {},
   "source": [
    "## Aufgabe 2 - FCFG-Erweiterungen (Agreement, Kasus und Subkategorisierung)\n",
    "\n",
    "#### Gegeben sei folgende Grammatik, die in den folgenden Teilaufgaben schrittweise um verschiedenen grammatikalische Constraints erweitert werden soll, um Überproduktion zu verhindern."
   ]
  },
  {
   "cell_type": "code",
   "execution_count": 576,
   "metadata": {},
   "outputs": [],
   "source": [
    "grammar = \"\"\"\n",
    "S -> NP VP\n",
    "\n",
    "NP -> DET NOM\n",
    "NOM -> N\n",
    "VP -> V NP NP | V NP | V\n",
    "\n",
    "DET -> \"der\" | \"die\" | \"das\"\n",
    "N -> \"Mann\" | \"Frau\" | \"Buch\"\n",
    "\n",
    "V -> \"gibt\" | \"schenkt\" | \"schlaeft\" | \"gefaellt\" | \"kennt\"\n",
    "\"\"\""
   ]
  },
  {
   "cell_type": "markdown",
   "metadata": {},
   "source": [
    "### a) Kongruenz in der Nominalphrase\n",
    "\n",
    "#### Orientieren Sie sich an folgender Tabelle zur Mehrdeutigkeit der Formen des bestimmen Artikels im Deutschen und passen Sie die Grammatik unten so an, dass sie nur noch grammatikalisch korrekte Nominalphrasen als Teil von Sätzen akzeptiert. Konzentrieren Sie sich auf die Kongruenz von Artikel und Nomen im Genus.\n",
    "\n",
    "|Form|mögliche Merkmale|\n",
    "|----|-----------------|\n",
    "|der|[NUM=sg, GEN=mask, CASE=nom]|\n",
    "|&nbsp;|[NUM=sg, GEN=fem, CASE=dat]|\n",
    "|&nbsp;|[NUM=sg, GEN=fem, CASE=GEN]|\n",
    "|&nbsp;|[NUM=pl, CASE=GEN]|\n",
    "|die|[NUM=sg, GEN=fem, CASE=nom]|\n",
    "|&nbsp;|[NUM=sg, GEN=fem, CASE=akk]|\n",
    "|&nbsp;|[NUM=pl, CASE=nom]|\n",
    "|&nbsp;|[NUM=pl, CASE=akk]|\n",
    "|das|[NUM=sg, GEN=neut, CASE=nom]|\n",
    "|&nbsp;|[NUM=sg, GEN=neut, CASE=akk]|"
   ]
  },
  {
   "cell_type": "code",
   "execution_count": 577,
   "metadata": {},
   "outputs": [],
   "source": [
    "grammar = FeatureGrammar.fromstring(r\"\"\"\n",
    "S[GEN=mask] -> NP[GEN=?g] VP\n",
    "\n",
    "NP[GEN=?g] -> DET[GEN=?g] NOM[GEN=?g]\n",
    "NOM[GEN=?g] -> N[GEN=?g]\n",
    "VP -> V NP NP | V NP | V\n",
    "\n",
    "DET[GEN=mask] -> \"der\"\n",
    "DET[GEN=fem] -> \"die\"\n",
    "DET[GEN=neut] -> \"das\"\n",
    "N[GEN=mask] -> \"Mann\"\n",
    "N -> \"Frau\" | \"Buch\"\n",
    "V -> \"schlaeft\" \n",
    "V -> \"gibt\" | \"schenkt\" | \"gefaellt\" | \"kennt\"\n",
    "\"\"\")"
   ]
  },
  {
   "cell_type": "code",
   "execution_count": 578,
   "metadata": {},
   "outputs": [],
   "source": [
    "pos_neg_sents = [\n",
    "    \"der Mann schlaeft\", \n",
    "    \"das Mann schlaeft\"\n",
    "]"
   ]
  },
  {
   "cell_type": "code",
   "execution_count": 579,
   "metadata": {},
   "outputs": [
    {
     "data": {
      "image/svg+xml": [
       "<svg baseProfile=\"full\" height=\"216px\" preserveAspectRatio=\"xMidYMid meet\" style=\"font-family: times, serif; font-weight: normal; font-style: normal; font-size: 16px\" version=\"1.1\" viewBox=\"0,0,352.0,216.0\" width=\"352px\" xmlns=\"http://www.w3.org/2000/svg\" xmlns:ev=\"http://www.w3.org/2001/xml-events\" xmlns:xlink=\"http://www.w3.org/1999/xlink\"><defs /><svg width=\"100%\" x=\"0\" y=\"0px\"><defs /><text text-anchor=\"middle\" x=\"50%\" y=\"16px\">S[GEN='mask']</text></svg><svg width=\"77.2727%\" x=\"0%\" y=\"48px\"><defs /><svg width=\"100%\" x=\"0\" y=\"0px\"><defs /><text text-anchor=\"middle\" x=\"50%\" y=\"16px\">NP[GEN='mask']</text></svg><svg width=\"50%\" x=\"0%\" y=\"48px\"><defs /><svg width=\"100%\" x=\"0\" y=\"0px\"><defs /><text text-anchor=\"middle\" x=\"50%\" y=\"16px\">DET[GEN='mask']</text></svg><svg width=\"100%\" x=\"0%\" y=\"48px\"><defs /><svg width=\"100%\" x=\"0\" y=\"0px\"><defs /><text text-anchor=\"middle\" x=\"50%\" y=\"16px\">der</text></svg></svg><line stroke=\"black\" x1=\"50%\" x2=\"50%\" y1=\"20px\" y2=\"48px\" /></svg><line stroke=\"black\" x1=\"50%\" x2=\"25%\" y1=\"20px\" y2=\"48px\" /><svg width=\"50%\" x=\"50%\" y=\"48px\"><defs /><svg width=\"100%\" x=\"0\" y=\"0px\"><defs /><text text-anchor=\"middle\" x=\"50%\" y=\"16px\">NOM[GEN='mask']</text></svg><svg width=\"100%\" x=\"0%\" y=\"48px\"><defs /><svg width=\"100%\" x=\"0\" y=\"0px\"><defs /><text text-anchor=\"middle\" x=\"50%\" y=\"16px\">N[GEN='mask']</text></svg><svg width=\"100%\" x=\"0%\" y=\"48px\"><defs /><svg width=\"100%\" x=\"0\" y=\"0px\"><defs /><text text-anchor=\"middle\" x=\"50%\" y=\"16px\">Mann</text></svg></svg><line stroke=\"black\" x1=\"50%\" x2=\"50%\" y1=\"20px\" y2=\"48px\" /></svg><line stroke=\"black\" x1=\"50%\" x2=\"50%\" y1=\"20px\" y2=\"48px\" /></svg><line stroke=\"black\" x1=\"50%\" x2=\"75%\" y1=\"20px\" y2=\"48px\" /></svg><line stroke=\"black\" x1=\"50%\" x2=\"38.6364%\" y1=\"20px\" y2=\"48px\" /><svg width=\"22.7273%\" x=\"77.2727%\" y=\"48px\"><defs /><svg width=\"100%\" x=\"0\" y=\"0px\"><defs /><text text-anchor=\"middle\" x=\"50%\" y=\"16px\">VP[]</text></svg><svg width=\"100%\" x=\"0%\" y=\"48px\"><defs /><svg width=\"100%\" x=\"0\" y=\"0px\"><defs /><text text-anchor=\"middle\" x=\"50%\" y=\"16px\">V[]</text></svg><svg width=\"100%\" x=\"0%\" y=\"48px\"><defs /><svg width=\"100%\" x=\"0\" y=\"0px\"><defs /><text text-anchor=\"middle\" x=\"50%\" y=\"16px\">schlaeft</text></svg></svg><line stroke=\"black\" x1=\"50%\" x2=\"50%\" y1=\"20px\" y2=\"48px\" /></svg><line stroke=\"black\" x1=\"50%\" x2=\"50%\" y1=\"20px\" y2=\"48px\" /></svg><line stroke=\"black\" x1=\"50%\" x2=\"88.6364%\" y1=\"20px\" y2=\"48px\" /></svg>"
      ],
      "text/plain": [
       "Tree(\"S[GEN='mask']\", [Tree(\"NP[GEN='mask']\", [Tree(\"DET[GEN='mask']\", ['der']), Tree(\"NOM[GEN='mask']\", [Tree(\"N[GEN='mask']\", ['Mann'])])]), Tree('VP[]', [Tree('V[]', ['schlaeft'])])])"
      ]
     },
     "metadata": {},
     "output_type": "display_data"
    },
    {
     "name": "stdout",
     "output_type": "stream",
     "text": [
      "no parse found for: das Mann schlaeft\n"
     ]
    }
   ],
   "source": [
    "parser = nltk.FeatureChartParser(grammar)\n",
    "for sent in pos_neg_sents:\n",
    "    trees = list(parser.parse(sent.split()))\n",
    "    if trees: [show_FeatTree(tree, style=1) for tree in trees]\n",
    "    else: print(f\"no parse found for: {sent}\")"
   ]
  },
  {
   "cell_type": "markdown",
   "metadata": {},
   "source": [
    "#### Optional können Sie auch folgende NP-Grammatik, die die Features aus der Tabelle oben enthält, um syntaktische Constraints erweitern und testen:"
   ]
  },
  {
   "cell_type": "code",
   "execution_count": 580,
   "metadata": {},
   "outputs": [],
   "source": [
    "grammar = FeatureGrammar.fromstring(r\"\"\"\n",
    "                                    \n",
    "NP[AGR=?a] -> DET[AGR=?a] NOM[AGR=?a]\n",
    "NOM[AGR=?a] -> N[AGR=?a]\n",
    "\n",
    "DET[AGR=[NUM=sg, GEN=mask, CASE=nom]] -> \"der\"\n",
    "DET[AGR=[NUM=sg, GEN=fem, CASE=dat]] -> \"der\"\n",
    "DET[AGR=[NUM=sg, GEN=fem, CASE=gen]] -> \"der\"\n",
    "DET[AGR=[NUM=pl, CASE=gen]] -> \"der\"\n",
    "\n",
    "DET[AGR=[NUM=sg, GEN=fem, CASE=nom]] -> \"die\"\n",
    "DET[AGR=[NUM=sg, GEN=fem, CASE=akk]] -> \"die\"\n",
    "DET[AGR=[NUM=pl, CASE=nom]] -> \"die\"\n",
    "DET[AGR=[NUM=pl, CASE=akk]] -> \"die\"\n",
    "\n",
    "DET[AGR=[NUM=sg, GEN=neut, CASE=nom]] -> \"das\"\n",
    "DET[AGR=[NUM=sg, GEN=neut, CASE=akk]] -> \"das\"\n",
    "\n",
    "N[AGR=[NUM=sg, GEN=mask, CASE=nom]] -> \"Mann\"\n",
    "N[AGR=[NUM=sg, GEN=fem, CASE=nom]] -> \"Frau\"\n",
    "N[AGR=[NUM=sg, GEN=neut, CASE=nom]] -> \"Buch\"\n",
    "\"\"\")"
   ]
  },
  {
   "cell_type": "code",
   "execution_count": 581,
   "metadata": {},
   "outputs": [],
   "source": [
    "pos_sg_NPs = [\"der Mann\", \"der Frau\", \"die Frau\", \"das Buch\"]\n",
    "neg_sg_NPs = [\"das Mann\", \"die Mann\", \"das Frau\", \"der Buch\", \"die Buch\"]"
   ]
  },
  {
   "cell_type": "code",
   "execution_count": 582,
   "metadata": {},
   "outputs": [
    {
     "name": "stdout",
     "output_type": "stream",
     "text": [
      "no parse found for: das Mann\n",
      "no parse found for: die Mann\n",
      "no parse found for: das Frau\n",
      "no parse found for: der Buch\n",
      "no parse found for: die Buch\n"
     ]
    }
   ],
   "source": [
    "parser = nltk.FeatureChartParser(grammar)\n",
    "for sent in neg_sg_NPs:\n",
    "    trees = list(parser.parse(sent.split()))\n",
    "    if trees: [show_FeatTree(tree, draw=0) for tree in trees]\n",
    "    else: print(f\"no parse found for: {sent}\")"
   ]
  },
  {
   "cell_type": "code",
   "execution_count": 583,
   "metadata": {},
   "outputs": [
    {
     "name": "stdout",
     "output_type": "stream",
     "text": [
      "FOUND PARSE:\n",
      " (NP[AGR=[CASE='nom', GEN='mask', NUM='sg']]   (DET[AGR=[CASE='nom', GEN='mask', NUM='sg']] der)   (NOM[AGR=[CASE='nom', GEN='mask', NUM='sg']]     (N[AGR=[CASE='nom', GEN='mask', NUM='sg']] Mann)))\n",
      "no parse found for: der Frau\n",
      "FOUND PARSE:\n",
      " (NP[AGR=[CASE='nom', GEN='fem', NUM='sg']]   (DET[AGR=[CASE='nom', GEN='fem', NUM='sg']] die)   (NOM[AGR=[CASE='nom', GEN='fem', NUM='sg']]     (N[AGR=[CASE='nom', GEN='fem', NUM='sg']] Frau)))\n",
      "FOUND PARSE:\n",
      " (NP[AGR=[CASE='nom', GEN='neut', NUM='sg']]   (DET[AGR=[CASE='nom', GEN='neut', NUM='sg']] das)   (NOM[AGR=[CASE='nom', GEN='neut', NUM='sg']]     (N[AGR=[CASE='nom', GEN='neut', NUM='sg']] Buch)))\n"
     ]
    }
   ],
   "source": [
    "parser = nltk.FeatureChartParser(grammar)\n",
    "for sent in pos_sg_NPs:\n",
    "    trees = list(parser.parse(sent.split()))\n",
    "    if trees: [show_FeatTree(tree, draw=0) for tree in trees]\n",
    "    else: print(f\"no parse found for: {sent}\")"
   ]
  },
  {
   "cell_type": "markdown",
   "metadata": {},
   "source": [
    "### b) Kasus und Subkategorisierung\n",
    "\n",
    "#### Als nächstes sollen Kasusbedingungen in die Grammatik integriert werden (fügen Sie ggf. neue lexikalische Regeln für die Beispielsätze hinzu):\n",
    "\n",
    "1. Es gibt nur eine Nominalphrase im Nominativ (Subjekt).\n",
    "1. Je nach Valenzstellen des Verbes sollen nur Nominalphrasen in den korrekten Kasus akzeptiert werden.\n",
    "1. *Optional:* Versuchen Sie die freie Satzstellung des Deutschen zu berücksichtigen. (Sie können dazu die VP-Struktur auflösen, also flachere Satzregeln verwenden, und ein zusätzliches SBJCASE-Merkmal verwenden.)"
   ]
  },
  {
   "cell_type": "code",
   "execution_count": 584,
   "metadata": {},
   "outputs": [],
   "source": [
    "pos_sents = [   \n",
    "    \"das Buch gefaellt der Frau\",\n",
    "    \"das Buch kennt die Frau\",\n",
    "    \"der Mann gibt der Frau das Buch\"\n",
    "]\n",
    "\n",
    "neg_sents = [\n",
    "    \"das Mann schlaeft\",\n",
    "    \"der Mann schlaeft das Buch\",  #Verletzung Subkategorisierung-Constraint\n",
    "    \"die Frau gefaellt das Buch\",  #Verletzung Objektkasus-Constraint\n",
    "    \"den Mann schlaeft\",  #Verletzung Subjektkasus-Constraint\n",
    "    \"die Frau gibt das Buch\"  #Verletzung Subkategorisierung-Constraint\n",
    "]"
   ]
  },
  {
   "cell_type": "code",
   "execution_count": 585,
   "metadata": {},
   "outputs": [],
   "source": [
    "grammar = FeatureGrammar.fromstring(r\"\"\"\n",
    "    S -> NP[CASE=nom] VP\n",
    "\n",
    "    NP[GEN=?g, CASE=?c] -> DET[GEN=?g, CASE=?c] NOM[GEN=?g, CASE=?c]\n",
    "    NOM[GEN=?g, CASE=?c] -> N[GEN=?g, CASE=?c]\n",
    "    VP -> V[SUBCAT=2] NP[CASE=dat] NP[CASE=akk]\n",
    "    VP -> V[SUBCAT=1] NP[CASE=akk]\n",
    "    VP -> V[SUBCAT=0]\n",
    "    VP -> V[SUBCAT=datverb] NP[CASE=dat]\n",
    "    \n",
    "\n",
    "    # Determiners with Case and Gender\n",
    "    DET[CASE=nom, GEN=mask] -> \"der\"\n",
    "    DET[CASE=akk, GEN=mask] -> \"den\"\n",
    "    DET[CASE=dat, GEN=mask] -> \"dem\"\n",
    "\n",
    "    DET[CASE=nom, GEN=fem] -> \"die\"\n",
    "    DET[CASE=akk, GEN=fem] -> \"die\"\n",
    "    DET[CASE=dat, GEN=fem] -> \"der\"\n",
    "\n",
    "    DET[CASE=nom, GEN=neut] -> \"das\"\n",
    "    DET[CASE=akk, GEN=neut] -> \"das\"\n",
    "    DET[CASE=dat, GEN=neut] -> \"dem\"\n",
    "    \n",
    "    # Nouns with Case and Gender\n",
    "    N[CASE=nom, GEN=mask] -> \"Mann\"\n",
    "    N[CASE=akk, GEN=mask] -> \"Mann\"\n",
    "    N[CASE=dat, GEN=mask] -> \"Mann\"\n",
    "\n",
    "    N[CASE=nom, GEN=fem] -> \"Frau\"\n",
    "    N[CASE=akk, GEN=fem] -> \"Frau\"\n",
    "    N[CASE=dat, GEN=fem] -> \"Frau\"\n",
    "\n",
    "    N[CASE=nom, GEN=neut] -> \"Buch\"\n",
    "    N[CASE=akk, GEN=neut] -> \"Buch\"\n",
    "    N[CASE=dat, GEN=neut] -> \"Buch\"\n",
    "    \n",
    "    # Verbs with Subcategorization\n",
    "    V[SUBCAT=0] -> \"schlaeft\"\n",
    "    V[SUBCAT=1] -> \"kennt\"\n",
    "    V[SUBCAT=2] -> \"gibt\" | \"schenkt\"\n",
    "    V[SUBCAT=datverb] -> \"gefaellt\"\n",
    "\n",
    "    # Special rule for verbs like \"gefaellt\" that take a dative subject\n",
    "    S -> NP[CASE=dat] VP[SUBCAT=datverb] NP[CASE=nom]\n",
    "\"\"\")\n",
    "\n",
    "parser = nltk.FeatureChartParser(grammar)"
   ]
  },
  {
   "cell_type": "code",
   "execution_count": 586,
   "metadata": {},
   "outputs": [
    {
     "name": "stdout",
     "output_type": "stream",
     "text": [
      "no parse found for: das Mann schlaeft\n",
      "no parse found for: der Mann schlaeft das Buch\n",
      "no parse found for: die Frau gefaellt das Buch\n",
      "no parse found for: den Mann schlaeft\n",
      "no parse found for: die Frau gibt das Buch\n"
     ]
    }
   ],
   "source": [
    "for sent in neg_sents:\n",
    "    trees = list(parser.parse(sent.split()))\n",
    "    if trees: [show_FeatTree(tree, style=1) for tree in trees]\n",
    "    else: print(f\"no parse found for: {sent}\")"
   ]
  },
  {
   "cell_type": "code",
   "execution_count": 587,
   "metadata": {},
   "outputs": [
    {
     "name": "stdout",
     "output_type": "stream",
     "text": [
      "FOUND PARSE:\n",
      " (S[]   (NP[CASE='nom', GEN='neut']     (DET[CASE='nom', GEN='neut'] das)     (NOM[CASE='nom', GEN='neut'] (N[CASE='nom', GEN='neut'] Buch)))   (VP[]     (V[SUBCAT='datverb'] gefaellt)     (NP[CASE='dat', GEN='fem']       (DET[CASE='dat', GEN='fem'] der)       (NOM[CASE='dat', GEN='fem'] (N[CASE='dat', GEN='fem'] Frau)))))\n",
      "FOUND PARSE:\n",
      " (S[]   (NP[CASE='nom', GEN='neut']     (DET[CASE='nom', GEN='neut'] das)     (NOM[CASE='nom', GEN='neut'] (N[CASE='nom', GEN='neut'] Buch)))   (VP[]     (V[SUBCAT=1] kennt)     (NP[CASE='akk', GEN='fem']       (DET[CASE='akk', GEN='fem'] die)       (NOM[CASE='akk', GEN='fem'] (N[CASE='akk', GEN='fem'] Frau)))))\n",
      "FOUND PARSE:\n",
      " (S[]   (NP[CASE='nom', GEN='mask']     (DET[CASE='nom', GEN='mask'] der)     (NOM[CASE='nom', GEN='mask'] (N[CASE='nom', GEN='mask'] Mann)))   (VP[]     (V[SUBCAT=2] gibt)     (NP[CASE='dat', GEN='fem']       (DET[CASE='dat', GEN='fem'] der)       (NOM[CASE='dat', GEN='fem'] (N[CASE='dat', GEN='fem'] Frau)))     (NP[CASE='akk', GEN='neut']       (DET[CASE='akk', GEN='neut'] das)       (NOM[CASE='akk', GEN='neut'] (N[CASE='akk', GEN='neut'] Buch)))))\n"
     ]
    }
   ],
   "source": [
    "for sent in pos_sents:\n",
    "    trees = list(parser.parse(sent.split()))\n",
    "    if trees: [show_FeatTree(tree, style=1, draw=0) for tree in trees]\n",
    "    else: print(f\"no parse found for: {sent}\")"
   ]
  },
  {
   "cell_type": "markdown",
   "metadata": {},
   "source": [
    "#### Testsätze für invertierte Wortstellung (Bedingung 3):"
   ]
  },
  {
   "cell_type": "code",
   "execution_count": 588,
   "metadata": {},
   "outputs": [],
   "source": [
    "pos_inv_sents = [\n",
    "    \"den Mann kennt die Frau\",\n",
    "    \"die Frau kennt der Mann\",\n",
    "    \"der Frau gibt der Mann das Buch\",\n",
    "    \"das Buch gibt der Mann der Frau\"\n",
    "]"
   ]
  },
  {
   "cell_type": "code",
   "execution_count": 589,
   "metadata": {},
   "outputs": [
    {
     "name": "stdout",
     "output_type": "stream",
     "text": [
      "no parse found for: den Mann kennt die Frau\n",
      "no parse found for: die Frau kennt der Mann\n",
      "no parse found for: der Frau gibt der Mann das Buch\n",
      "no parse found for: das Buch gibt der Mann der Frau\n"
     ]
    }
   ],
   "source": [
    "for sent in pos_inv_sents:\n",
    "    trees = list(parser.parse(sent.split()))\n",
    "    if trees: [show_FeatTree(tree, style=1, draw=0) for tree in trees]\n",
    "    else: print(f\"no parse found for: {sent}\")"
   ]
  },
  {
   "cell_type": "markdown",
   "metadata": {},
   "source": [
    "### c) Kasus und Subkategorisierung mit Slash-Kategorie\n",
    "\n",
    "#### Wiederholen Sie die Modellierung für Kasusbedingungen über ein INV-Feature für die invertierte VP bei transitiven Verben und eines Gap-Features (Slash-Kategorie) für die an das Satzende gestellte Objekt-NP.\n"
   ]
  },
  {
   "cell_type": "code",
   "execution_count": 590,
   "metadata": {},
   "outputs": [],
   "source": [
    "grammar = FeatureGrammar.fromstring(r\"\"\"\n",
    "\n",
    "# Main Sentence Rules\n",
    "S[SLASH=?s] -> NP[CASE=nom] VP[SLASH=?s]\n",
    "S[SLASH=[NP[CASE=akk]]] -> NP[CASE=akk] VP[SLASH=[]]\n",
    "S[SLASH=[], SUBCAT=datverb] -> NP[CASE=dat] VP[SUBCAT=datverb, SLASH=[]] NP[CASE=nom]\n",
    "\n",
    "# VP Rules (Fix for Ditransitive Verbs)\n",
    "VP[SUBCAT=2, SLASH=?s] -> V[SUBCAT=2] NP[CASE=dat] NP[CASE=akk]\n",
    "VP[SUBCAT=1, SLASH=?s] -> V[SUBCAT=1] NP[CASE=akk]\n",
    "VP[SUBCAT=0, SLASH=?s] -> V[SUBCAT=0]\n",
    "VP[SUBCAT=datverb, SLASH=?s] -> V[SUBCAT=datverb] NP[CASE=dat]\n",
    "\n",
    "# Handling Object Movement (Slash Feature)\n",
    "VP[INV='+', SLASH=?s] -> V[SUBCAT=1] NP[CASE=akk]\n",
    "VP[INV='-', SLASH=[NP[CASE=akk]]] -> V[SUBCAT=1] NP[SLASH=[NP[CASE=akk]]]\n",
    "\n",
    "# NP Definitions\n",
    "NP[GEN=?g, CASE=?c] -> DET[GEN=?g, CASE=?c] NOM[GEN=?g, CASE=?c]\n",
    "NOM[GEN=?g, CASE=?c] -> N[GEN=?g, CASE=?c]\n",
    "NP[SLASH=[NP[CASE=akk]]] -> []\n",
    "\n",
    "# Determiners\n",
    "DET[CASE=nom, GEN=mask] -> \"der\"\n",
    "DET[CASE=akk, GEN=mask] -> \"den\"\n",
    "DET[CASE=dat, GEN=mask] -> \"dem\"\n",
    "DET[CASE=nom, GEN=fem] -> \"die\"\n",
    "DET[CASE=akk, GEN=fem] -> \"die\"\n",
    "DET[CASE=dat, GEN=fem] -> \"der\"\n",
    "DET[CASE=nom, GEN=neut] -> \"das\"\n",
    "DET[CASE=akk, GEN=neut] -> \"das\"\n",
    "DET[CASE=dat, GEN=neut] -> \"dem\"\n",
    "\n",
    "# Nouns\n",
    "N[CASE=nom, GEN=mask] -> \"Mann\"\n",
    "N[CASE=akk, GEN=mask] -> \"Mann\"\n",
    "N[CASE=dat, GEN=mask] -> \"Mann\"\n",
    "N[CASE=nom, GEN=fem] -> \"Frau\"\n",
    "N[CASE=akk, GEN=fem] -> \"Frau\"\n",
    "N[CASE=dat, GEN=fem] -> \"Frau\"\n",
    "N[CASE=nom, GEN=neut] -> \"Buch\"\n",
    "N[CASE=akk, GEN=neut] -> \"Buch\"\n",
    "N[CASE=dat, GEN=neut] -> \"Buch\"\n",
    "\n",
    "# Verbs\n",
    "V[SUBCAT=0] -> \"schlaeft\"\n",
    "V[SUBCAT=1] -> \"kennt\"\n",
    "V[SUBCAT=2] -> \"gibt\" | \"schenkt\"\n",
    "V[SUBCAT=datverb] -> \"gefaellt\"\n",
    "\"\"\")\n",
    "   \n",
    "parser = nltk.FeatureChartParser(grammar)   "
   ]
  },
  {
   "cell_type": "code",
   "execution_count": 591,
   "metadata": {
    "scrolled": true
   },
   "outputs": [
    {
     "name": "stdout",
     "output_type": "stream",
     "text": [
      "FOUND PARSE:\n",
      " (S[SLASH=[NP[CASE='akk']]]   (NP[CASE='akk', GEN='mask']     (DET[CASE='akk', GEN='mask'] den)     (NOM[CASE='akk', GEN='mask'] (N[CASE='akk', GEN='mask'] Mann)))   (VP[INV='+', SLASH=?s]     (V[SUBCAT=1] kennt)     (NP[CASE='akk', GEN='fem']       (DET[CASE='akk', GEN='fem'] die)       (NOM[CASE='akk', GEN='fem'] (N[CASE='akk', GEN='fem'] Frau)))))\n",
      "FOUND PARSE:\n",
      " (S[SLASH=[NP[CASE='akk']]]   (NP[CASE='akk', GEN='mask']     (DET[CASE='akk', GEN='mask'] den)     (NOM[CASE='akk', GEN='mask'] (N[CASE='akk', GEN='mask'] Mann)))   (VP[SLASH=?s, SUBCAT=1]     (V[SUBCAT=1] kennt)     (NP[CASE='akk', GEN='fem']       (DET[CASE='akk', GEN='fem'] die)       (NOM[CASE='akk', GEN='fem'] (N[CASE='akk', GEN='fem'] Frau)))))\n",
      "FOUND PARSE:\n",
      " (S[SLASH=[NP[CASE='akk']]]   (NP[CASE='nom', GEN='fem']     (DET[CASE='nom', GEN='fem'] die)     (NOM[CASE='nom', GEN='fem'] (N[CASE='nom', GEN='fem'] Frau)))   (VP[INV='-', SLASH=[NP[CASE='akk']]]     (V[SUBCAT=1] kennt)     (NP[CASE='nom', GEN='mask']       (DET[CASE='nom', GEN='mask'] der)       (NOM[CASE='nom', GEN='mask'] (N[CASE='nom', GEN='mask'] Mann)))))\n",
      "no parse found for: der Frau gibt der Mann das Buch\n",
      "no parse found for: das Buch gibt der Mann der Frau\n"
     ]
    }
   ],
   "source": [
    "for sent in pos_inv_sents:\n",
    "    trees = list(parser.parse(sent.split()))                       \n",
    "    if trees: [show_FeatTree(tree, style=1, draw=0) for tree in trees]\n",
    "    else: print(f\"no parse found for: {sent}\")"
   ]
  },
  {
   "cell_type": "code",
   "execution_count": 592,
   "metadata": {},
   "outputs": [
    {
     "name": "stdout",
     "output_type": "stream",
     "text": [
      "no parse found for: das Mann schlaeft\n",
      "no parse found for: der Mann schlaeft das Buch\n",
      "no parse found for: die Frau gefaellt das Buch\n"
     ]
    },
    {
     "data": {
      "image/svg+xml": [
       "<svg baseProfile=\"full\" height=\"216px\" preserveAspectRatio=\"xMidYMid meet\" style=\"font-family: times, serif; font-weight: normal; font-style: normal; font-size: 16px\" version=\"1.1\" viewBox=\"0,0,632.0,216.0\" width=\"632px\" xmlns=\"http://www.w3.org/2000/svg\" xmlns:ev=\"http://www.w3.org/2001/xml-events\" xmlns:xlink=\"http://www.w3.org/1999/xlink\"><defs /><svg width=\"100%\" x=\"0\" y=\"0px\"><defs /><text text-anchor=\"middle\" x=\"50%\" y=\"16px\">S[SLASH=[NP[CASE='akk']]]</text></svg><svg width=\"70.8861%\" x=\"0%\" y=\"48px\"><defs /><svg width=\"100%\" x=\"0\" y=\"0px\"><defs /><text text-anchor=\"middle\" x=\"50%\" y=\"16px\">NP[CASE='akk',GEN='mask']</text></svg><svg width=\"50%\" x=\"0%\" y=\"48px\"><defs /><svg width=\"100%\" x=\"0\" y=\"0px\"><defs /><text text-anchor=\"middle\" x=\"50%\" y=\"16px\">DET[CASE='akk',GEN='mask']</text></svg><svg width=\"100%\" x=\"0%\" y=\"48px\"><defs /><svg width=\"100%\" x=\"0\" y=\"0px\"><defs /><text text-anchor=\"middle\" x=\"50%\" y=\"16px\">den</text></svg></svg><line stroke=\"black\" x1=\"50%\" x2=\"50%\" y1=\"20px\" y2=\"48px\" /></svg><line stroke=\"black\" x1=\"50%\" x2=\"25%\" y1=\"20px\" y2=\"48px\" /><svg width=\"50%\" x=\"50%\" y=\"48px\"><defs /><svg width=\"100%\" x=\"0\" y=\"0px\"><defs /><text text-anchor=\"middle\" x=\"50%\" y=\"16px\">NOM[CASE='akk',GEN='mask']</text></svg><svg width=\"100%\" x=\"0%\" y=\"48px\"><defs /><svg width=\"100%\" x=\"0\" y=\"0px\"><defs /><text text-anchor=\"middle\" x=\"50%\" y=\"16px\">N[CASE='akk',GEN='mask']</text></svg><svg width=\"100%\" x=\"0%\" y=\"48px\"><defs /><svg width=\"100%\" x=\"0\" y=\"0px\"><defs /><text text-anchor=\"middle\" x=\"50%\" y=\"16px\">Mann</text></svg></svg><line stroke=\"black\" x1=\"50%\" x2=\"50%\" y1=\"20px\" y2=\"48px\" /></svg><line stroke=\"black\" x1=\"50%\" x2=\"50%\" y1=\"20px\" y2=\"48px\" /></svg><line stroke=\"black\" x1=\"50%\" x2=\"75%\" y1=\"20px\" y2=\"48px\" /></svg><line stroke=\"black\" x1=\"50%\" x2=\"35.443%\" y1=\"20px\" y2=\"48px\" /><svg width=\"29.1139%\" x=\"70.8861%\" y=\"48px\"><defs /><svg width=\"100%\" x=\"0\" y=\"0px\"><defs /><text text-anchor=\"middle\" x=\"50%\" y=\"16px\">VP[SLASH=?s,SUBCAT=0]</text></svg><svg width=\"100%\" x=\"0%\" y=\"48px\"><defs /><svg width=\"100%\" x=\"0\" y=\"0px\"><defs /><text text-anchor=\"middle\" x=\"50%\" y=\"16px\">V[SUBCAT=0]</text></svg><svg width=\"100%\" x=\"0%\" y=\"48px\"><defs /><svg width=\"100%\" x=\"0\" y=\"0px\"><defs /><text text-anchor=\"middle\" x=\"50%\" y=\"16px\">schlaeft</text></svg></svg><line stroke=\"black\" x1=\"50%\" x2=\"50%\" y1=\"20px\" y2=\"48px\" /></svg><line stroke=\"black\" x1=\"50%\" x2=\"50%\" y1=\"20px\" y2=\"48px\" /></svg><line stroke=\"black\" x1=\"50%\" x2=\"85.443%\" y1=\"20px\" y2=\"48px\" /></svg>"
      ],
      "text/plain": [
       "Tree(\"S[SLASH=[NP[CASE='akk']]]\", [Tree(\"NP[CASE='akk',GEN='mask']\", [Tree(\"DET[CASE='akk',GEN='mask']\", ['den']), Tree(\"NOM[CASE='akk',GEN='mask']\", [Tree(\"N[CASE='akk',GEN='mask']\", ['Mann'])])]), Tree('VP[SLASH=?s,SUBCAT=0]', [Tree('V[SUBCAT=0]', ['schlaeft'])])])"
      ]
     },
     "metadata": {},
     "output_type": "display_data"
    },
    {
     "name": "stdout",
     "output_type": "stream",
     "text": [
      "no parse found for: die Frau gibt das Buch\n"
     ]
    }
   ],
   "source": [
    "for sent in neg_sents:\n",
    "    trees = list(parser.parse(sent.split()))\n",
    "    if trees: [show_FeatTree(tree, style=1) for tree in trees]\n",
    "    else: print(f\"no parse found for: {sent}\")"
   ]
  },
  {
   "cell_type": "code",
   "execution_count": 593,
   "metadata": {},
   "outputs": [
    {
     "name": "stdout",
     "output_type": "stream",
     "text": [
      "FOUND PARSE:\n",
      " (S[SLASH=[NP[CASE='akk']]]   (NP[CASE='akk', GEN='neut']     (DET[CASE='akk', GEN='neut'] das)     (NOM[CASE='akk', GEN='neut'] (N[CASE='akk', GEN='neut'] Buch)))   (VP[SLASH=?s, SUBCAT='datverb']     (V[SUBCAT='datverb'] gefaellt)     (NP[CASE='dat', GEN='fem']       (DET[CASE='dat', GEN='fem'] der)       (NOM[CASE='dat', GEN='fem'] (N[CASE='dat', GEN='fem'] Frau)))))\n",
      "FOUND PARSE:\n",
      " (S[SLASH=?s]   (NP[CASE='nom', GEN='neut']     (DET[CASE='nom', GEN='neut'] das)     (NOM[CASE='nom', GEN='neut'] (N[CASE='nom', GEN='neut'] Buch)))   (VP[SLASH=?s, SUBCAT='datverb']     (V[SUBCAT='datverb'] gefaellt)     (NP[CASE='dat', GEN='fem']       (DET[CASE='dat', GEN='fem'] der)       (NOM[CASE='dat', GEN='fem'] (N[CASE='dat', GEN='fem'] Frau)))))\n",
      "FOUND PARSE:\n",
      " (S[SLASH=[NP[CASE='akk']]]   (NP[CASE='nom', GEN='neut']     (DET[CASE='nom', GEN='neut'] das)     (NOM[CASE='nom', GEN='neut'] (N[CASE='nom', GEN='neut'] Buch)))   (VP[INV='-', SLASH=[NP[CASE='akk']]]     (V[SUBCAT=1] kennt)     (NP[CASE='akk', GEN='fem']       (DET[CASE='akk', GEN='fem'] die)       (NOM[CASE='akk', GEN='fem'] (N[CASE='akk', GEN='fem'] Frau)))))\n",
      "FOUND PARSE:\n",
      " (S[SLASH=[NP[CASE='akk']]]   (NP[CASE='nom', GEN='neut']     (DET[CASE='nom', GEN='neut'] das)     (NOM[CASE='nom', GEN='neut'] (N[CASE='nom', GEN='neut'] Buch)))   (VP[INV='-', SLASH=[NP[CASE='akk']]]     (V[SUBCAT=1] kennt)     (NP[CASE='nom', GEN='fem']       (DET[CASE='nom', GEN='fem'] die)       (NOM[CASE='nom', GEN='fem'] (N[CASE='nom', GEN='fem'] Frau)))))\n",
      "FOUND PARSE:\n",
      " (S[SLASH=[NP[CASE='akk']]]   (NP[CASE='akk', GEN='neut']     (DET[CASE='akk', GEN='neut'] das)     (NOM[CASE='akk', GEN='neut'] (N[CASE='akk', GEN='neut'] Buch)))   (VP[INV='+', SLASH=?s]     (V[SUBCAT=1] kennt)     (NP[CASE='akk', GEN='fem']       (DET[CASE='akk', GEN='fem'] die)       (NOM[CASE='akk', GEN='fem'] (N[CASE='akk', GEN='fem'] Frau)))))\n",
      "FOUND PARSE:\n",
      " (S[SLASH=[NP[CASE='akk']]]   (NP[CASE='akk', GEN='neut']     (DET[CASE='akk', GEN='neut'] das)     (NOM[CASE='akk', GEN='neut'] (N[CASE='akk', GEN='neut'] Buch)))   (VP[SLASH=?s, SUBCAT=1]     (V[SUBCAT=1] kennt)     (NP[CASE='akk', GEN='fem']       (DET[CASE='akk', GEN='fem'] die)       (NOM[CASE='akk', GEN='fem'] (N[CASE='akk', GEN='fem'] Frau)))))\n",
      "FOUND PARSE:\n",
      " (S[SLASH=?s]   (NP[CASE='nom', GEN='neut']     (DET[CASE='nom', GEN='neut'] das)     (NOM[CASE='nom', GEN='neut'] (N[CASE='nom', GEN='neut'] Buch)))   (VP[INV='+', SLASH=?s]     (V[SUBCAT=1] kennt)     (NP[CASE='akk', GEN='fem']       (DET[CASE='akk', GEN='fem'] die)       (NOM[CASE='akk', GEN='fem'] (N[CASE='akk', GEN='fem'] Frau)))))\n",
      "FOUND PARSE:\n",
      " (S[SLASH=?s]   (NP[CASE='nom', GEN='neut']     (DET[CASE='nom', GEN='neut'] das)     (NOM[CASE='nom', GEN='neut'] (N[CASE='nom', GEN='neut'] Buch)))   (VP[SLASH=?s, SUBCAT=1]     (V[SUBCAT=1] kennt)     (NP[CASE='akk', GEN='fem']       (DET[CASE='akk', GEN='fem'] die)       (NOM[CASE='akk', GEN='fem'] (N[CASE='akk', GEN='fem'] Frau)))))\n",
      "FOUND PARSE:\n",
      " (S[SLASH=?s]   (NP[CASE='nom', GEN='mask']     (DET[CASE='nom', GEN='mask'] der)     (NOM[CASE='nom', GEN='mask'] (N[CASE='nom', GEN='mask'] Mann)))   (VP[SLASH=?s, SUBCAT=2]     (V[SUBCAT=2] gibt)     (NP[CASE='dat', GEN='fem']       (DET[CASE='dat', GEN='fem'] der)       (NOM[CASE='dat', GEN='fem'] (N[CASE='dat', GEN='fem'] Frau)))     (NP[CASE='akk', GEN='neut']       (DET[CASE='akk', GEN='neut'] das)       (NOM[CASE='akk', GEN='neut'] (N[CASE='akk', GEN='neut'] Buch)))))\n"
     ]
    }
   ],
   "source": [
    "for sent in pos_sents:\n",
    "    trees = list(parser.parse(sent.split()))\n",
    "    if trees: [show_FeatTree(tree, style=1, draw=0) for tree in trees]\n",
    "    else: print(f\"no parse found for: {sent}\")"
   ]
  },
  {
   "cell_type": "markdown",
   "metadata": {},
   "source": [
    "### d) Plural-Agreement für Subjekt und Verb\n",
    "\n",
    "#### Ergänzen Sie die Grammatik aus b) um die Möglichkeit, das Subjekt in den Plural zu setzen.\n",
    "\n",
    "#### Dafür müssen Sie folgendes tun:\n",
    "  1. Erstellen Sie lexikalische Regeln für Pluralformen der Verben und Substantive (Nominativ ist ausreichend.).\n",
    "  1. Vervollständigen Sie die lexikalischen Regeln für die Form des Artikels *die* um die korrekte Merkmalstruktur für den Plural.\n",
    "  1. Formulieren Sie eine Kongruenzbedingung in Numerus zwischen Verb und Subjekt."
   ]
  },
  {
   "cell_type": "code",
   "execution_count": 594,
   "metadata": {},
   "outputs": [],
   "source": [
    "pos_sents = [   \n",
    "    \"das Buch gefaellt der Frau\",\n",
    "    \"das Buch kennt die Frau\",\n",
    "    \"der Mann gibt der Frau das Buch\",\n",
    "    \n",
    "    \"die Maenner geben der Frau das Buch\",\n",
    "    \"die Bücher gefallen der Frau\",\n",
    "    \"die Frauen schlafen\"\n",
    "]\n",
    "\n",
    "neg_sents = [\n",
    "    \"das Mann schlaeft\",\n",
    "    \"der Mann schlaeft das Buch\",\n",
    "    \"die Frau gefaellt das Buch\",\n",
    "    \"den Mann schlaeft\",\n",
    "    \"die Frau gibt das Buch\",\n",
    "    \n",
    "    \"der Mann geben der Frau das Buch\",\n",
    "    \"das Buch gefaellt der Frauen\",\n",
    "    \"die Frauen schlaeft\"\n",
    "]"
   ]
  },
  {
   "cell_type": "code",
   "execution_count": 595,
   "metadata": {},
   "outputs": [],
   "source": [
    "grammar = FeatureGrammar.fromstring(r\"\"\"\n",
    "\n",
    "# Main Sentence Rules\n",
    "S[SLASH=?s, NUM=?num] -> NP[CASE=nom, NUM=?num] VP[SLASH=?s, NUM=?num]\n",
    "S[SLASH=[NP[CASE=akk]]] -> NP[CASE=akk, NUM=?num] VP[SLASH=[], NUM=?num]\n",
    "S[SLASH=[], SUBCAT=datverb] -> NP[CASE=dat, NUM=?num] VP[SUBCAT=datverb, SLASH=[], NUM=?num] NP[CASE=nom, NUM=?num]\n",
    "\n",
    "# VP Rules (Fix for Ditransitive Verbs)\n",
    "VP[SUBCAT=2, SLASH=?s, NUM=?num] -> V[SUBCAT=2, NUM=?num] NP[CASE=dat, NUM=?num] NP[CASE=akk, NUM=?num]\n",
    "VP[SUBCAT=2, SLASH=[NP[CASE=akk]], NUM=?num] -> V[SUBCAT=2, NUM=?num] NP[CASE=dat, NUM=?num] NP[SLASH=[NP[CASE=akk]]]\n",
    "VP[SUBCAT=1, SLASH=?s, NUM=?num] -> V[SUBCAT=1, NUM=?num] NP[CASE=akk, NUM=?num]\n",
    "VP[SUBCAT=0, SLASH=?s, NUM=?num] -> V[SUBCAT=0, NUM=?num]\n",
    "VP[SUBCAT=datverb, SLASH=?s, NUM=?num] -> V[SUBCAT=datverb, NUM=?num] NP[CASE=dat, NUM=?num]\n",
    "\n",
    "# Handling Object Movement (Slash Feature)\n",
    "VP[INV='+', SLASH=?s, NUM=?num] -> V[SUBCAT=1, NUM=?num] NP[CASE=akk, NUM=?num]\n",
    "VP[INV='-', SLASH=[NP[CASE=akk]], NUM=?num] -> V[SUBCAT=1, NUM=?num] NP[SLASH=[NP[CASE=akk]]]\n",
    "\n",
    "# NP Definitions\n",
    "NP[GEN=?g, CASE=?c, NUM=?num] -> DET[GEN=?g, CASE=?c, NUM=?num] NOM[GEN=?g, CASE=?c, NUM=?num]\n",
    "NOM[GEN=?g, CASE=?c, NUM=?num] -> N[GEN=?g, CASE=?c, NUM=?num]\n",
    "NP[SLASH=[NP[CASE=akk]]] -> []\n",
    "\n",
    "# Determiners\n",
    "DET[CASE=nom, GEN=mask, NUM=sg] -> \"der\"\n",
    "DET[CASE=akk, GEN=mask, NUM=sg] -> \"den\"\n",
    "DET[CASE=dat, GEN=mask, NUM=sg] -> \"dem\"\n",
    "DET[CASE=nom, GEN=fem, NUM=sg] -> \"die\"\n",
    "DET[CASE=akk, GEN=fem, NUM=sg] -> \"die\"\n",
    "DET[CASE=dat, GEN=fem, NUM=sg] -> \"der\"\n",
    "DET[CASE=nom, GEN=neut, NUM=sg] -> \"das\"\n",
    "DET[CASE=akk, GEN=neut, NUM=sg] -> \"das\"\n",
    "DET[CASE=dat, GEN=neut, NUM=sg] -> \"dem\"\n",
    "DET[CASE=nom, NUM=pl] -> \"die\"\n",
    "DET[CASE=akk, NUM=pl] -> \"die\"\n",
    "DET[CASE=dat, NUM=pl] -> \"den\"\n",
    "\n",
    "# Nouns\n",
    "N[CASE=nom, GEN=mask, NUM=sg] -> \"Mann\"\n",
    "N[CASE=akk, GEN=mask, NUM=sg] -> \"Mann\"\n",
    "N[CASE=dat, GEN=mask, NUM=sg] -> \"Mann\"\n",
    "N[CASE=nom, GEN=fem, NUM=sg] -> \"Frau\"\n",
    "N[CASE=akk, GEN=fem, NUM=sg] -> \"Frau\"\n",
    "N[CASE=dat, GEN=fem, NUM=sg] -> \"Frau\"\n",
    "N[CASE=nom, GEN=neut, NUM=sg] -> \"Buch\"\n",
    "N[CASE=akk, GEN=neut, NUM=sg] -> \"Buch\"\n",
    "N[CASE=dat, GEN=neut, NUM=sg] -> \"Buch\"\n",
    "N[CASE=nom, GEN=mask, NUM=pl] -> \"Maenner\"\n",
    "N[CASE=nom, GEN=fem, NUM=pl] -> \"Frauen\"\n",
    "N[CASE=nom, GEN=neut, NUM=pl] -> \"Bücher\"\n",
    "\n",
    "# Verbs\n",
    "V[SUBCAT=0, NUM=sg] -> \"schlaeft\"\n",
    "V[SUBCAT=0, NUM=pl] -> \"schlafen\"\n",
    "V[SUBCAT=1, NUM=sg] -> \"kennt\"\n",
    "V[SUBCAT=2, NUM=sg] -> \"gibt\" | \"schenkt\"\n",
    "V[SUBCAT=2, NUM=pl] -> \"geben\"\n",
    "V[SUBCAT=datverb, NUM=sg] -> \"gefaellt\"\n",
    "V[SUBCAT=datverb, NUM=pl] -> \"gefallen\"\n",
    "\"\"\")\n",
    "   \n",
    "parser = nltk.FeatureChartParser(grammar)   "
   ]
  },
  {
   "cell_type": "code",
   "execution_count": 596,
   "metadata": {},
   "outputs": [
    {
     "name": "stdout",
     "output_type": "stream",
     "text": [
      "no parse found for: das Mann schlaeft\n",
      "no parse found for: der Mann schlaeft das Buch\n",
      "no parse found for: die Frau gefaellt das Buch\n"
     ]
    },
    {
     "data": {
      "image/svg+xml": [
       "<svg baseProfile=\"full\" height=\"216px\" preserveAspectRatio=\"xMidYMid meet\" style=\"font-family: times, serif; font-weight: normal; font-style: normal; font-size: 16px\" version=\"1.1\" viewBox=\"0,0,848.0,216.0\" width=\"848px\" xmlns=\"http://www.w3.org/2000/svg\" xmlns:ev=\"http://www.w3.org/2001/xml-events\" xmlns:xlink=\"http://www.w3.org/1999/xlink\"><defs /><svg width=\"100%\" x=\"0\" y=\"0px\"><defs /><text text-anchor=\"middle\" x=\"50%\" y=\"16px\">S[SLASH=[NP[CASE='akk']]]</text></svg><svg width=\"69.8113%\" x=\"0%\" y=\"48px\"><defs /><svg width=\"100%\" x=\"0\" y=\"0px\"><defs /><text text-anchor=\"middle\" x=\"50%\" y=\"16px\">NP[CASE='akk',GEN='mask',NUM='sg']</text></svg><svg width=\"50%\" x=\"0%\" y=\"48px\"><defs /><svg width=\"100%\" x=\"0\" y=\"0px\"><defs /><text text-anchor=\"middle\" x=\"50%\" y=\"16px\">DET[CASE='akk',GEN='mask',NUM='sg']</text></svg><svg width=\"100%\" x=\"0%\" y=\"48px\"><defs /><svg width=\"100%\" x=\"0\" y=\"0px\"><defs /><text text-anchor=\"middle\" x=\"50%\" y=\"16px\">den</text></svg></svg><line stroke=\"black\" x1=\"50%\" x2=\"50%\" y1=\"20px\" y2=\"48px\" /></svg><line stroke=\"black\" x1=\"50%\" x2=\"25%\" y1=\"20px\" y2=\"48px\" /><svg width=\"50%\" x=\"50%\" y=\"48px\"><defs /><svg width=\"100%\" x=\"0\" y=\"0px\"><defs /><text text-anchor=\"middle\" x=\"50%\" y=\"16px\">NOM[CASE='akk',GEN='mask',NUM='sg']</text></svg><svg width=\"100%\" x=\"0%\" y=\"48px\"><defs /><svg width=\"100%\" x=\"0\" y=\"0px\"><defs /><text text-anchor=\"middle\" x=\"50%\" y=\"16px\">N[CASE='akk',GEN='mask',NUM='sg']</text></svg><svg width=\"100%\" x=\"0%\" y=\"48px\"><defs /><svg width=\"100%\" x=\"0\" y=\"0px\"><defs /><text text-anchor=\"middle\" x=\"50%\" y=\"16px\">Mann</text></svg></svg><line stroke=\"black\" x1=\"50%\" x2=\"50%\" y1=\"20px\" y2=\"48px\" /></svg><line stroke=\"black\" x1=\"50%\" x2=\"50%\" y1=\"20px\" y2=\"48px\" /></svg><line stroke=\"black\" x1=\"50%\" x2=\"75%\" y1=\"20px\" y2=\"48px\" /></svg><line stroke=\"black\" x1=\"50%\" x2=\"34.9057%\" y1=\"20px\" y2=\"48px\" /><svg width=\"30.1887%\" x=\"69.8113%\" y=\"48px\"><defs /><svg width=\"100%\" x=\"0\" y=\"0px\"><defs /><text text-anchor=\"middle\" x=\"50%\" y=\"16px\">VP[NUM='sg',SLASH=?s,SUBCAT=0]</text></svg><svg width=\"100%\" x=\"0%\" y=\"48px\"><defs /><svg width=\"100%\" x=\"0\" y=\"0px\"><defs /><text text-anchor=\"middle\" x=\"50%\" y=\"16px\">V[NUM='sg',SUBCAT=0]</text></svg><svg width=\"100%\" x=\"0%\" y=\"48px\"><defs /><svg width=\"100%\" x=\"0\" y=\"0px\"><defs /><text text-anchor=\"middle\" x=\"50%\" y=\"16px\">schlaeft</text></svg></svg><line stroke=\"black\" x1=\"50%\" x2=\"50%\" y1=\"20px\" y2=\"48px\" /></svg><line stroke=\"black\" x1=\"50%\" x2=\"50%\" y1=\"20px\" y2=\"48px\" /></svg><line stroke=\"black\" x1=\"50%\" x2=\"84.9057%\" y1=\"20px\" y2=\"48px\" /></svg>"
      ],
      "text/plain": [
       "Tree(\"S[SLASH=[NP[CASE='akk']]]\", [Tree(\"NP[CASE='akk',GEN='mask',NUM='sg']\", [Tree(\"DET[CASE='akk',GEN='mask',NUM='sg']\", ['den']), Tree(\"NOM[CASE='akk',GEN='mask',NUM='sg']\", [Tree(\"N[CASE='akk',GEN='mask',NUM='sg']\", ['Mann'])])]), Tree(\"VP[NUM='sg',SLASH=?s,SUBCAT=0]\", [Tree(\"V[NUM='sg',SUBCAT=0]\", ['schlaeft'])])])"
      ]
     },
     "metadata": {},
     "output_type": "display_data"
    },
    {
     "name": "stdout",
     "output_type": "stream",
     "text": [
      "no parse found for: die Frau gibt das Buch\n",
      "no parse found for: der Mann geben der Frau das Buch\n",
      "no parse found for: das Buch gefaellt der Frauen\n",
      "no parse found for: die Frauen schlaeft\n"
     ]
    }
   ],
   "source": [
    "for sent in neg_sents:\n",
    "    trees = list(parser.parse(sent.split()))\n",
    "    if trees: [show_FeatTree(tree, style=1) for tree in trees]\n",
    "    else: print(f\"no parse found for: {sent}\")"
   ]
  },
  {
   "cell_type": "code",
   "execution_count": 597,
   "metadata": {},
   "outputs": [
    {
     "name": "stdout",
     "output_type": "stream",
     "text": [
      "FOUND PARSE:\n",
      " (S[SLASH=[NP[CASE='akk']]]   (NP[CASE='akk', GEN='neut', NUM='sg']     (DET[CASE='akk', GEN='neut', NUM='sg'] das)     (NOM[CASE='akk', GEN='neut', NUM='sg']       (N[CASE='akk', GEN='neut', NUM='sg'] Buch)))   (VP[NUM='sg', SLASH=?s, SUBCAT='datverb']     (V[NUM='sg', SUBCAT='datverb'] gefaellt)     (NP[CASE='dat', GEN='fem', NUM='sg']       (DET[CASE='dat', GEN='fem', NUM='sg'] der)       (NOM[CASE='dat', GEN='fem', NUM='sg']         (N[CASE='dat', GEN='fem', NUM='sg'] Frau)))))\n",
      "FOUND PARSE:\n",
      " (S[NUM='sg', SLASH=?s]   (NP[CASE='nom', GEN='neut', NUM='sg']     (DET[CASE='nom', GEN='neut', NUM='sg'] das)     (NOM[CASE='nom', GEN='neut', NUM='sg']       (N[CASE='nom', GEN='neut', NUM='sg'] Buch)))   (VP[NUM='sg', SLASH=?s, SUBCAT='datverb']     (V[NUM='sg', SUBCAT='datverb'] gefaellt)     (NP[CASE='dat', GEN='fem', NUM='sg']       (DET[CASE='dat', GEN='fem', NUM='sg'] der)       (NOM[CASE='dat', GEN='fem', NUM='sg']         (N[CASE='dat', GEN='fem', NUM='sg'] Frau)))))\n",
      "FOUND PARSE:\n",
      " (S[NUM='sg', SLASH=[NP[CASE='akk']]]   (NP[CASE='nom', GEN='neut', NUM='sg']     (DET[CASE='nom', GEN='neut', NUM='sg'] das)     (NOM[CASE='nom', GEN='neut', NUM='sg']       (N[CASE='nom', GEN='neut', NUM='sg'] Buch)))   (VP[INV='-', NUM='sg', SLASH=[NP[CASE='akk']]]     (V[NUM='sg', SUBCAT=1] kennt)     (NP[CASE='akk', GEN='fem', NUM='sg']       (DET[CASE='akk', GEN='fem', NUM='sg'] die)       (NOM[CASE='akk', GEN='fem', NUM='sg']         (N[CASE='akk', GEN='fem', NUM='sg'] Frau)))))\n",
      "FOUND PARSE:\n",
      " (S[NUM='sg', SLASH=[NP[CASE='akk']]]   (NP[CASE='nom', GEN='neut', NUM='sg']     (DET[CASE='nom', GEN='neut', NUM='sg'] das)     (NOM[CASE='nom', GEN='neut', NUM='sg']       (N[CASE='nom', GEN='neut', NUM='sg'] Buch)))   (VP[INV='-', NUM='sg', SLASH=[NP[CASE='akk']]]     (V[NUM='sg', SUBCAT=1] kennt)     (NP[CASE='nom', GEN='fem', NUM='sg']       (DET[CASE='nom', GEN='fem', NUM='sg'] die)       (NOM[CASE='nom', GEN='fem', NUM='sg']         (N[CASE='nom', GEN='fem', NUM='sg'] Frau)))))\n",
      "FOUND PARSE:\n",
      " (S[SLASH=[NP[CASE='akk']]]   (NP[CASE='akk', GEN='neut', NUM='sg']     (DET[CASE='akk', GEN='neut', NUM='sg'] das)     (NOM[CASE='akk', GEN='neut', NUM='sg']       (N[CASE='akk', GEN='neut', NUM='sg'] Buch)))   (VP[INV='+', NUM='sg', SLASH=?s]     (V[NUM='sg', SUBCAT=1] kennt)     (NP[CASE='akk', GEN='fem', NUM='sg']       (DET[CASE='akk', GEN='fem', NUM='sg'] die)       (NOM[CASE='akk', GEN='fem', NUM='sg']         (N[CASE='akk', GEN='fem', NUM='sg'] Frau)))))\n",
      "FOUND PARSE:\n",
      " (S[SLASH=[NP[CASE='akk']]]   (NP[CASE='akk', GEN='neut', NUM='sg']     (DET[CASE='akk', GEN='neut', NUM='sg'] das)     (NOM[CASE='akk', GEN='neut', NUM='sg']       (N[CASE='akk', GEN='neut', NUM='sg'] Buch)))   (VP[NUM='sg', SLASH=?s, SUBCAT=1]     (V[NUM='sg', SUBCAT=1] kennt)     (NP[CASE='akk', GEN='fem', NUM='sg']       (DET[CASE='akk', GEN='fem', NUM='sg'] die)       (NOM[CASE='akk', GEN='fem', NUM='sg']         (N[CASE='akk', GEN='fem', NUM='sg'] Frau)))))\n",
      "FOUND PARSE:\n",
      " (S[NUM='sg', SLASH=?s]   (NP[CASE='nom', GEN='neut', NUM='sg']     (DET[CASE='nom', GEN='neut', NUM='sg'] das)     (NOM[CASE='nom', GEN='neut', NUM='sg']       (N[CASE='nom', GEN='neut', NUM='sg'] Buch)))   (VP[INV='+', NUM='sg', SLASH=?s]     (V[NUM='sg', SUBCAT=1] kennt)     (NP[CASE='akk', GEN='fem', NUM='sg']       (DET[CASE='akk', GEN='fem', NUM='sg'] die)       (NOM[CASE='akk', GEN='fem', NUM='sg']         (N[CASE='akk', GEN='fem', NUM='sg'] Frau)))))\n",
      "FOUND PARSE:\n",
      " (S[NUM='sg', SLASH=?s]   (NP[CASE='nom', GEN='neut', NUM='sg']     (DET[CASE='nom', GEN='neut', NUM='sg'] das)     (NOM[CASE='nom', GEN='neut', NUM='sg']       (N[CASE='nom', GEN='neut', NUM='sg'] Buch)))   (VP[NUM='sg', SLASH=?s, SUBCAT=1]     (V[NUM='sg', SUBCAT=1] kennt)     (NP[CASE='akk', GEN='fem', NUM='sg']       (DET[CASE='akk', GEN='fem', NUM='sg'] die)       (NOM[CASE='akk', GEN='fem', NUM='sg']         (N[CASE='akk', GEN='fem', NUM='sg'] Frau)))))\n",
      "FOUND PARSE:\n",
      " (S[NUM='sg', SLASH=[NP[CASE='akk']]]   (NP[CASE='nom', GEN='mask', NUM='sg']     (DET[CASE='nom', GEN='mask', NUM='sg'] der)     (NOM[CASE='nom', GEN='mask', NUM='sg']       (N[CASE='nom', GEN='mask', NUM='sg'] Mann)))   (VP[NUM='sg', SLASH=[NP[CASE='akk']], SUBCAT=2]     (V[NUM='sg', SUBCAT=2] gibt)     (NP[CASE='dat', GEN='fem', NUM='sg']       (DET[CASE='dat', GEN='fem', NUM='sg'] der)       (NOM[CASE='dat', GEN='fem', NUM='sg']         (N[CASE='dat', GEN='fem', NUM='sg'] Frau)))     (NP[CASE='akk', GEN='neut', NUM='sg']       (DET[CASE='akk', GEN='neut', NUM='sg'] das)       (NOM[CASE='akk', GEN='neut', NUM='sg']         (N[CASE='akk', GEN='neut', NUM='sg'] Buch)))))\n",
      "FOUND PARSE:\n",
      " (S[NUM='sg', SLASH=[NP[CASE='akk']]]   (NP[CASE='nom', GEN='mask', NUM='sg']     (DET[CASE='nom', GEN='mask', NUM='sg'] der)     (NOM[CASE='nom', GEN='mask', NUM='sg']       (N[CASE='nom', GEN='mask', NUM='sg'] Mann)))   (VP[NUM='sg', SLASH=[NP[CASE='akk']], SUBCAT=2]     (V[NUM='sg', SUBCAT=2] gibt)     (NP[CASE='dat', GEN='fem', NUM='sg']       (DET[CASE='dat', GEN='fem', NUM='sg'] der)       (NOM[CASE='dat', GEN='fem', NUM='sg']         (N[CASE='dat', GEN='fem', NUM='sg'] Frau)))     (NP[CASE='nom', GEN='neut', NUM='sg']       (DET[CASE='nom', GEN='neut', NUM='sg'] das)       (NOM[CASE='nom', GEN='neut', NUM='sg']         (N[CASE='nom', GEN='neut', NUM='sg'] Buch)))))\n",
      "FOUND PARSE:\n",
      " (S[NUM='sg', SLASH=?s]   (NP[CASE='nom', GEN='mask', NUM='sg']     (DET[CASE='nom', GEN='mask', NUM='sg'] der)     (NOM[CASE='nom', GEN='mask', NUM='sg']       (N[CASE='nom', GEN='mask', NUM='sg'] Mann)))   (VP[NUM='sg', SLASH=?s, SUBCAT=2]     (V[NUM='sg', SUBCAT=2] gibt)     (NP[CASE='dat', GEN='fem', NUM='sg']       (DET[CASE='dat', GEN='fem', NUM='sg'] der)       (NOM[CASE='dat', GEN='fem', NUM='sg']         (N[CASE='dat', GEN='fem', NUM='sg'] Frau)))     (NP[CASE='akk', GEN='neut', NUM='sg']       (DET[CASE='akk', GEN='neut', NUM='sg'] das)       (NOM[CASE='akk', GEN='neut', NUM='sg']         (N[CASE='akk', GEN='neut', NUM='sg'] Buch)))))\n",
      "no parse found for: die Maenner geben der Frau das Buch\n",
      "no parse found for: die Bücher gefallen der Frau\n",
      "FOUND PARSE:\n",
      " (S[NUM='pl', SLASH=?s]   (NP[CASE='nom', GEN='fem', NUM='pl']     (DET[CASE='nom', NUM='pl'] die)     (NOM[CASE='nom', GEN='fem', NUM='pl']       (N[CASE='nom', GEN='fem', NUM='pl'] Frauen)))   (VP[NUM='pl', SLASH=?s, SUBCAT=0] (V[NUM='pl', SUBCAT=0] schlafen)))\n"
     ]
    }
   ],
   "source": [
    "for sent in pos_sents:\n",
    "    trees = list(parser.parse(sent.split()))\n",
    "    if trees: [show_FeatTree(tree, style=1, draw=0) for tree in trees]\n",
    "    else: print(f\"no parse found for: {sent}\")"
   ]
  }
 ],
 "metadata": {
  "kernelspec": {
   "display_name": "Python 3",
   "language": "python",
   "name": "python3"
  },
  "language_info": {
   "codemirror_mode": {
    "name": "ipython",
    "version": 3
   },
   "file_extension": ".py",
   "mimetype": "text/x-python",
   "name": "python",
   "nbconvert_exporter": "python",
   "pygments_lexer": "ipython3",
   "version": "3.12.6"
  }
 },
 "nbformat": 4,
 "nbformat_minor": 2
}
